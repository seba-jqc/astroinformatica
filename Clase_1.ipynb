{
 "cells": [
  {
   "cell_type": "markdown",
   "metadata": {},
   "source": [
    "# AstroInformatica"
   ]
  },
  {
   "cell_type": "markdown",
   "metadata": {},
   "source": [
    "* Francisco Forster\n",
    "* Patricio Rojo\n",
    "* Juan Carlos Maureira\n"
   ]
  },
  {
   "cell_type": "markdown",
   "metadata": {},
   "source": [
    "**Bibliografia**\n",
    "\n",
    "* *Statistics, Data Mining, and Machine learning in Astronomy*, Ivezic, Connolly, VanderPlas & Gray\n",
    "* *Modern Statistical Methods for Astronomy*, Feigelson & Babu\n",
    "* *Machine Learning, A Probabilistic Perspective*, Murphy\n",
    "* *Introduction to high performance scientific computing*, Eijkhout\n",
    "* *Data science from scratch*, Grus\n"
   ]
  },
  {
   "cell_type": "markdown",
   "metadata": {},
   "source": [
    "**Evaluacion**\n",
    "\n",
    "* Cuestionarios semanales (CS)\n",
    "* Tareas (T)\n",
    "* Proyecto final (PF)\n",
    "* Nota final (NF):\n",
    "\n",
    "NF = 0.3 x CS + 0.3 x T + 0.4 x PF"
   ]
  },
  {
   "cell_type": "markdown",
   "metadata": {},
   "source": [
    "## Python \n",
    "\n"
   ]
  },
  {
   "cell_type": "markdown",
   "metadata": {},
   "source": [
    "$ python\n",
    "Python 2.7.12 |Continuum Analytics, Inc.| (default, Jul  2 2016, 17:42:40)  <--------- Versión de Python\n",
    "[GCC 4.4.7 20120313 (Red Hat 4.4.7-1)] on linux2\n",
    "Type \"help\", \"copyright\", \"credits\" or \"license\" for more information.\n",
    "Anaconda is brought to you by Continuum Analytics.\n",
    "Please check out: http://continuum.io/thanks and https://anaconda.org\n",
    ">>> "
   ]
  },
  {
   "cell_type": "markdown",
   "metadata": {},
   "source": [
    "$ ipython\n",
    "Python 2.7.13 (default, Jan 19 2017, 14:48:08)\n",
    "Type \"copyright\", \"credits\" or \"license\" for more information.\n",
    "\n",
    "IPython 5.1.0 -- An enhanced Interactive Python.\n",
    "?         -> Introduction and overview of IPython's features.\n",
    "%quickref -> Quick reference.\n",
    "help      -> Python's own help system.\n",
    "object?   -> Details about 'object', use 'object??' for extra details.\n",
    "\n",
    "In [1]:"
   ]
  },
  {
   "cell_type": "markdown",
   "metadata": {},
   "source": [
    "## IDE & Plataformas\n",
    "\n",
    "VNC - ssh tunnel\n",
    "\n",
    "jupyter\n",
    "\n",
    "pycharm\n",
    "https://www.jetbrains.com/pycharm/"
   ]
  },
  {
   "cell_type": "markdown",
   "metadata": {},
   "source": [
    "## Python 2 / Python 3\n",
    "\n",
    "* print function\n",
    "* execfile\n",
    "* division entero\n",
    "* exception()\n",
    "* newclass\n"
   ]
  },
  {
   "cell_type": "markdown",
   "metadata": {},
   "source": [
    "Lista, tipos"
   ]
  },
  {
   "cell_type": "code",
   "execution_count": 1,
   "metadata": {
    "collapsed": true
   },
   "outputs": [],
   "source": [
    "from  __future__ import print_function, division"
   ]
  },
  {
   "cell_type": "code",
   "execution_count": 12,
   "metadata": {
    "collapsed": false
   },
   "outputs": [
    {
     "name": "stdout",
     "output_type": "stream",
     "text": [
      "['', 'C:\\\\Users\\\\Patricio\\\\Documents\\\\astro\\\\prg', 'C:\\\\Users\\\\Patricio\\\\AppData\\\\Local\\\\Enthought\\\\Canopy\\\\User\\\\Scripts\\\\python27.zip', 'C:\\\\Users\\\\Patricio\\\\AppData\\\\Local\\\\Enthought\\\\Canopy\\\\App\\\\appdata\\\\canopy-1.6.2.3262.win-x86_64\\\\DLLs', 'C:\\\\Users\\\\Patricio\\\\AppData\\\\Local\\\\Enthought\\\\Canopy\\\\App\\\\appdata\\\\canopy-1.6.2.3262.win-x86_64\\\\lib', 'C:\\\\Users\\\\Patricio\\\\AppData\\\\Local\\\\Enthought\\\\Canopy\\\\App\\\\appdata\\\\canopy-1.6.2.3262.win-x86_64\\\\lib\\\\plat-win', 'C:\\\\Users\\\\Patricio\\\\AppData\\\\Local\\\\Enthought\\\\Canopy\\\\App\\\\appdata\\\\canopy-1.6.2.3262.win-x86_64\\\\lib\\\\lib-tk', 'C:\\\\Users\\\\Patricio\\\\AppData\\\\Local\\\\Enthought\\\\Canopy\\\\App\\\\appdata\\\\canopy-1.6.2.3262.win-x86_64', 'C:\\\\Users\\\\Patricio\\\\AppData\\\\Local\\\\Enthought\\\\Canopy\\\\User', 'C:\\\\Users\\\\Patricio\\\\AppData\\\\Local\\\\Enthought\\\\Canopy\\\\User\\\\lib\\\\site-packages', 'C:\\\\Users\\\\Patricio\\\\AppData\\\\Local\\\\Enthought\\\\Canopy\\\\User\\\\lib\\\\site-packages\\\\win32', 'C:\\\\Users\\\\Patricio\\\\AppData\\\\Local\\\\Enthought\\\\Canopy\\\\User\\\\lib\\\\site-packages\\\\win32\\\\lib', 'C:\\\\Users\\\\Patricio\\\\AppData\\\\Local\\\\Enthought\\\\Canopy\\\\User\\\\lib\\\\site-packages\\\\Pythonwin', 'C:\\\\Users\\\\Patricio\\\\AppData\\\\Local\\\\Enthought\\\\Canopy\\\\App\\\\appdata', 'C:\\\\Users\\\\Patricio\\\\AppData\\\\Local\\\\Enthought\\\\Canopy\\\\App\\\\appdata\\\\canopy-1.6.2.3262.win-x86_64\\\\lib\\\\site-packages', 'C:\\\\Users\\\\Patricio\\\\AppData\\\\Local\\\\Enthought\\\\Canopy\\\\User\\\\lib\\\\site-packages\\\\IPython\\\\extensions', 'C:\\\\Users\\\\Patricio\\\\.ipython']\n"
     ]
    }
   ],
   "source": [
    "import sys\n",
    "print(sys.path)"
   ]
  },
  {
   "cell_type": "code",
   "execution_count": 6,
   "metadata": {
    "collapsed": true
   },
   "outputs": [],
   "source": [
    "tupla = (5,)\n",
    "lista = [5]"
   ]
  },
  {
   "cell_type": "code",
   "execution_count": 8,
   "metadata": {
    "collapsed": false
   },
   "outputs": [
    {
     "name": "stdout",
     "output_type": "stream",
     "text": [
      "5\n",
      "5\n"
     ]
    }
   ],
   "source": [
    "print(tupla[0])\n",
    "print(lista[0])\n"
   ]
  },
  {
   "cell_type": "code",
   "execution_count": 11,
   "metadata": {
    "collapsed": false
   },
   "outputs": [
    {
     "ename": "TypeError",
     "evalue": "'tuple' object does not support item assignment",
     "output_type": "error",
     "traceback": [
      "\u001b[1;31m---------------------------------------------------------------------------\u001b[0m",
      "\u001b[1;31mTypeError\u001b[0m                                 Traceback (most recent call last)",
      "\u001b[1;32m<ipython-input-11-8cd90781df2f>\u001b[0m in \u001b[0;36m<module>\u001b[1;34m()\u001b[0m\n\u001b[1;32m----> 1\u001b[1;33m \u001b[0mtupla\u001b[0m\u001b[1;33m[\u001b[0m\u001b[1;36m0\u001b[0m\u001b[1;33m]\u001b[0m\u001b[1;33m=\u001b[0m\u001b[1;36m2\u001b[0m\u001b[1;33m\u001b[0m\u001b[0m\n\u001b[0m",
      "\u001b[1;31mTypeError\u001b[0m: 'tuple' object does not support item assignment"
     ]
    }
   ],
   "source": [
    "tupla[0]=2"
   ]
  },
  {
   "cell_type": "code",
   "execution_count": 2,
   "metadata": {
    "collapsed": true
   },
   "outputs": [],
   "source": [
    "a=[5]\n"
   ]
  },
  {
   "cell_type": "code",
   "execution_count": 3,
   "metadata": {
    "collapsed": false
   },
   "outputs": [
    {
     "ename": "TypeError",
     "evalue": "can only concatenate list (not \"int\") to list",
     "output_type": "error",
     "traceback": [
      "\u001b[1;31m---------------------------------------------------------------------------\u001b[0m",
      "\u001b[1;31mTypeError\u001b[0m                                 Traceback (most recent call last)",
      "\u001b[1;32m<ipython-input-3-d86cfef2ffa6>\u001b[0m in \u001b[0;36m<module>\u001b[1;34m()\u001b[0m\n\u001b[1;32m----> 1\u001b[1;33m \u001b[0ma\u001b[0m\u001b[1;33m+\u001b[0m\u001b[1;36m2\u001b[0m\u001b[1;33m\u001b[0m\u001b[0m\n\u001b[0m",
      "\u001b[1;31mTypeError\u001b[0m: can only concatenate list (not \"int\") to list"
     ]
    }
   ],
   "source": [
    "a+2"
   ]
  },
  {
   "cell_type": "code",
   "execution_count": 55,
   "metadata": {
    "collapsed": false
   },
   "outputs": [
    {
     "data": {
      "text/plain": [
       "[5, 2]"
      ]
     },
     "execution_count": 55,
     "metadata": {},
     "output_type": "execute_result"
    }
   ],
   "source": [
    "a+[2]"
   ]
  },
  {
   "cell_type": "code",
   "execution_count": 14,
   "metadata": {
    "collapsed": false
   },
   "outputs": [
    {
     "name": "stdout",
     "output_type": "stream",
     "text": [
      "[5]\n",
      "[11]\n"
     ]
    }
   ],
   "source": [
    "import scipy as sp\n",
    "\n",
    "a=sp.array([5])\n",
    "b=sp.array([6])\n",
    "print(a)\n",
    "print(a+b)"
   ]
  },
  {
   "cell_type": "code",
   "execution_count": 15,
   "metadata": {
    "collapsed": false
   },
   "outputs": [
    {
     "ename": "IndexError",
     "evalue": "list assignment index out of range",
     "output_type": "error",
     "traceback": [
      "\u001b[1;31m---------------------------------------------------------------------------\u001b[0m",
      "\u001b[1;31mIndexError\u001b[0m                                Traceback (most recent call last)",
      "\u001b[1;32m<ipython-input-15-f9d004c4ac78>\u001b[0m in \u001b[0;36m<module>\u001b[1;34m()\u001b[0m\n\u001b[0;32m      1\u001b[0m \u001b[0ma\u001b[0m\u001b[1;33m=\u001b[0m\u001b[1;33m[\u001b[0m\u001b[1;36m4\u001b[0m\u001b[1;33m]\u001b[0m\u001b[1;33m\u001b[0m\u001b[0m\n\u001b[1;32m----> 2\u001b[1;33m \u001b[0ma\u001b[0m\u001b[1;33m[\u001b[0m\u001b[1;36m1\u001b[0m\u001b[1;33m]\u001b[0m \u001b[1;33m=\u001b[0m \u001b[1;36m3\u001b[0m\u001b[1;33m\u001b[0m\u001b[0m\n\u001b[0m",
      "\u001b[1;31mIndexError\u001b[0m: list assignment index out of range"
     ]
    }
   ],
   "source": [
    "a=[4]\n",
    "a[1] = 3"
   ]
  },
  {
   "cell_type": "code",
   "execution_count": 17,
   "metadata": {
    "collapsed": false
   },
   "outputs": [
    {
     "name": "stdout",
     "output_type": "stream",
     "text": [
      "[5, [3, 5, 6]]\n"
     ]
    }
   ],
   "source": [
    "a=[5]\n",
    "a.append([3,5,6])\n",
    "print(a)"
   ]
  },
  {
   "cell_type": "code",
   "execution_count": 18,
   "metadata": {
    "collapsed": false
   },
   "outputs": [
    {
     "name": "stdout",
     "output_type": "stream",
     "text": [
      "[5, 3, 5, 6]\n"
     ]
    }
   ],
   "source": [
    "a=[5]\n",
    "a.extend([3,5,6])\n",
    "print(a)"
   ]
  },
  {
   "cell_type": "code",
   "execution_count": 20,
   "metadata": {
    "collapsed": true
   },
   "outputs": [],
   "source": [
    "b={'item1':1,\n",
    "  'item2':2,\n",
    "  5:0}"
   ]
  },
  {
   "cell_type": "code",
   "execution_count": 21,
   "metadata": {
    "collapsed": true
   },
   "outputs": [],
   "source": [
    "b['item3'] =10"
   ]
  },
  {
   "cell_type": "code",
   "execution_count": 22,
   "metadata": {
    "collapsed": false
   },
   "outputs": [
    {
     "name": "stdout",
     "output_type": "stream",
     "text": [
      "{'item2': 2, 'item3': 10, 'item1': 1, 5: 0}\n"
     ]
    }
   ],
   "source": [
    "print(b)"
   ]
  },
  {
   "cell_type": "code",
   "execution_count": 1,
   "metadata": {
    "collapsed": true
   },
   "outputs": [],
   "source": [
    "import matplotlib.pyplot as plt\n",
    "%matplotlib inline\n",
    "import scipy as sp"
   ]
  },
  {
   "cell_type": "code",
   "execution_count": 23,
   "metadata": {
    "collapsed": false
   },
   "outputs": [
    {
     "name": "stdout",
     "output_type": "stream",
     "text": [
      "Hello world\n",
      "Bye world\n",
      "Hello you\n"
     ]
    }
   ],
   "source": [
    "def fcn(greetings=\"Hello\", name=\"world\"):\n",
    "    a=5\n",
    "    print(\"{} {}\".format(greetings, name))\n",
    "    \n",
    "fcn()\n",
    "fcn(\"Bye\")\n",
    "fcn(name=\"you\")"
   ]
  },
  {
   "cell_type": "code",
   "execution_count": 9,
   "metadata": {
    "collapsed": false
   },
   "outputs": [
    {
     "name": "stdout",
     "output_type": "stream",
     "text": [
      "Hello world. world00008\n",
      "Bye world. world00008\n",
      "Hello you. you00008\n"
     ]
    }
   ],
   "source": [
    "def fcn2(greetings=\"Hello\", name=\"world\"):\n",
    "    print(\"{greet:s} {nm}. {nm}{integer:05d}\".format(nm=name, greet=greetings, integer=8))        #repeat kw\n",
    "    \n",
    "fcn2()\n",
    "fcn2(\"Bye\")\n",
    "fcn2(name=\"you\")"
   ]
  },
  {
   "cell_type": "markdown",
   "metadata": {},
   "source": [
    "pop() with a default"
   ]
  },
  {
   "cell_type": "code",
   "execution_count": 12,
   "metadata": {
    "collapsed": false
   },
   "outputs": [
    {
     "name": "stdout",
     "output_type": "stream",
     "text": [
      "***\n",
      " arg1: 1\n",
      " args: ('jjj',)\n",
      " kwargs: {}\n",
      " greetings: Hello world\n",
      "\n",
      "***\n",
      " arg1: 1\n",
      " args: ()\n",
      " kwargs: {}\n",
      " greetings: Bye\n",
      "\n"
     ]
    }
   ],
   "source": [
    "def fcn3(arg1, *args, **kwargs):\n",
    "    greetings = kwargs.pop('greetings', \"Hello world\")\n",
    "    print (\"***\\n arg1: {}\\n args: {}\\n kwargs: {}\\n greetings: {}\\n\".format(arg1, args, kwargs, greetings))\n",
    "#fcn3()\n",
    "fcn3(1,\"jjj\")\n",
    "fcn3(1, greetings='Bye')"
   ]
  },
  {
   "cell_type": "code",
   "execution_count": 13,
   "metadata": {
    "collapsed": false
   },
   "outputs": [
    {
     "name": "stdout",
     "output_type": "stream",
     "text": [
      "***\n",
      " arg1: {'foo': 1, 'bar': 2, 'greetings': 'Bye'}\n",
      " args: ()\n",
      " kwargs: {}\n",
      " greetings: Hello world\n",
      "\n"
     ]
    }
   ],
   "source": [
    "dictionary = {'foo': 1,\n",
    "             'bar':2,\n",
    "             'greetings': 'Bye'}\n",
    "fcn3(dictionary)"
   ]
  },
  {
   "cell_type": "code",
   "execution_count": 14,
   "metadata": {
    "collapsed": false
   },
   "outputs": [
    {
     "name": "stdout",
     "output_type": "stream",
     "text": [
      "***\n",
      " arg1: 1\n",
      " args: ({'foo': 1, 'bar': 2, 'greetings': 'Bye'},)\n",
      " kwargs: {}\n",
      " greetings: Hello world\n",
      "\n"
     ]
    }
   ],
   "source": [
    "fcn3(1, dictionary)"
   ]
  },
  {
   "cell_type": "code",
   "execution_count": 15,
   "metadata": {
    "collapsed": false
   },
   "outputs": [
    {
     "name": "stdout",
     "output_type": "stream",
     "text": [
      "***\n",
      " arg1: 1\n",
      " args: ()\n",
      " kwargs: {'foo': 1, 'bar': 2}\n",
      " greetings: Bye\n",
      "\n"
     ]
    }
   ],
   "source": [
    "fcn3(1, **dictionary)"
   ]
  },
  {
   "cell_type": "code",
   "execution_count": 25,
   "metadata": {
    "collapsed": false
   },
   "outputs": [
    {
     "name": "stdout",
     "output_type": "stream",
     "text": [
      "[1]\n",
      "[2]\n"
     ]
    }
   ],
   "source": [
    "#False vs None\n",
    "def fcn4(def1=None, def2=[]):\n",
    "    if def1 is None:\n",
    "        def1=[]\n",
    "    def1.append(1)\n",
    "    def2.append(2)\n",
    "    print(def1)\n",
    "    print(def2)\n",
    "fcn4()"
   ]
  },
  {
   "cell_type": "code",
   "execution_count": 28,
   "metadata": {
    "collapsed": false
   },
   "outputs": [
    {
     "name": "stdout",
     "output_type": "stream",
     "text": [
      "[1]\n",
      "[2, 2, 2, 2]\n"
     ]
    }
   ],
   "source": [
    "fcn4()"
   ]
  }
 ],
 "metadata": {
  "kernelspec": {
   "display_name": "Python [Root]",
   "language": "python",
   "name": "Python [Root]"
  },
  "language_info": {
   "codemirror_mode": {
    "name": "ipython",
    "version": 2
   },
   "file_extension": ".py",
   "mimetype": "text/x-python",
   "name": "python",
   "nbconvert_exporter": "python",
   "pygments_lexer": "ipython2",
   "version": "2.7.12"
  }
 },
 "nbformat": 4,
 "nbformat_minor": 0
}
