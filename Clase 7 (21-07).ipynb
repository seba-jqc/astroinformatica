{
 "cells": [
  {
   "cell_type": "markdown",
   "metadata": {},
   "source": [
    "# Clase 7 (21/08)"
   ]
  },
  {
   "cell_type": "code",
   "execution_count": null,
   "metadata": {
    "collapsed": true
   },
   "outputs": [],
   "source": [
    "import scipy as sp\n",
    "import matplolib.pyplot as plt\n",
    "from matplotlib import gridspec\n",
    "import seaborn\n",
    "%matplotlib inline "
   ]
  },
  {
   "cell_type": "markdown",
   "metadata": {},
   "source": [
    "# Momentos\n",
    "\n",
    "Uso como estimadores \n",
    "\n",
    "Location: M1 (Estimador para localizacion)<br>\n",
    "Scale: M2 (Estimador de escala)<br> \n",
    "Skewness: M3 (Estimador de simetria) <br>\n",
    "Kurtosis: M4 (Estimador de \"Achatamiento\")<br> \n",
    "\n",
    "Uso de momentos para distribucion gaussiana (En otras distribuciones Python no puede computar los momentos) -> Uso de estimadores robustos para determinar los 4 valores mencionados<br>\n",
    "\n",
    "Distribucion de Cauchy -> obtenido al dividir dos (gaussianas), centradas en 0 (uso en fotometría, al dividir el flujo entre dos estrellas cuyo ruido se asume gaussiano)<br>\n",
    "*No se sabe de a ciencia cierta lo ocurrido al dividir dos gaussianas no centradas en 0\n",
    "\n",
    "Distribucion de T.student (parametro extra: Grados de libertad) -> Uso de TLC para una muestra pequeña. Similar a gaussiana, pero con distinto valor de kurtosis\n",
    "\n",
    "Distribucion F -> comparacion entre escalas de dos distribuciones"
   ]
  },
  {
   "cell_type": "code",
   "execution_count": null,
   "metadata": {
    "collapsed": true
   },
   "outputs": [],
   "source": []
  },
  {
   "cell_type": "code",
   "execution_count": null,
   "metadata": {
    "collapsed": true
   },
   "outputs": [],
   "source": []
  }
 ],
 "metadata": {
  "kernelspec": {
   "display_name": "Python [Root]",
   "language": "python",
   "name": "Python [Root]"
  },
  "language_info": {
   "codemirror_mode": {
    "name": "ipython",
    "version": 2
   },
   "file_extension": ".py",
   "mimetype": "text/x-python",
   "name": "python",
   "nbconvert_exporter": "python",
   "pygments_lexer": "ipython2",
   "version": "2.7.12"
  }
 },
 "nbformat": 4,
 "nbformat_minor": 0
}
