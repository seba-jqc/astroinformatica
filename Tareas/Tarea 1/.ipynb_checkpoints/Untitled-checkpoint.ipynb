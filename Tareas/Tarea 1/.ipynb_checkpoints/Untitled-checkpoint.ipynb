{
 "cells": [
  {
   "cell_type": "code",
   "execution_count": 23,
   "metadata": {
    "collapsed": true
   },
   "outputs": [],
   "source": [
    "import scipy as sp\n",
    "import matplotlib.pyplot as plt\n",
    "import threading\n",
    "%matplotlib inline"
   ]
  },
  {
   "cell_type": "code",
   "execution_count": 3,
   "metadata": {
    "collapsed": false
   },
   "outputs": [],
   "source": [
    "def phot_generator(T):\n",
    "    # Esta funcion genera un cierto numero de fotones, representados por un numero 1, dentro de un intervalo de tiempo T\n",
    "    # cada foton es emitido X milisegundos despues del anterior, donde X es una variable aleatoria \n",
    "    a = sp.array([])\n",
    "    import time\n",
    "    start = time.time()\n",
    "    while time.time()-start < T:\n",
    "        X = sp.random.laplace()\n",
    "        a = sp.append(a, 1)\n",
    "        time.sleep(abs(X))\n",
    "    return a"
   ]
  },
  {
   "cell_type": "code",
   "execution_count": null,
   "metadata": {
    "collapsed": false
   },
   "outputs": [],
   "source": [
    "N_repet = 200\n",
    "photon_count = sp.zeros(N_repet)\n",
    "for i in range(N_repet):\n",
    "    sp.random.seed(i)\n",
    "    photons = phot_generator(10)\n",
    "    photon_count[i] = len(photons)\n",
    "    \n",
    "fig, ax = plt.subplots()\n",
    "ax.hist(photon_count, bins = 20, normed = False, alpha = 0.5, cumulative = False, lw = 0)\n",
    "ax.set_xlabel(\"Numero de fotones\")\n",
    "ax.set_ylabel(\"Frecuencia\")\n",
    "ax.set_title(\"grafico para 100 repeticiones del generador de fotones\")"
   ]
  },
  {
   "cell_type": "markdown",
   "metadata": {},
   "source": [
    "# Pregunta 2"
   ]
  },
  {
   "cell_type": "code",
   "execution_count": null,
   "metadata": {
    "collapsed": true
   },
   "outputs": [],
   "source": [
    "data = sp.genfromtxt(\"exoplanet.eu_catalog.dat\", dtype=None, names=True)\n"
   ]
  }
 ],
 "metadata": {
  "kernelspec": {
   "display_name": "Python [Root]",
   "language": "python",
   "name": "Python [Root]"
  },
  "language_info": {
   "codemirror_mode": {
    "name": "ipython",
    "version": 2
   },
   "file_extension": ".py",
   "mimetype": "text/x-python",
   "name": "python",
   "nbconvert_exporter": "python",
   "pygments_lexer": "ipython2",
   "version": "2.7.12"
  }
 },
 "nbformat": 4,
 "nbformat_minor": 0
}
