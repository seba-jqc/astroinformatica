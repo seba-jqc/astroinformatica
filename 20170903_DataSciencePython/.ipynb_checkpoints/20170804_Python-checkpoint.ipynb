{
 "cells": [
  {
   "cell_type": "markdown",
   "metadata": {
    "nbpresent": {
     "id": "3df251f9-a0f9-48d9-926d-9fa8232f8e57"
    },
    "slideshow": {
     "slide_type": "slide"
    }
   },
   "source": [
    "# Astroinformática AS4501\n",
    "## Semestre primavera 2017\n",
    "## Clase 1\n",
    "\n",
    "\n",
    "# Profesores\n",
    "* Patricio Rojo (PR)\n",
    "* Francisco Förster (FF)\n",
    "* Guillermo Cabrera (GC)\n",
    "* Juan Carlos Maureira (JCM)\n",
    "* Pablo Huijse (PH)\n",
    "\n",
    "### Tópicos\n",
    "\n",
    "* Ciencia de los datos con Python (FF)\n",
    "* Distribuciones de probabilidad (PR)\n",
    "* Adquisición de datos (PR)\n",
    "* Virtual Observatory (AB)\n",
    "* Análisis espacial (FF)\n",
    "* Series de tiempo (PR)\n",
    "* Computación de alto rendimiento (JCM)\n",
    "* Aprendizaje de máquinas (GC)\n",
    "* Proyectos (3 semanas)\n",
    "\n",
    "### Evaluación\n",
    "\n",
    "* Cuestionarios semanales (CS)\n",
    "* Tareas (T)\n",
    "* Proyecto final (PF)\n",
    "\n",
    "* Nota final (NF):\n",
    "\n",
    "    NF = 0.3 x CS + 0.3 x T + 0.4 x PF\n",
    "    \n",
    "### Harvard Chile Data Science School\n",
    "\n",
    "4 estudiantes elegidos de entre los alumnos del curso de astroinformática (http://www.hcds.cl)\n",
    "\n",
    "![alt text](hcds.png \"Title\")"
   ]
  },
  {
   "cell_type": "markdown",
   "metadata": {
    "nbpresent": {
     "id": "5bcb5aa8-a75e-4147-b220-a2bd9da5b7d3"
    }
   },
   "source": [
    "### Bibliografía\n",
    "\n",
    "* *Statistics, Data Mining, and Machine learning in Astronomy*, Ivezic, Connolly, VanderPlas & Gray\n",
    "![alt text](Ivezic+.jpg \"Title\")\n",
    "* *Modern Statistical Methods for Astronomy*, Feigelson & Babu\n",
    "![alt text](feigelson.jpg \"Title\")\n",
    "* *Machine Learning, A Probabilistic Perspective*, Murphy\n",
    "![alt text](murphy.jpg \"Title\")\n",
    "* *Introduction to high performance scientific computing*, Eijkhout\n",
    "![alt text](eijkhout.jpg \"Title\")\n",
    "* *Data science from scratch*, Grus\n",
    "![alt text](Grus.jpg \"Title\")"
   ]
  },
  {
   "cell_type": "markdown",
   "metadata": {
    "nbpresent": {
     "id": "243f67cb-2875-497c-bc18-09d2cec001c1"
    },
    "slideshow": {
     "slide_type": "slide"
    }
   },
   "source": [
    "\n",
    "# Introducción a la ciencia de los datos con Python"
   ]
  },
  {
   "cell_type": "markdown",
   "metadata": {
    "nbpresent": {
     "id": "701bd861-6144-466a-b992-79cb3c796cb7"
    }
   },
   "source": [
    "Método más simple\n",
    "\n",
    "    1. Instalar Anaconda (python + conda + módulos para data science más importantes)\n",
    "       ó \n",
    "    2. Instalar miniconda (python + conda)\n",
    "    "
   ]
  },
  {
   "cell_type": "raw",
   "metadata": {
    "nbpresent": {
     "id": "d04dacc9-bc17-4c8a-9941-0ec91fbcb6cf"
    }
   },
   "source": [
    "$ python\n",
    "Python 2.7.12 |Continuum Analytics, Inc.| (default, Jul  2 2016, 17:42:40)  <--------- Versión de Python\n",
    "[GCC 4.4.7 20120313 (Red Hat 4.4.7-1)] on linux2\n",
    "Type \"help\", \"copyright\", \"credits\" or \"license\" for more information.\n",
    "Anaconda is brought to you by Continuum Analytics.\n",
    "Please check out: http://continuum.io/thanks and https://anaconda.org\n",
    ">>> "
   ]
  },
  {
   "cell_type": "markdown",
   "metadata": {
    "nbpresent": {
     "id": "51120c2d-6de3-46b7-b9f2-06eda02d268e"
    }
   },
   "source": [
    "### Módulos importantes\n",
    "1. jupyter (aka ipython notebooks)\n",
    "2. numpy (numerical)\n",
    "3. pandas (data structures)\n",
    "4. scipy (scientific library)\n",
    "5. matplotlib (plotting)\n",
    "6. scikit-learn (machine learning)\n",
    "7. astropy (astronomy related)\n",
    "\n",
    "\n",
    "Para agregar módulos:\n",
    "\n",
    "    conda install módulo\n",
    "\n",
    "Lista completa de módulos en https://docs.continuum.io/anaconda/pkg-docs\n"
   ]
  },
  {
   "cell_type": "markdown",
   "metadata": {
    "nbpresent": {
     "id": "2e1ad7c5-eb36-4012-b8dd-6c0a817de57b"
    }
   },
   "source": [
    "### Python's philosophy\n",
    "*There should be one - and preferably only one - obvious way to do it.*\n",
    "\n",
    "c.f. Perl's motto: *there's more than one way to do it*"
   ]
  },
  {
   "cell_type": "markdown",
   "metadata": {
    "nbpresent": {
     "id": "9814cd15-f624-4af0-a3e5-c4735b05a290"
    }
   },
   "source": [
    "### Python vs other languages\n",
    "\n",
    "![alt text](codeevalpop.jpg \"Title\")\n",
    "\n",
    "![alt text](benchmark.png \"Title\")\n",
    "\n",
    "![alt text](benchmark2.png \"Title\")\n",
    "\n",
    "* ver charla de Gonzalo Ríos para más información: https://www.youtube.com/watch?v=k11_2osID4o"
   ]
  },
  {
   "cell_type": "markdown",
   "metadata": {
    "nbpresent": {
     "id": "a4b7f993-b3bc-4f9e-9f6d-141b5b0d1f3b"
    }
   },
   "source": [
    "### Pros y cons\n",
    "\n",
    "1. Actualmente es prácticamente el lenguaje estándar en astronomía\n",
    "1. Buen lenguaje para prototipado, algo muy común en ciencias.\n",
    "2. Mayor ventaja es la rapidez para escribir código debido a:\n",
    "    1. orientación a objetos desde su concepción\n",
    "    2. gran abundacia de módulos\n",
    "    3. documentación (stack overflow!)\n",
    "3. Mayor desventaja es su lentitud para ejecución y uso de memoria, así como problemas para paralelización (ver GIL)\n",
    "\n",
    "No existe un lenguage de programación ideal, cada lenguage resuelve problemas diferentes. \n",
    "\n",
    "\n",
    "![alt text](languages.png \"Title\")"
   ]
  },
  {
   "cell_type": "markdown",
   "metadata": {
    "nbpresent": {
     "id": "de482069-099f-4a7d-bc61-22bdaf88c47a"
    }
   },
   "source": [
    "### Python 2 or 3?\n",
    "\n",
    "Use Python 3 if you're starting, try to move to Python 3 if you're using Python 2."
   ]
  },
  {
   "cell_type": "markdown",
   "metadata": {
    "nbpresent": {
     "id": "5a5ae745-2f64-424f-baca-2ad58fb5eeaa"
    }
   },
   "source": [
    "### How to write *pythonic* code\n",
    "\n",
    "https://gist.github.com/JeffPaine/6213790"
   ]
  },
  {
   "cell_type": "markdown",
   "metadata": {
    "nbpresent": {
     "id": "98804b71-16d1-4345-a2b1-5f71b40d455d"
    }
   },
   "source": [
    "### Formatting\n",
    "\n",
    "Python uses white space indentation (smart text editor recommended, e.g. pycharms):"
   ]
  },
  {
   "cell_type": "code",
   "execution_count": 257,
   "metadata": {
    "nbpresent": {
     "id": "d98f2372-ab32-47b3-80df-f3d76cfc0977"
    }
   },
   "outputs": [
    {
     "name": "stdout",
     "output_type": "stream",
     "text": [
      "1 1\n",
      "1 2\n",
      "1 3\n",
      "2 1\n",
      "2 2\n",
      "2 3\n",
      "3 1\n",
      "3 2\n",
      "3 3\n",
      "End\n"
     ]
    }
   ],
   "source": [
    "for i in [1, 2, 3]:\n",
    "    for j in [1, 2, 3]:\n",
    "        print(i, j)\n",
    "print(\"End\")"
   ]
  },
  {
   "cell_type": "markdown",
   "metadata": {},
   "source": [
    "\";\" can be used for a new command."
   ]
  },
  {
   "cell_type": "code",
   "execution_count": 258,
   "metadata": {},
   "outputs": [
    {
     "name": "stdout",
     "output_type": "stream",
     "text": [
      "This is the\n",
      "end.\n"
     ]
    }
   ],
   "source": [
    "print(\"This is the\"); print(\"end.\")"
   ]
  },
  {
   "cell_type": "markdown",
   "metadata": {},
   "source": [
    "\"print\" must be between parenthesis (python 3), but it can now accept different endings."
   ]
  },
  {
   "cell_type": "code",
   "execution_count": 259,
   "metadata": {},
   "outputs": [
    {
     "name": "stdout",
     "output_type": "stream",
     "text": [
      "This is the end.\n"
     ]
    }
   ],
   "source": [
    "print(\"This is the\", end=\" \"); print(\"end.\")"
   ]
  },
  {
   "cell_type": "markdown",
   "metadata": {
    "nbpresent": {
     "id": "dd7e950a-f9a1-42da-90db-c2514cf22d6d"
    }
   },
   "source": [
    "### Modules"
   ]
  },
  {
   "cell_type": "code",
   "execution_count": 260,
   "metadata": {
    "collapsed": true,
    "nbpresent": {
     "id": "414e35b4-7b88-42d4-ba7a-327f63e3e026"
    }
   },
   "outputs": [],
   "source": [
    "import re\n",
    "import matplotlib.pyplot as plt\n",
    "%matplotlib inline\n",
    "import numpy as np"
   ]
  },
  {
   "cell_type": "markdown",
   "metadata": {
    "nbpresent": {
     "id": "80cbb3c5-c3f7-46eb-b0f5-addea99f7132"
    }
   },
   "source": [
    "### Functions"
   ]
  },
  {
   "cell_type": "code",
   "execution_count": 261,
   "metadata": {
    "nbpresent": {
     "id": "6f192756-9b2c-4117-afdc-e16f1d007cab"
    }
   },
   "outputs": [
    {
     "data": {
      "text/plain": [
       "4"
      ]
     },
     "execution_count": 261,
     "metadata": {},
     "output_type": "execute_result"
    }
   ],
   "source": [
    "# very simple function\n",
    "def f(x):\n",
    "    return x**2\n",
    "f(2)"
   ]
  },
  {
   "cell_type": "code",
   "execution_count": 262,
   "metadata": {
    "nbpresent": {
     "id": "0a9b01ca-54de-4f1f-b590-a0cf20562c12"
    }
   },
   "outputs": [
    {
     "name": "stdout",
     "output_type": "stream",
     "text": [
      "4\n",
      "36\n"
     ]
    }
   ],
   "source": [
    "# function that takes function as argument, now x is an optional argument (must be at the end of the list)\n",
    "def applyf(f, x=6):\n",
    "    return f(x)\n",
    "print(applyf(f, 2))\n",
    "print(applyf(f))"
   ]
  },
  {
   "cell_type": "code",
   "execution_count": 263,
   "metadata": {
    "nbpresent": {
     "id": "3607169b-80e0-4533-8ae7-953bbb99b9ff"
    }
   },
   "outputs": [
    {
     "data": {
      "text/plain": [
       "8"
      ]
     },
     "execution_count": 263,
     "metadata": {},
     "output_type": "execute_result"
    }
   ],
   "source": [
    "# using keyword arguments (kwargs)\n",
    "def g(**kwargs):\n",
    "    x = kwargs[\"x\"]\n",
    "    y = kwargs[\"y\"]\n",
    "    return x**y\n",
    "g(x = 2, y = 3)"
   ]
  },
  {
   "cell_type": "code",
   "execution_count": 264,
   "metadata": {
    "nbpresent": {
     "id": "50b1c5fb-a612-4883-be1b-81fd5e26e659"
    }
   },
   "outputs": [
    {
     "data": {
      "text/plain": [
       "8"
      ]
     },
     "execution_count": 264,
     "metadata": {},
     "output_type": "execute_result"
    }
   ],
   "source": [
    "# Should give the same result\n",
    "g(y = 3, x = 2)"
   ]
  },
  {
   "cell_type": "code",
   "execution_count": 265,
   "metadata": {
    "nbpresent": {
     "id": "eb308646-9fa7-4a18-9933-ca64bb28b655"
    }
   },
   "outputs": [
    {
     "ename": "TypeError",
     "evalue": "g() takes 0 positional arguments but 2 were given",
     "output_type": "error",
     "traceback": [
      "\u001b[0;31m---------------------------------------------------------------------------\u001b[0m",
      "\u001b[0;31mTypeError\u001b[0m                                 Traceback (most recent call last)",
      "\u001b[0;32m<ipython-input-265-010906e971c1>\u001b[0m in \u001b[0;36m<module>\u001b[0;34m()\u001b[0m\n\u001b[1;32m      1\u001b[0m \u001b[0;31m# This should not work\u001b[0m\u001b[0;34m\u001b[0m\u001b[0;34m\u001b[0m\u001b[0m\n\u001b[0;32m----> 2\u001b[0;31m \u001b[0mg\u001b[0m\u001b[0;34m(\u001b[0m\u001b[0;36m2\u001b[0m\u001b[0;34m,\u001b[0m \u001b[0;36m6\u001b[0m\u001b[0;34m)\u001b[0m\u001b[0;34m\u001b[0m\u001b[0m\n\u001b[0m",
      "\u001b[0;31mTypeError\u001b[0m: g() takes 0 positional arguments but 2 were given"
     ]
    }
   ],
   "source": [
    "# This should not work\n",
    "g(2, 6)"
   ]
  },
  {
   "cell_type": "markdown",
   "metadata": {},
   "source": [
    "### Lambda function\n",
    "\n",
    "Anonymous functions"
   ]
  },
  {
   "cell_type": "code",
   "execution_count": 267,
   "metadata": {
    "nbpresent": {
     "id": "46466142-7ac7-484b-b83f-5e192cb3394f"
    }
   },
   "outputs": [
    {
     "data": {
      "text/plain": [
       "8"
      ]
     },
     "execution_count": 267,
     "metadata": {},
     "output_type": "execute_result"
    }
   ],
   "source": [
    "# give lambda function as argument\n",
    "applyf(lambda x: x**3, 2)"
   ]
  },
  {
   "cell_type": "markdown",
   "metadata": {
    "nbpresent": {
     "id": "81db8548-70fc-40fe-a6c8-42180542b9dc"
    }
   },
   "source": [
    "### Strings"
   ]
  },
  {
   "cell_type": "code",
   "execution_count": 268,
   "metadata": {
    "nbpresent": {
     "id": "043caa2d-e005-4328-839f-85ac5e3de158"
    }
   },
   "outputs": [
    {
     "name": "stdout",
     "output_type": "stream",
     "text": [
      "astroinformatics astroinformatics\n"
     ]
    }
   ],
   "source": [
    "s1 = \"astroinformatics\"\n",
    "s2 = 'astroinformatics'\n",
    "print(s1, s2)"
   ]
  },
  {
   "cell_type": "code",
   "execution_count": 269,
   "metadata": {
    "nbpresent": {
     "id": "5e97239b-7dcb-473b-b202-e67e97ae6a11"
    }
   },
   "outputs": [
    {
     "name": "stdout",
     "output_type": "stream",
     "text": [
      "\t \n",
      "astroinformatics\n",
      "\t \n",
      "astrostatistics\n",
      "\t \n",
      "astroinformatics \t \n",
      "astrostatistics\n"
     ]
    }
   ],
   "source": [
    "s1 = \"\\t \\nastroinformatics\"\n",
    "s2 = '\\t \\nastrostatistics'\n",
    "print(s1)\n",
    "print(s2)\n",
    "print(s1, s2)"
   ]
  },
  {
   "cell_type": "code",
   "execution_count": 270,
   "metadata": {
    "nbpresent": {
     "id": "3fcb3202-095a-450a-bbbd-958bba23e449"
    }
   },
   "outputs": [
    {
     "name": "stdout",
     "output_type": "stream",
     "text": [
      "\\t \\nastroinformatics \\t \\nastroinformatics\n"
     ]
    }
   ],
   "source": [
    "s3 = r\"\\t \\nastroinformatics\"\n",
    "s4 = r'\\t \\nastroinformatics'\n",
    "print(s3, s4)"
   ]
  },
  {
   "cell_type": "code",
   "execution_count": 279,
   "metadata": {},
   "outputs": [
    {
     "name": "stdout",
     "output_type": "stream",
     "text": [
      "4 "
     ]
    }
   ],
   "source": [
    "import time \n",
    "for i in range(5):\n",
    "    time.sleep(1.)\n",
    "    print(\"\\r%i\" % i, end = ' ')"
   ]
  },
  {
   "cell_type": "code",
   "execution_count": 280,
   "metadata": {
    "nbpresent": {
     "id": "d7443ccb-91a6-4ea8-ab58-800f8db301ca"
    }
   },
   "outputs": [
    {
     "name": "stdout",
     "output_type": "stream",
     "text": [
      "Very long sentence,\n",
      "with several lines,\n",
      "\n",
      "blank lines, etc...\n",
      "\n"
     ]
    }
   ],
   "source": [
    "s5 = \"\"\"Very long sentence,\n",
    "with several lines,\n",
    "\n",
    "blank lines, etc...\n",
    "\"\"\"\n",
    "print(s5)"
   ]
  },
  {
   "cell_type": "markdown",
   "metadata": {
    "nbpresent": {
     "id": "0bc26f2d-77d9-4a9c-ba11-b25c453eb417"
    }
   },
   "source": [
    "### Exceptions"
   ]
  },
  {
   "cell_type": "code",
   "execution_count": 281,
   "metadata": {},
   "outputs": [
    {
     "ename": "ZeroDivisionError",
     "evalue": "division by zero",
     "output_type": "error",
     "traceback": [
      "\u001b[0;31m---------------------------------------------------------------------------\u001b[0m",
      "\u001b[0;31mZeroDivisionError\u001b[0m                         Traceback (most recent call last)",
      "\u001b[0;32m<ipython-input-281-d5e4b29f0ba9>\u001b[0m in \u001b[0;36m<module>\u001b[0;34m()\u001b[0m\n\u001b[1;32m      1\u001b[0m \u001b[0;31m# This should give an error\u001b[0m\u001b[0;34m\u001b[0m\u001b[0;34m\u001b[0m\u001b[0m\n\u001b[0;32m----> 2\u001b[0;31m \u001b[0mprint\u001b[0m\u001b[0;34m(\u001b[0m\u001b[0;36m0\u001b[0m\u001b[0;34m/\u001b[0m\u001b[0;36m0\u001b[0m\u001b[0;34m)\u001b[0m\u001b[0;34m\u001b[0m\u001b[0m\n\u001b[0m",
      "\u001b[0;31mZeroDivisionError\u001b[0m: division by zero"
     ]
    }
   ],
   "source": [
    "# This should give an error\n",
    "print(0/0)"
   ]
  },
  {
   "cell_type": "code",
   "execution_count": 282,
   "metadata": {
    "nbpresent": {
     "id": "6a17dc8d-05c5-4b1d-8df8-abe8bf397834"
    }
   },
   "outputs": [
    {
     "name": "stdout",
     "output_type": "stream",
     "text": [
      "Cannot divide by zero\n"
     ]
    }
   ],
   "source": [
    "try:\n",
    "    print(0 / 0)\n",
    "except ZeroDivisionError:\n",
    "    print(\"Cannot divide by zero\")"
   ]
  },
  {
   "cell_type": "markdown",
   "metadata": {
    "nbpresent": {
     "id": "c8f28c88-baec-4387-b399-faa1fd6784a9"
    }
   },
   "source": [
    "List of exceptions:\n",
    "https://docs.python.org/2/library/exceptions.html"
   ]
  },
  {
   "cell_type": "markdown",
   "metadata": {
    "collapsed": true,
    "nbpresent": {
     "id": "8dd7aad2-a4b2-4ade-8823-0d93c5ef7850"
    }
   },
   "source": [
    "### Lists\n",
    "\n",
    "Ordered collection of objects, specified by squared brackets [ ]"
   ]
  },
  {
   "cell_type": "code",
   "execution_count": 283,
   "metadata": {
    "collapsed": true,
    "nbpresent": {
     "id": "148b61f9-2e9d-4b4f-a0c8-a616649f9a98"
    }
   },
   "outputs": [],
   "source": [
    "integers = [1, 2, 3]\n",
    "heterogeneous = [\"string\", 0.1, True]\n",
    "lists = [integers, heterogeneous, []]"
   ]
  },
  {
   "cell_type": "code",
   "execution_count": 285,
   "metadata": {
    "nbpresent": {
     "id": "5e59004b-de34-4e84-957b-91021b8a2167"
    }
   },
   "outputs": [
    {
     "name": "stdout",
     "output_type": "stream",
     "text": [
      "3 6\n"
     ]
    }
   ],
   "source": [
    "print(len(integers), sum(integers))"
   ]
  },
  {
   "cell_type": "code",
   "execution_count": 286,
   "metadata": {
    "nbpresent": {
     "id": "9fc20998-a4c2-4dc9-a0c8-083e4a77a76d"
    },
    "scrolled": true
   },
   "outputs": [
    {
     "name": "stdout",
     "output_type": "stream",
     "text": [
      "range(0, 15)\n"
     ]
    }
   ],
   "source": [
    "numbers = range(15) # notar que 15 no está incluído abajo\n",
    "print(numbers)"
   ]
  },
  {
   "cell_type": "code",
   "execution_count": 287,
   "metadata": {
    "nbpresent": {
     "id": "48f2f459-5464-4fd2-b02b-4bd9d55a49c9"
    }
   },
   "outputs": [
    {
     "name": "stdout",
     "output_type": "stream",
     "text": [
      "0\n",
      "range(0, 2) range(0, 2)\n",
      "[2, 3]\n",
      "range(2, 11)\n",
      "range(11, 15)\n",
      "range(11, 15)\n"
     ]
    }
   ],
   "source": [
    "print(numbers[0])\n",
    "print(numbers[0:2], numbers[:2])\n",
    "print(list(numbers[2:4]))\n",
    "print(numbers[2:-4])\n",
    "print(numbers[-4:15])\n",
    "print(numbers[-4:])"
   ]
  },
  {
   "cell_type": "code",
   "execution_count": 288,
   "metadata": {},
   "outputs": [
    {
     "name": "stdout",
     "output_type": "stream",
     "text": [
      "<class 'range'>\n",
      "<class 'list'>\n"
     ]
    }
   ],
   "source": [
    "print(type(numbers))\n",
    "print(type(list(numbers)))"
   ]
  },
  {
   "cell_type": "code",
   "execution_count": 289,
   "metadata": {
    "nbpresent": {
     "id": "33f3e7f1-f935-459c-8ae8-8bfbb9a90ff8"
    }
   },
   "outputs": [
    {
     "name": "stdout",
     "output_type": "stream",
     "text": [
      "True\n"
     ]
    }
   ],
   "source": [
    "print(2 in numbers)"
   ]
  },
  {
   "cell_type": "code",
   "execution_count": 290,
   "metadata": {
    "nbpresent": {
     "id": "192adf29-32ba-46de-8f60-d8cd92f39653"
    }
   },
   "outputs": [
    {
     "name": "stdout",
     "output_type": "stream",
     "text": [
      "False\n"
     ]
    }
   ],
   "source": [
    "print(15 in numbers)"
   ]
  },
  {
   "cell_type": "code",
   "execution_count": 291,
   "metadata": {},
   "outputs": [
    {
     "name": "stdout",
     "output_type": "stream",
     "text": [
      "[0, 1, 2, 3, 4]\n",
      "[0, 1, 2, 3, 4, 6]\n"
     ]
    }
   ],
   "source": [
    "numbers = list(range(5))\n",
    "print(numbers)\n",
    "numbers.append(6)\n",
    "print(numbers)"
   ]
  },
  {
   "cell_type": "code",
   "execution_count": 94,
   "metadata": {},
   "outputs": [
    {
     "name": "stdout",
     "output_type": "stream",
     "text": [
      "[0, 1, 2, 3, 4, 6, [0, 1, 2, 3, 4]]\n"
     ]
    }
   ],
   "source": [
    "newnumbers = list(numbers)\n",
    "newnumbers.append(list(range(5)))\n",
    "print(newnumbers)"
   ]
  },
  {
   "cell_type": "code",
   "execution_count": 292,
   "metadata": {
    "nbpresent": {
     "id": "8fe2529e-4dd9-4704-9e37-146b14938237"
    }
   },
   "outputs": [
    {
     "name": "stdout",
     "output_type": "stream",
     "text": [
      "[0, 1, 2, 3, 4, 6]\n",
      "[0, 1, 2, 3, 4, 6, 0, 1, 2, 3, 4]\n"
     ]
    }
   ],
   "source": [
    "print(list(numbers))\n",
    "numbers.extend(range(5))\n",
    "print(numbers)"
   ]
  },
  {
   "cell_type": "code",
   "execution_count": 293,
   "metadata": {
    "nbpresent": {
     "id": "eec77827-7625-478d-9b14-1301440a49d3"
    }
   },
   "outputs": [
    {
     "name": "stdout",
     "output_type": "stream",
     "text": [
      "[0, 0, 1, 1, 2, 2, 3, 3, 4, 4, 6]\n",
      "[0, 1, 2, 3, 4, 6, 0, 1, 2, 3, 4]\n",
      "None\n",
      "[0, 0, 1, 1, 2, 2, 3, 3, 4, 4, 6]\n"
     ]
    }
   ],
   "source": [
    "print(sorted(numbers))\n",
    "print(numbers)\n",
    "print(numbers.sort())\n",
    "print(numbers)"
   ]
  },
  {
   "cell_type": "code",
   "execution_count": 294,
   "metadata": {
    "nbpresent": {
     "id": "ab03f8f5-b407-4df2-82f1-9c3ca7437339"
    }
   },
   "outputs": [
    {
     "name": "stdout",
     "output_type": "stream",
     "text": [
      "1\n",
      "2\n"
     ]
    }
   ],
   "source": [
    "x, y = [1, 2]\n",
    "print(x)\n",
    "print(y)"
   ]
  },
  {
   "cell_type": "code",
   "execution_count": 296,
   "metadata": {
    "nbpresent": {
     "id": "4191188b-0744-4a4c-b7ba-941f5c4bde92"
    }
   },
   "outputs": [
    {
     "name": "stdout",
     "output_type": "stream",
     "text": [
      "2\n"
     ]
    }
   ],
   "source": [
    "_, y = [1, 2]\n",
    "print(y)"
   ]
  },
  {
   "cell_type": "markdown",
   "metadata": {
    "nbpresent": {
     "id": "28aa6b97-9a57-4f65-b0cf-2b0463eee0bd"
    }
   },
   "source": [
    "### Tuples\n",
    "\n",
    "**Inmutable** lists, specified by parentheses ( ) or no delimiters"
   ]
  },
  {
   "cell_type": "code",
   "execution_count": 297,
   "metadata": {
    "nbpresent": {
     "id": "9abe4637-7178-4eda-ac88-589ce72ac2c9"
    }
   },
   "outputs": [
    {
     "name": "stdout",
     "output_type": "stream",
     "text": [
      "[1, 2] (1, 2) (1, 2)\n"
     ]
    }
   ],
   "source": [
    "mylist = [1, 2]\n",
    "mytuple = (1, 2)\n",
    "mytuple2 = 1, 2\n",
    "print(mylist, mytuple, mytuple2)"
   ]
  },
  {
   "cell_type": "code",
   "execution_count": 298,
   "metadata": {
    "nbpresent": {
     "id": "570640a5-db39-4336-b0ed-83033853dd73"
    }
   },
   "outputs": [
    {
     "name": "stdout",
     "output_type": "stream",
     "text": [
      "[0, 2]\n"
     ]
    }
   ],
   "source": [
    "mylist[0] = 0\n",
    "print(mylist)"
   ]
  },
  {
   "cell_type": "code",
   "execution_count": 299,
   "metadata": {
    "nbpresent": {
     "id": "84ec1d97-a054-4fa0-a28d-6aee3e2e7abd"
    }
   },
   "outputs": [
    {
     "ename": "TypeError",
     "evalue": "'tuple' object does not support item assignment",
     "output_type": "error",
     "traceback": [
      "\u001b[0;31m---------------------------------------------------------------------------\u001b[0m",
      "\u001b[0;31mTypeError\u001b[0m                                 Traceback (most recent call last)",
      "\u001b[0;32m<ipython-input-299-33ae162d6505>\u001b[0m in \u001b[0;36m<module>\u001b[0;34m()\u001b[0m\n\u001b[1;32m      1\u001b[0m \u001b[0;31m# this should not work\u001b[0m\u001b[0;34m\u001b[0m\u001b[0;34m\u001b[0m\u001b[0m\n\u001b[0;32m----> 2\u001b[0;31m \u001b[0mmytuple\u001b[0m\u001b[0;34m[\u001b[0m\u001b[0;36m0\u001b[0m\u001b[0;34m]\u001b[0m \u001b[0;34m=\u001b[0m \u001b[0;36m0\u001b[0m\u001b[0;34m\u001b[0m\u001b[0m\n\u001b[0m",
      "\u001b[0;31mTypeError\u001b[0m: 'tuple' object does not support item assignment"
     ]
    }
   ],
   "source": [
    "# this should not work\n",
    "mytuple[0] = 0"
   ]
  },
  {
   "cell_type": "code",
   "execution_count": 300,
   "metadata": {
    "nbpresent": {
     "id": "43bf3115-9e13-4f3d-bdc6-f3c11a0a09ac"
    }
   },
   "outputs": [
    {
     "name": "stdout",
     "output_type": "stream",
     "text": [
      "1 2\n"
     ]
    }
   ],
   "source": [
    "x, y = 1, 2\n",
    "print(x, y)"
   ]
  },
  {
   "cell_type": "code",
   "execution_count": 301,
   "metadata": {},
   "outputs": [
    {
     "name": "stdout",
     "output_type": "stream",
     "text": [
      "[1, 2]\n"
     ]
    }
   ],
   "source": [
    "print(list(mytuple))"
   ]
  },
  {
   "cell_type": "markdown",
   "metadata": {
    "nbpresent": {
     "id": "fe3b0c9a-8397-4db4-9b83-4d442ffdfe27"
    }
   },
   "source": [
    "### Dictionaries\n",
    "\n",
    "Associates values with keys"
   ]
  },
  {
   "cell_type": "code",
   "execution_count": 302,
   "metadata": {
    "nbpresent": {
     "id": "3a88836a-b9e0-44cd-a449-aaf49f5a44bc"
    }
   },
   "outputs": [
    {
     "name": "stdout",
     "output_type": "stream",
     "text": [
      "{'AR': 54, 'BR': 55, 'CL': 56, 'UR': 598}\n",
      "54\n"
     ]
    }
   ],
   "source": [
    "mydict = {}\n",
    "mydict2 = dict()\n",
    "codes = {\"AR\": 54, \"BR\": 55, \"CL\": 56, \"UR\": 598}\n",
    "print(codes)\n",
    "print(codes[\"AR\"])"
   ]
  },
  {
   "cell_type": "code",
   "execution_count": 112,
   "metadata": {
    "nbpresent": {
     "id": "5942b5c4-4586-4ec3-b258-57f8e15030c0"
    }
   },
   "outputs": [
    {
     "name": "stdout",
     "output_type": "stream",
     "text": [
      "dict_keys(['AR', 'BR', 'CL', 'UR'])\n",
      "['AR', 'BR', 'CL', 'UR']\n",
      "dict_values([54, 55, 56, 598])\n",
      "[54, 55, 56, 598]\n"
     ]
    }
   ],
   "source": [
    "print(codes.keys())\n",
    "print(list(codes.keys()))\n",
    "print(codes.values())\n",
    "print(list(codes.values()))"
   ]
  },
  {
   "cell_type": "code",
   "execution_count": 303,
   "metadata": {
    "nbpresent": {
     "id": "572211ec-1519-40eb-863d-2d0312262d3f"
    }
   },
   "outputs": [
    {
     "name": "stdout",
     "output_type": "stream",
     "text": [
      "True\n"
     ]
    }
   ],
   "source": [
    "print(\"CL\" in codes)"
   ]
  },
  {
   "cell_type": "code",
   "execution_count": 304,
   "metadata": {
    "nbpresent": {
     "id": "96fb6c19-e94a-415c-b6db-2e9ad0330631"
    }
   },
   "outputs": [
    {
     "name": "stdout",
     "output_type": "stream",
     "text": [
      "False\n"
     ]
    }
   ],
   "source": [
    "print(\"PE\" in codes)"
   ]
  },
  {
   "cell_type": "code",
   "execution_count": 305,
   "metadata": {
    "nbpresent": {
     "id": "cdbf80d0-dd51-4969-95b8-f46e90bf71e6"
    }
   },
   "outputs": [
    {
     "name": "stdout",
     "output_type": "stream",
     "text": [
      "4\n",
      "5\n"
     ]
    }
   ],
   "source": [
    "print(len(codes))\n",
    "codes[\"PE\"] = 51\n",
    "print(len(codes))"
   ]
  },
  {
   "cell_type": "code",
   "execution_count": 306,
   "metadata": {
    "nbpresent": {
     "id": "84346729-52eb-4a3e-b8e5-c84f2aa7aff0"
    }
   },
   "outputs": [
    {
     "name": "stdout",
     "output_type": "stream",
     "text": [
      "{'one': 1, 'two': 2}\n",
      "1\n",
      "{'AR': 54, 'BR': 55, 'CL': 56, 'UR': 598, 'PE': 51, 'MISC': {'one': 1, 'two': 2}}\n"
     ]
    }
   ],
   "source": [
    "codes[\"MISC\"] = {\"one\": 1, \"two\": 2}\n",
    "print(codes[\"MISC\"])\n",
    "print(codes[\"MISC\"][\"one\"])\n",
    "print(codes)"
   ]
  },
  {
   "cell_type": "markdown",
   "metadata": {},
   "source": [
    "Notar que kwargs es un diccionario"
   ]
  },
  {
   "cell_type": "code",
   "execution_count": 307,
   "metadata": {
    "collapsed": true,
    "nbpresent": {
     "id": "928cb3c5-cb6f-446c-b7e0-099cfe214a09"
    }
   },
   "outputs": [],
   "source": [
    "# \"El Hombre imaginario\", Nicanor Parra\n",
    "document = \"\"\"\n",
    "El hombre imaginario\n",
    "vive en una mansión imaginaria \n",
    "rodeada de árboles imaginarios \n",
    "a la orilla de un río imaginario\n",
    "\n",
    "De los muros que son imaginarios \n",
    "penden antiguos cuadros imaginarios \n",
    "irreparables grietas imaginarias \n",
    "que representan hechos imaginarios \n",
    "ocurridos en mundos imaginarios \n",
    "en lugares y tiempos imaginarios\n",
    "\n",
    "Todas las tardes imaginarias \n",
    "sube las escaleras imaginarias \n",
    "y se asoma al balcón imaginario \n",
    "a mirar el paisaje imaginario \n",
    "que consiste en un valle imaginario \n",
    "circundado de cerros imaginarios\n",
    "\n",
    "Sombras imaginarias\n",
    "vienen por el camino imaginario\n",
    "entonando canciones imaginarias \n",
    "a la muerte del sol imaginario\n",
    "\n",
    "Y en las noches de luna imaginaria \n",
    "sueña con la mujer imaginaria \n",
    "que le brindó su amor imaginario \n",
    "vuelve a sentir ese mismo dolor \n",
    "ese mismo placer imaginario \n",
    "y vuelve a palpitar \n",
    "el corazón del hombre imaginario\n",
    "\"\"\""
   ]
  },
  {
   "cell_type": "code",
   "execution_count": 308,
   "metadata": {
    "collapsed": true,
    "nbpresent": {
     "id": "453762e1-b511-4e92-aa36-9ceb2b2d3800"
    }
   },
   "outputs": [],
   "source": [
    "# reemplazar caracteres\n",
    "document = document.replace(\"á\", \"a\").replace(\"é\", \"e\").replace(\"í\", \"i\").replace(\"ó\", \"o\").replace(\"ú\", \"u\").replace(\"ñ\", \"n\")"
   ]
  },
  {
   "cell_type": "code",
   "execution_count": 309,
   "metadata": {
    "nbpresent": {
     "id": "9b20fbb0-7686-4130-bb20-02f2c6e2e67e"
    },
    "scrolled": true
   },
   "outputs": [
    {
     "name": "stdout",
     "output_type": "stream",
     "text": [
      "10\n",
      "10\n"
     ]
    }
   ],
   "source": [
    "word_counts = {}\n",
    "for word in document.split():\n",
    "    try:\n",
    "        word_counts[word] += 1\n",
    "    except KeyError:\n",
    "        word_counts[word] = 1\n",
    "\n",
    "print(word_counts[\"imaginario\"])\n",
    "print(word_counts.get(\"imaginario\"))"
   ]
  },
  {
   "cell_type": "code",
   "execution_count": 310,
   "metadata": {},
   "outputs": [
    {
     "name": "stdout",
     "output_type": "stream",
     "text": [
      "['imaginario', 'imaginarios', 'en', 'a', 'imaginarias', 'de', 'que', 'imaginaria', 'la', 'y', 'las', 'el', 'hombre', 'un', 'del', 'vuelve', 'ese', 'mismo', 'El', 'vive', 'una', 'mansion', 'rodeada', 'arboles', 'orilla', 'rio', 'De', 'los', 'muros', 'son', 'penden', 'antiguos', 'cuadros', 'irreparables', 'grietas', 'representan', 'hechos', 'ocurridos', 'mundos', 'lugares', 'tiempos', 'Todas', 'tardes', 'sube', 'escaleras', 'se', 'asoma', 'al', 'balcon', 'mirar', 'paisaje', 'consiste', 'valle', 'circundado', 'cerros', 'Sombras', 'vienen', 'por', 'camino', 'entonando', 'canciones', 'muerte', 'sol', 'Y', 'noches', 'luna', 'suena', 'con', 'mujer', 'le', 'brindo', 'su', 'amor', 'sentir', 'dolor', 'placer', 'palpitar', 'corazon']\n"
     ]
    }
   ],
   "source": [
    "print(sorted(word_counts, key=word_counts.get, reverse=True))"
   ]
  },
  {
   "cell_type": "markdown",
   "metadata": {
    "nbpresent": {
     "id": "5b1df5f2-575b-4947-bfc1-5ad84ff8db3b"
    }
   },
   "source": [
    "### Defaultdict\n",
    "\n",
    "Dictionary where the default content is defined by a function which is only called when is the key is used"
   ]
  },
  {
   "cell_type": "code",
   "execution_count": 122,
   "metadata": {
    "collapsed": true,
    "nbpresent": {
     "id": "1ad5c184-b779-462c-a8d4-b9001d2e5d86"
    }
   },
   "outputs": [],
   "source": [
    "from collections import defaultdict"
   ]
  },
  {
   "cell_type": "code",
   "execution_count": 311,
   "metadata": {
    "nbpresent": {
     "id": "67626f02-74fa-4af1-aa3d-7d787126da30"
    }
   },
   "outputs": [
    {
     "name": "stdout",
     "output_type": "stream",
     "text": [
      "defaultdict(<class 'int'>, {'El': 1, 'hombre': 2, 'imaginario': 10, 'vive': 1, 'en': 5, 'una': 1, 'mansion': 1, 'imaginaria': 3, 'rodeada': 1, 'de': 4, 'arboles': 1, 'imaginarios': 7, 'a': 5, 'la': 3, 'orilla': 1, 'un': 2, 'rio': 1, 'De': 1, 'los': 1, 'muros': 1, 'que': 4, 'son': 1, 'penden': 1, 'antiguos': 1, 'cuadros': 1, 'irreparables': 1, 'grietas': 1, 'imaginarias': 5, 'representan': 1, 'hechos': 1, 'ocurridos': 1, 'mundos': 1, 'lugares': 1, 'y': 3, 'tiempos': 1, 'Todas': 1, 'las': 3, 'tardes': 1, 'sube': 1, 'escaleras': 1, 'se': 1, 'asoma': 1, 'al': 1, 'balcon': 1, 'mirar': 1, 'el': 3, 'paisaje': 1, 'consiste': 1, 'valle': 1, 'circundado': 1, 'cerros': 1, 'Sombras': 1, 'vienen': 1, 'por': 1, 'camino': 1, 'entonando': 1, 'canciones': 1, 'muerte': 1, 'del': 2, 'sol': 1, 'Y': 1, 'noches': 1, 'luna': 1, 'suena': 1, 'con': 1, 'mujer': 1, 'le': 1, 'brindo': 1, 'su': 1, 'amor': 1, 'vuelve': 2, 'sentir': 1, 'ese': 2, 'mismo': 2, 'dolor': 1, 'placer': 1, 'palpitar': 1, 'corazon': 1})\n"
     ]
    }
   ],
   "source": [
    "word_counts = defaultdict(int) # int() produces 0\n",
    "for word in document.split():\n",
    "    word_counts[word] += 1\n",
    "\n",
    "print(word_counts)"
   ]
  },
  {
   "cell_type": "code",
   "execution_count": 312,
   "metadata": {},
   "outputs": [
    {
     "name": "stdout",
     "output_type": "stream",
     "text": [
      "dict_items([('El', 1), ('hombre', 2), ('imaginario', 10), ('vive', 1), ('en', 5), ('una', 1), ('mansion', 1), ('imaginaria', 3), ('rodeada', 1), ('de', 4), ('arboles', 1), ('imaginarios', 7), ('a', 5), ('la', 3), ('orilla', 1), ('un', 2), ('rio', 1), ('De', 1), ('los', 1), ('muros', 1), ('que', 4), ('son', 1), ('penden', 1), ('antiguos', 1), ('cuadros', 1), ('irreparables', 1), ('grietas', 1), ('imaginarias', 5), ('representan', 1), ('hechos', 1), ('ocurridos', 1), ('mundos', 1), ('lugares', 1), ('y', 3), ('tiempos', 1), ('Todas', 1), ('las', 3), ('tardes', 1), ('sube', 1), ('escaleras', 1), ('se', 1), ('asoma', 1), ('al', 1), ('balcon', 1), ('mirar', 1), ('el', 3), ('paisaje', 1), ('consiste', 1), ('valle', 1), ('circundado', 1), ('cerros', 1), ('Sombras', 1), ('vienen', 1), ('por', 1), ('camino', 1), ('entonando', 1), ('canciones', 1), ('muerte', 1), ('del', 2), ('sol', 1), ('Y', 1), ('noches', 1), ('luna', 1), ('suena', 1), ('con', 1), ('mujer', 1), ('le', 1), ('brindo', 1), ('su', 1), ('amor', 1), ('vuelve', 2), ('sentir', 1), ('ese', 2), ('mismo', 2), ('dolor', 1), ('placer', 1), ('palpitar', 1), ('corazon', 1)])\n"
     ]
    }
   ],
   "source": [
    "print(word_counts.items())"
   ]
  },
  {
   "cell_type": "code",
   "execution_count": 129,
   "metadata": {},
   "outputs": [
    {
     "name": "stdout",
     "output_type": "stream",
     "text": [
      "{'El': 1, 'hombre': 2, 'imaginario': 10, 'vive': 1, 'en': 5, 'una': 1, 'mansion': 1, 'imaginaria': 3, 'rodeada': 1, 'de': 4, 'arboles': 1, 'imaginarios': 7, 'a': 5, 'la': 3, 'orilla': 1, 'un': 2, 'rio': 1, 'De': 1, 'los': 1, 'muros': 1, 'que': 4, 'son': 1, 'penden': 1, 'antiguos': 1, 'cuadros': 1, 'irreparables': 1, 'grietas': 1, 'imaginarias': 5, 'representan': 1, 'hechos': 1, 'ocurridos': 1, 'mundos': 1, 'lugares': 1, 'y': 3, 'tiempos': 1, 'Todas': 1, 'las': 3, 'tardes': 1, 'sube': 1, 'escaleras': 1, 'se': 1, 'asoma': 1, 'al': 1, 'balcon': 1, 'mirar': 1, 'el': 3, 'paisaje': 1, 'consiste': 1, 'valle': 1, 'circundado': 1, 'cerros': 1, 'Sombras': 1, 'vienen': 1, 'por': 1, 'camino': 1, 'entonando': 1, 'canciones': 1, 'muerte': 1, 'del': 2, 'sol': 1, 'Y': 1, 'noches': 1, 'luna': 1, 'suena': 1, 'con': 1, 'mujer': 1, 'le': 1, 'brindo': 1, 'su': 1, 'amor': 1, 'vuelve': 2, 'sentir': 1, 'ese': 2, 'mismo': 2, 'dolor': 1, 'placer': 1, 'palpitar': 1, 'corazon': 1}\n",
      "10\n",
      "10\n"
     ]
    }
   ],
   "source": [
    "print(dict(word_counts))\n",
    "print(word_counts[\"imaginario\"])\n",
    "print(word_counts.get(\"imaginario\"))"
   ]
  },
  {
   "cell_type": "code",
   "execution_count": 130,
   "metadata": {},
   "outputs": [
    {
     "name": "stdout",
     "output_type": "stream",
     "text": [
      "['imaginario', 'imaginarios', 'en', 'a', 'imaginarias', 'de', 'que', 'imaginaria', 'la', 'y', 'las', 'el', 'hombre', 'un', 'del', 'vuelve', 'ese', 'mismo', 'El', 'vive', 'una', 'mansion', 'rodeada', 'arboles', 'orilla', 'rio', 'De', 'los', 'muros', 'son', 'penden', 'antiguos', 'cuadros', 'irreparables', 'grietas', 'representan', 'hechos', 'ocurridos', 'mundos', 'lugares', 'tiempos', 'Todas', 'tardes', 'sube', 'escaleras', 'se', 'asoma', 'al', 'balcon', 'mirar', 'paisaje', 'consiste', 'valle', 'circundado', 'cerros', 'Sombras', 'vienen', 'por', 'camino', 'entonando', 'canciones', 'muerte', 'sol', 'Y', 'noches', 'luna', 'suena', 'con', 'mujer', 'le', 'brindo', 'su', 'amor', 'sentir', 'dolor', 'placer', 'palpitar', 'corazon']\n"
     ]
    }
   ],
   "source": [
    "print(sorted(word_counts, key=word_counts.get, reverse = True))"
   ]
  },
  {
   "cell_type": "code",
   "execution_count": 131,
   "metadata": {
    "nbpresent": {
     "id": "930f86f4-0d73-4c37-9f66-47d7c662f4af"
    }
   },
   "outputs": [
    {
     "name": "stdout",
     "output_type": "stream",
     "text": [
      "dict_items([(2, [1])])\n"
     ]
    }
   ],
   "source": [
    "# pseudo lista\n",
    "dd_list = defaultdict(list) # list() produces empty list\n",
    "dd_list[2].append(1)\n",
    "print(dd_list.items())"
   ]
  },
  {
   "cell_type": "code",
   "execution_count": 313,
   "metadata": {
    "nbpresent": {
     "id": "742c1852-c100-4856-b115-e57b03aa94b6"
    }
   },
   "outputs": [
    {
     "name": "stdout",
     "output_type": "stream",
     "text": [
      "dict_items([('Animal', {'Mammmal': 'Homo Sapiens'})])\n"
     ]
    }
   ],
   "source": [
    "# pseudo dictionario\n",
    "dd_dict = defaultdict(dict) # dict() produces empty dictionary\n",
    "dd_dict[\"Animal\"][\"Mammmal\"] = \"Homo Sapiens\"\n",
    "print(dd_dict.items())"
   ]
  },
  {
   "cell_type": "markdown",
   "metadata": {
    "nbpresent": {
     "id": "c8f49ad9-df5e-4aa1-8f7d-da89148bb86b"
    }
   },
   "source": [
    "### Counters\n",
    "\n",
    "Turns a sequence of values into a defaultdict(int)-like object"
   ]
  },
  {
   "cell_type": "code",
   "execution_count": 314,
   "metadata": {
    "nbpresent": {
     "id": "b7cfe1ec-2f25-4d1f-a94a-9add1f601aa8"
    }
   },
   "outputs": [
    {
     "name": "stdout",
     "output_type": "stream",
     "text": [
      "Counter({0: 2, 1: 1, 2: 1})\n"
     ]
    }
   ],
   "source": [
    "from collections import Counter\n",
    "\n",
    "c = Counter([0, 1, 2, 0])\n",
    "print(c)       "
   ]
  },
  {
   "cell_type": "code",
   "execution_count": 315,
   "metadata": {
    "nbpresent": {
     "id": "351e11ac-891f-489b-8a9d-924c00a0877c"
    }
   },
   "outputs": [
    {
     "name": "stdout",
     "output_type": "stream",
     "text": [
      "{'El': 1, 'hombre': 2, 'imaginario': 10, 'vive': 1, 'en': 5, 'una': 1, 'mansion': 1, 'imaginaria': 3, 'rodeada': 1, 'de': 4, 'arboles': 1, 'imaginarios': 7, 'a': 5, 'la': 3, 'orilla': 1, 'un': 2, 'rio': 1, 'De': 1, 'los': 1, 'muros': 1, 'que': 4, 'son': 1, 'penden': 1, 'antiguos': 1, 'cuadros': 1, 'irreparables': 1, 'grietas': 1, 'imaginarias': 5, 'representan': 1, 'hechos': 1, 'ocurridos': 1, 'mundos': 1, 'lugares': 1, 'y': 3, 'tiempos': 1, 'Todas': 1, 'las': 3, 'tardes': 1, 'sube': 1, 'escaleras': 1, 'se': 1, 'asoma': 1, 'al': 1, 'balcon': 1, 'mirar': 1, 'el': 3, 'paisaje': 1, 'consiste': 1, 'valle': 1, 'circundado': 1, 'cerros': 1, 'Sombras': 1, 'vienen': 1, 'por': 1, 'camino': 1, 'entonando': 1, 'canciones': 1, 'muerte': 1, 'del': 2, 'sol': 1, 'Y': 1, 'noches': 1, 'luna': 1, 'suena': 1, 'con': 1, 'mujer': 1, 'le': 1, 'brindo': 1, 'su': 1, 'amor': 1, 'vuelve': 2, 'sentir': 1, 'ese': 2, 'mismo': 2, 'dolor': 1, 'placer': 1, 'palpitar': 1, 'corazon': 1}\n"
     ]
    }
   ],
   "source": [
    "# Apply counter\n",
    "counts = Counter(document.split())\n",
    "# transform to dictionary\n",
    "counts = dict(counts.items())\n",
    "print(counts)"
   ]
  },
  {
   "cell_type": "code",
   "execution_count": 316,
   "metadata": {
    "nbpresent": {
     "id": "41972d40-7d7f-4ca7-aa00-ca671d6cdbdf"
    }
   },
   "outputs": [
    {
     "data": {
      "image/png": "[encoded data removed]",
      "text/plain": [
       "<matplotlib.figure.Figure at 0x7f98f9517dd8>"
      ]
     },
     "metadata": {},
     "output_type": "display_data"
    }
   ],
   "source": [
    "# plot sorted word histogram\n",
    "fig, ax = plt.subplots(figsize = (15, 6))\n",
    "ax.bar(range(len(counts)), sorted(counts.values(), reverse = True));\n",
    "plt.xticks(range(len(counts)), sorted(counts, key = counts.get, reverse = True), rotation = 'vertical');"
   ]
  },
  {
   "cell_type": "markdown",
   "metadata": {
    "nbpresent": {
     "id": "eacce387-5940-4e84-87a0-830781aea3aa"
    }
   },
   "source": [
    "### Sets\n",
    "\n",
    "A collection of **distinct** elements"
   ]
  },
  {
   "cell_type": "code",
   "execution_count": 317,
   "metadata": {
    "nbpresent": {
     "id": "829aa1b3-269f-4466-b456-d7581a78b73f"
    }
   },
   "outputs": [
    {
     "name": "stdout",
     "output_type": "stream",
     "text": [
      "{1, 2}\n"
     ]
    }
   ],
   "source": [
    "s = set()\n",
    "s.add(1)\n",
    "s.add(2)\n",
    "print(s)"
   ]
  },
  {
   "cell_type": "code",
   "execution_count": 320,
   "metadata": {
    "nbpresent": {
     "id": "9a6745c1-a1f7-4dab-89af-a9b1543a82b9"
    }
   },
   "outputs": [
    {
     "name": "stdout",
     "output_type": "stream",
     "text": [
      "{1, 2}\n"
     ]
    }
   ],
   "source": [
    "s.add(2)\n",
    "s.add(2)\n",
    "print(s)"
   ]
  },
  {
   "cell_type": "code",
   "execution_count": 319,
   "metadata": {
    "nbpresent": {
     "id": "a33b6250-d0ca-4761-96f9-23c6ef047b6e"
    }
   },
   "outputs": [
    {
     "name": "stdout",
     "output_type": "stream",
     "text": [
      "True\n",
      "False\n"
     ]
    }
   ],
   "source": [
    "print(1 in s)\n",
    "print(3 in s)"
   ]
  },
  {
   "cell_type": "markdown",
   "metadata": {
    "nbpresent": {
     "id": "170039e4-f99e-4760-8af0-b8fef602a0d4"
    }
   },
   "source": [
    "* One advantage of sets is that the operator **in** is much faster than **in** applied to lists"
   ]
  },
  {
   "cell_type": "code",
   "execution_count": 321,
   "metadata": {
    "nbpresent": {
     "id": "b8d0007a-f6e6-48c0-b4de-878ce643a5b9"
    }
   },
   "outputs": [
    {
     "name": "stdout",
     "output_type": "stream",
     "text": [
      "True\n"
     ]
    }
   ],
   "source": [
    "wordlist = document.split()\n",
    "wordset = set(document.split())\n",
    "print(\"en\" in wordlist)"
   ]
  },
  {
   "cell_type": "code",
   "execution_count": 322,
   "metadata": {
    "nbpresent": {
     "id": "ca3847ce-b650-4004-9880-7a854d768d5b"
    }
   },
   "outputs": [
    {
     "name": "stdout",
     "output_type": "stream",
     "text": [
      "127 78\n",
      "127 78\n"
     ]
    }
   ],
   "source": [
    "print(len(wordlist), len(wordset))\n",
    "print(sum(word_counts.values()), len(word_counts))"
   ]
  },
  {
   "cell_type": "markdown",
   "metadata": {
    "nbpresent": {
     "id": "ff975b20-f0d9-4a68-a199-cda3d2a35863"
    }
   },
   "source": [
    "### If, while, for"
   ]
  },
  {
   "cell_type": "code",
   "execution_count": 323,
   "metadata": {
    "nbpresent": {
     "id": "9f361086-902d-44ca-9295-5194e44b9ca9"
    }
   },
   "outputs": [
    {
     "name": "stdout",
     "output_type": "stream",
     "text": [
      "Here\n"
     ]
    }
   ],
   "source": [
    "if 1 > 2:\n",
    "    print(\"Nope\")\n",
    "elif 1 > 3:\n",
    "    print(\"Nope\")\n",
    "else:\n",
    "    print(\"Here\")"
   ]
  },
  {
   "cell_type": "code",
   "execution_count": 142,
   "metadata": {
    "nbpresent": {
     "id": "3b7580e2-24d3-434e-a69a-7db1b1d3397d"
    }
   },
   "outputs": [
    {
     "name": "stdout",
     "output_type": "stream",
     "text": [
      "odd\n"
     ]
    }
   ],
   "source": [
    "x = 3\n",
    "parity = \"even\" if x % 2 == 0 else \"odd\"\n",
    "print(parity)"
   ]
  },
  {
   "cell_type": "code",
   "execution_count": 324,
   "metadata": {
    "nbpresent": {
     "id": "d76c5b2b-454a-40ae-8542-b1fb183569c4"
    }
   },
   "outputs": [
    {
     "name": "stdout",
     "output_type": "stream",
     "text": [
      "0\n",
      "1\n",
      "2\n",
      "3\n"
     ]
    }
   ],
   "source": [
    "x = 0\n",
    "while x < 4:\n",
    "    print(x)\n",
    "    x += 1"
   ]
  },
  {
   "cell_type": "code",
   "execution_count": 325,
   "metadata": {
    "nbpresent": {
     "id": "e34f5c83-4277-40b0-9206-55b0c167b94a"
    }
   },
   "outputs": [
    {
     "name": "stdout",
     "output_type": "stream",
     "text": [
      "0\n",
      "1\n",
      "2\n",
      "3\n"
     ]
    }
   ],
   "source": [
    "for x in range(4):\n",
    "    print(x)"
   ]
  },
  {
   "cell_type": "markdown",
   "metadata": {
    "nbpresent": {
     "id": "586a1166-95c7-419e-ac96-97ae44d6d079"
    }
   },
   "source": [
    "### Booleans"
   ]
  },
  {
   "cell_type": "code",
   "execution_count": 145,
   "metadata": {
    "nbpresent": {
     "id": "19935e16-e563-471b-999a-51266d60f5cc"
    }
   },
   "outputs": [
    {
     "name": "stdout",
     "output_type": "stream",
     "text": [
      "True\n",
      "True\n"
     ]
    }
   ],
   "source": [
    "x = None\n",
    "print(x == None)\n",
    "print(x is None) # recommended \"Pythonic\" way"
   ]
  },
  {
   "cell_type": "code",
   "execution_count": 146,
   "metadata": {
    "nbpresent": {
     "id": "d372cb7a-e43e-43a5-9948-ae11121d3b2d"
    }
   },
   "outputs": [
    {
     "name": "stdout",
     "output_type": "stream",
     "text": [
      "False False False False False False False False False\n"
     ]
    }
   ],
   "source": [
    "print(bool(False), bool(None), bool([]), bool({}), bool(\"\"), bool(set()), bool(0), bool(0.0), bool(-0))"
   ]
  },
  {
   "cell_type": "code",
   "execution_count": 147,
   "metadata": {
    "nbpresent": {
     "id": "08506037-289e-492d-823e-326e5db0805a"
    }
   },
   "outputs": [
    {
     "name": "stdout",
     "output_type": "stream",
     "text": [
      "True True True True True\n"
     ]
    }
   ],
   "source": [
    "print(bool(True), bool([0]), bool({0: 0}), bool(\"0\"), bool(99))"
   ]
  },
  {
   "cell_type": "markdown",
   "metadata": {
    "nbpresent": {
     "id": "fada30aa-b1b9-4725-9d1a-ae907fbb1d54"
    }
   },
   "source": [
    "### Sorting"
   ]
  },
  {
   "cell_type": "code",
   "execution_count": 326,
   "metadata": {
    "nbpresent": {
     "id": "3d028781-e5d5-407c-a016-500ec6dc97b4"
    }
   },
   "outputs": [
    {
     "name": "stdout",
     "output_type": "stream",
     "text": [
      "[4, 1, 2, 3] [1, 2, 3, 4]\n"
     ]
    }
   ],
   "source": [
    "x = [4, 1, 2, 3]\n",
    "y = sorted(x)\n",
    "print(x, y)"
   ]
  },
  {
   "cell_type": "code",
   "execution_count": 327,
   "metadata": {
    "nbpresent": {
     "id": "750d00f7-e656-43ec-b185-60baeee6a55f"
    }
   },
   "outputs": [
    {
     "name": "stdout",
     "output_type": "stream",
     "text": [
      "[1, 2, 3, 4]\n"
     ]
    }
   ],
   "source": [
    "x.sort()\n",
    "print(x)"
   ]
  },
  {
   "cell_type": "code",
   "execution_count": 328,
   "metadata": {
    "nbpresent": {
     "id": "c21fe10c-03f6-437e-ab57-a43372c82c78"
    }
   },
   "outputs": [
    {
     "name": "stdout",
     "output_type": "stream",
     "text": [
      "[-4, 3, -2, 1]\n"
     ]
    }
   ],
   "source": [
    "print(sorted([-4, 1, -2, 3], key = abs, reverse = True))"
   ]
  },
  {
   "cell_type": "code",
   "execution_count": 330,
   "metadata": {
    "nbpresent": {
     "id": "ddfdd4b2-9ada-4940-861c-7fdc98b3f49e"
    }
   },
   "outputs": [
    {
     "name": "stdout",
     "output_type": "stream",
     "text": [
      "[('imaginario', 10), ('imaginarios', 7), ('en', 5), ('a', 5), ('imaginarias', 5), ('de', 4), ('que', 4), ('imaginaria', 3), ('la', 3), ('y', 3), ('las', 3), ('el', 3), ('hombre', 2), ('un', 2), ('del', 2), ('vuelve', 2), ('ese', 2), ('mismo', 2), ('El', 1), ('vive', 1), ('una', 1), ('mansion', 1), ('rodeada', 1), ('arboles', 1), ('orilla', 1), ('rio', 1), ('De', 1), ('los', 1), ('muros', 1), ('son', 1), ('penden', 1), ('antiguos', 1), ('cuadros', 1), ('irreparables', 1), ('grietas', 1), ('representan', 1), ('hechos', 1), ('ocurridos', 1), ('mundos', 1), ('lugares', 1), ('tiempos', 1), ('Todas', 1), ('tardes', 1), ('sube', 1), ('escaleras', 1), ('se', 1), ('asoma', 1), ('al', 1), ('balcon', 1), ('mirar', 1), ('paisaje', 1), ('consiste', 1), ('valle', 1), ('circundado', 1), ('cerros', 1), ('Sombras', 1), ('vienen', 1), ('por', 1), ('camino', 1), ('entonando', 1), ('canciones', 1), ('muerte', 1), ('sol', 1), ('Y', 1), ('noches', 1), ('luna', 1), ('suena', 1), ('con', 1), ('mujer', 1), ('le', 1), ('brindo', 1), ('su', 1), ('amor', 1), ('sentir', 1), ('dolor', 1), ('placer', 1), ('palpitar', 1), ('corazon', 1)]\n"
     ]
    }
   ],
   "source": [
    "print(sorted(word_counts.items(), key = lambda pair: pair[1], reverse = True))"
   ]
  },
  {
   "cell_type": "code",
   "execution_count": 156,
   "metadata": {},
   "outputs": [
    {
     "name": "stdout",
     "output_type": "stream",
     "text": [
      "[('El', 1), ('hombre', 2), ('imaginario', 10), ('vive', 1), ('en', 5), ('una', 1), ('mansion', 1), ('imaginaria', 3), ('rodeada', 1), ('de', 4), ('arboles', 1), ('imaginarios', 7), ('a', 5), ('la', 3), ('orilla', 1), ('un', 2), ('rio', 1), ('De', 1), ('los', 1), ('muros', 1), ('que', 4), ('son', 1), ('penden', 1), ('antiguos', 1), ('cuadros', 1), ('irreparables', 1), ('grietas', 1), ('imaginarias', 5), ('representan', 1), ('hechos', 1), ('ocurridos', 1), ('mundos', 1), ('lugares', 1), ('y', 3), ('tiempos', 1), ('Todas', 1), ('las', 3), ('tardes', 1), ('sube', 1), ('escaleras', 1), ('se', 1), ('asoma', 1), ('al', 1), ('balcon', 1), ('mirar', 1), ('el', 3), ('paisaje', 1), ('consiste', 1), ('valle', 1), ('circundado', 1), ('cerros', 1), ('Sombras', 1), ('vienen', 1), ('por', 1), ('camino', 1), ('entonando', 1), ('canciones', 1), ('muerte', 1), ('del', 2), ('sol', 1), ('Y', 1), ('noches', 1), ('luna', 1), ('suena', 1), ('con', 1), ('mujer', 1), ('le', 1), ('brindo', 1), ('su', 1), ('amor', 1), ('vuelve', 2), ('sentir', 1), ('ese', 2), ('mismo', 2), ('dolor', 1), ('placer', 1), ('palpitar', 1), ('corazon', 1)]\n"
     ]
    }
   ],
   "source": [
    "print(list(word_counts.items()))"
   ]
  },
  {
   "cell_type": "code",
   "execution_count": 161,
   "metadata": {},
   "outputs": [
    {
     "name": "stdout",
     "output_type": "stream",
     "text": [
      "[('imaginario', 10), ('imaginarios', 7), ('en', 5), ('a', 5), ('imaginarias', 5), ('de', 4), ('que', 4), ('imaginaria', 3), ('la', 3), ('y', 3), ('las', 3), ('el', 3), ('hombre', 2), ('un', 2), ('del', 2), ('vuelve', 2), ('ese', 2), ('mismo', 2), ('El', 1), ('vive', 1), ('una', 1), ('mansion', 1), ('rodeada', 1), ('arboles', 1), ('orilla', 1), ('rio', 1), ('De', 1), ('los', 1), ('muros', 1), ('son', 1), ('penden', 1), ('antiguos', 1), ('cuadros', 1), ('irreparables', 1), ('grietas', 1), ('representan', 1), ('hechos', 1), ('ocurridos', 1), ('mundos', 1), ('lugares', 1), ('tiempos', 1), ('Todas', 1), ('tardes', 1), ('sube', 1), ('escaleras', 1), ('se', 1), ('asoma', 1), ('al', 1), ('balcon', 1), ('mirar', 1), ('paisaje', 1), ('consiste', 1), ('valle', 1), ('circundado', 1), ('cerros', 1), ('Sombras', 1), ('vienen', 1), ('por', 1), ('camino', 1), ('entonando', 1), ('canciones', 1), ('muerte', 1), ('sol', 1), ('Y', 1), ('noches', 1), ('luna', 1), ('suena', 1), ('con', 1), ('mujer', 1), ('le', 1), ('brindo', 1), ('su', 1), ('amor', 1), ('sentir', 1), ('dolor', 1), ('placer', 1), ('palpitar', 1), ('corazon', 1)]\n"
     ]
    }
   ],
   "source": [
    "print(sorted(word_counts.items(), key = lambda pair: pair[1], reverse = True))"
   ]
  },
  {
   "cell_type": "markdown",
   "metadata": {
    "nbpresent": {
     "id": "a81aa026-bf96-433b-9ff2-9f1ef5adf6e7"
    }
   },
   "source": [
    "### List comprehensions"
   ]
  },
  {
   "cell_type": "code",
   "execution_count": 162,
   "metadata": {
    "nbpresent": {
     "id": "82b03893-15fd-4c47-94b5-cede2dbc08a1"
    }
   },
   "outputs": [
    {
     "name": "stdout",
     "output_type": "stream",
     "text": [
      "[0, 2, 4]\n"
     ]
    }
   ],
   "source": [
    "even = [x for x in range(5) if x % 2 == 0]\n",
    "print(even)"
   ]
  },
  {
   "cell_type": "code",
   "execution_count": 163,
   "metadata": {
    "nbpresent": {
     "id": "c617b6e7-c345-4f56-aae5-e113bd333f8a"
    }
   },
   "outputs": [
    {
     "name": "stdout",
     "output_type": "stream",
     "text": [
      "[0, 1, 4, 9, 16]\n"
     ]
    }
   ],
   "source": [
    "squared = [x * x for x in range(5)]\n",
    "print(squared)"
   ]
  },
  {
   "cell_type": "code",
   "execution_count": 164,
   "metadata": {
    "nbpresent": {
     "id": "683573f1-c314-428d-837e-0b7132ede7dd"
    }
   },
   "outputs": [
    {
     "name": "stdout",
     "output_type": "stream",
     "text": [
      "[0, 4, 16]\n"
     ]
    }
   ],
   "source": [
    "even_squares = [x * x for x in even]\n",
    "print(even_squares)"
   ]
  },
  {
   "cell_type": "code",
   "execution_count": 165,
   "metadata": {
    "nbpresent": {
     "id": "87047fdb-7ebc-4b69-82d0-17f046610559"
    }
   },
   "outputs": [
    {
     "name": "stdout",
     "output_type": "stream",
     "text": [
      "[0, 0, 0]\n"
     ]
    }
   ],
   "source": [
    "zeroes = [0 for _ in even]\n",
    "print(zeroes)"
   ]
  },
  {
   "cell_type": "markdown",
   "metadata": {
    "nbpresent": {
     "id": "0b995861-16fe-4e05-82af-942722b2b8a5"
    }
   },
   "source": [
    "### Generators and iterators\n",
    "\n",
    "* Sometimes you want to deal with the elements of a list one at a time, you don't need to store the entire list.\n",
    "* A **generator** is something that you can iterate over and whose values are only produced when needed"
   ]
  },
  {
   "cell_type": "code",
   "execution_count": 166,
   "metadata": {
    "collapsed": true,
    "nbpresent": {
     "id": "b50b7b01-8ace-4380-8138-5f37df96f025"
    }
   },
   "outputs": [],
   "source": [
    "def lazy_range(n):\n",
    "    i = 0\n",
    "    while i < n:\n",
    "        yield i\n",
    "        i += 1"
   ]
  },
  {
   "cell_type": "code",
   "execution_count": 170,
   "metadata": {
    "nbpresent": {
     "id": "805d3cb0-f612-4803-9d3e-ce8a28f80d48"
    }
   },
   "outputs": [
    {
     "name": "stdout",
     "output_type": "stream",
     "text": [
      "<generator object lazy_range at 0x7f98fcde3990>\n",
      "[0, 1, 2, 3]\n",
      "range(0, 4)\n",
      "[0, 1, 2, 3]\n"
     ]
    }
   ],
   "source": [
    "print(lazy_range(4))\n",
    "print(list(lazy_range(4)))\n",
    "print(range(4))\n",
    "print(list(range(4)))"
   ]
  },
  {
   "cell_type": "code",
   "execution_count": 171,
   "metadata": {
    "nbpresent": {
     "id": "041e9a84-fd85-4313-9bae-3365d2dd5348"
    }
   },
   "outputs": [
    {
     "name": "stdout",
     "output_type": "stream",
     "text": [
      "0\n",
      "1\n",
      "2\n",
      "3\n"
     ]
    }
   ],
   "source": [
    "for i in lazy_range(4):\n",
    "    print(i)"
   ]
  },
  {
   "cell_type": "markdown",
   "metadata": {
    "nbpresent": {
     "id": "6e488017-739e-49b0-8653-81e6be859ac3"
    }
   },
   "source": [
    "### Regular expressions"
   ]
  },
  {
   "cell_type": "code",
   "execution_count": 172,
   "metadata": {
    "collapsed": true,
    "nbpresent": {
     "id": "a6211d55-81f1-4e26-81e1-dd9c3d6ee01f"
    }
   },
   "outputs": [],
   "source": [
    "import re"
   ]
  },
  {
   "cell_type": "code",
   "execution_count": 331,
   "metadata": {
    "nbpresent": {
     "id": "e7375134-1bb8-4ddb-bad7-402104f1f074"
    }
   },
   "outputs": [
    {
     "data": {
      "text/plain": [
       "[('perro', 'negro'), ('gato', 'blanco'), ('casa', 'amarilla')]"
      ]
     },
     "execution_count": 331,
     "metadata": {},
     "output_type": "execute_result"
    }
   ],
   "source": [
    "re.findall(\"(\\w+)\\ses\\s(\\w+)\", \"El perro es negro, el gato es blanco, la casa es amarilla\")"
   ]
  },
  {
   "cell_type": "markdown",
   "metadata": {
    "nbpresent": {
     "id": "feab4373-01f5-40e6-9eb2-a81b1c8a9aa8"
    }
   },
   "source": [
    "Ver más en https://docs.python.org/2/library/re.html"
   ]
  },
  {
   "cell_type": "markdown",
   "metadata": {
    "nbpresent": {
     "id": "7da60585-ff72-4a0a-b6e6-27826a77d2da"
    }
   },
   "source": [
    "### Object oriented programming\n",
    "\n",
    "* Classes encapsulate data and functions that operate on them.\n",
    "* Efficient, re-usable code requires classes.\n",
    "* classes require and __init__ function to initialize\n",
    "* the __repr__ function is for printing the object\n",
    "* classes can inherit properties from other classes\n",
    "\n",
    "https://docs.python.org/2/tutorial/classes.html"
   ]
  },
  {
   "cell_type": "code",
   "execution_count": 332,
   "metadata": {
    "nbpresent": {
     "id": "84a7f967-6040-4e28-8339-78a78882c42d"
    }
   },
   "outputs": [
    {
     "name": "stdout",
     "output_type": "stream",
     "text": [
      "Jocelyn Bell\n"
     ]
    }
   ],
   "source": [
    "from datetime import date\n",
    "\n",
    "class persona(object):\n",
    "    \n",
    "    def __init__(self, nombre, apellido, fechanacimiento):\n",
    "        \n",
    "        self.name = nombre\n",
    "        self.surname = apellido\n",
    "        (yyyy, mm, dd) = re.findall(\"(.*)/(.*)/(.*)\", fechanacimiento)[0]\n",
    "        self.birthdate = date(int(yyyy), int(mm), int(dd))\n",
    "        \n",
    "    def __repr__(self):\n",
    "        \n",
    "        return \"%s %s\" % (self.name, self.surname)\n",
    "    \n",
    "    def edad(self):\n",
    "        \n",
    "        return (date.today() - self.birthdate).days / 365.25\n",
    "    \n",
    "JB = persona(\"Jocelyn\", \"Bell\", \"1943/07/15\")\n",
    "print(JB)"
   ]
  },
  {
   "cell_type": "markdown",
   "metadata": {},
   "source": [
    "![alt text](JB.jpg \"Title\") ![alt text](pulsar.png \"Title\")"
   ]
  },
  {
   "cell_type": "code",
   "execution_count": 176,
   "metadata": {
    "nbpresent": {
     "id": "e1e7ccb9-a1ff-4825-be97-a408f89a65a6"
    }
   },
   "outputs": [
    {
     "name": "stdout",
     "output_type": "stream",
     "text": [
      "74.0561259411362\n"
     ]
    }
   ],
   "source": [
    "print(JB.edad())"
   ]
  },
  {
   "cell_type": "code",
   "execution_count": 191,
   "metadata": {
    "nbpresent": {
     "id": "a9b2ca9e-c0d7-45f0-a4f9-b0d0fa75106b"
    }
   },
   "outputs": [
    {
     "name": "stdout",
     "output_type": "stream",
     "text": [
      "Jocelyn Bell 74.0561259411362\n"
     ]
    }
   ],
   "source": [
    "class alumno(persona):\n",
    "    \n",
    "    def __init__(self, nombre, apellido, fechanacimiento, curso):\n",
    "        super().__init__(nombre, apellido, fechanacimiento) # only python 3 \n",
    "        self.curso = curso\n",
    "\n",
    "JP = alumno(\"Jocelyn\", \"Bell\", \"1943/07/15\", \"AS4501\")\n",
    "print(JP, JP.edad())"
   ]
  },
  {
   "cell_type": "code",
   "execution_count": 336,
   "metadata": {
    "nbpresent": {
     "id": "76a42794-d703-40d6-ade1-4f1e99964f8a"
    }
   },
   "outputs": [
    {
     "name": "stdout",
     "output_type": "stream",
     "text": [
      "Jocelyn Bell (74 años)\n"
     ]
    }
   ],
   "source": [
    "class alumno(persona):\n",
    "    \n",
    "    \"\"\"Esta clase representa una persona que ademas asiste a un curso\"\"\"\n",
    "    \n",
    "    def __init__(self, nombre, apellido, fechanacimiento, curso):\n",
    "        \n",
    "        super().__init__(nombre, apellido, fechanacimiento) # only python 3\n",
    "        self.curso = curso\n",
    "        self.asistencia = 0\n",
    "        self.evaluaciones = []\n",
    "        self.tareas = []\n",
    "        self.proyecto = None\n",
    "        \n",
    "    def __repr__(self):\n",
    "        \n",
    "        return \"%s (%i años)\" % (persona.__repr__(self), self.edad())\n",
    "    \n",
    "    def asiste(self):\n",
    "        \n",
    "        self.asistencia += 1\n",
    "        \n",
    "    def notas(self, **kwargs):\n",
    "        \n",
    "        if \"tareas\" in kwargs.keys():\n",
    "            self.tareas = kwargs[\"tareas\"]\n",
    "        if \"evaluaciones\" in kwargs.keys():\n",
    "            self.evaluaciones = kwargs[\"evaluaciones\"]\n",
    "        if \"proyecto\" in kwargs.keys():\n",
    "            self.proyecto = kwargs[\"proyecto\"]\n",
    "            \n",
    "    def notafinal(self):\n",
    "        \n",
    "        return 0.3 * self.tareas + 0.3 * self.evaluaciones + 0.4 * self.proyecto\n",
    "        \n",
    "        \n",
    "\n",
    "JB = alumno(\"Jocelyn\", \"Bell\", \"1943/07/15\", \"AS4501\")\n",
    "print(JB)"
   ]
  },
  {
   "cell_type": "code",
   "execution_count": 339,
   "metadata": {
    "nbpresent": {
     "id": "2d4974fc-9153-4e86-9593-05befc343d17"
    }
   },
   "outputs": [
    {
     "name": "stdout",
     "output_type": "stream",
     "text": [
      "3\n"
     ]
    }
   ],
   "source": [
    "JB.asiste()\n",
    "print(JB.asistencia)"
   ]
  },
  {
   "cell_type": "code",
   "execution_count": 340,
   "metadata": {
    "nbpresent": {
     "id": "807dfbc7-d3f5-4f08-8ffc-5d01ae6c5654"
    }
   },
   "outputs": [
    {
     "name": "stdout",
     "output_type": "stream",
     "text": [
      "7.0\n"
     ]
    }
   ],
   "source": [
    "JB.notas(tareas = 7.0, evaluaciones = 7.0, proyecto = 7.0)\n",
    "print(JB.notafinal())"
   ]
  },
  {
   "cell_type": "code",
   "execution_count": 254,
   "metadata": {
    "nbpresent": {
     "id": "2feb1d31-1f6f-4acb-af9a-bc7728b28f3b"
    }
   },
   "outputs": [
    {
     "name": "stdout",
     "output_type": "stream",
     "text": [
      "['__class__', '__delattr__', '__dict__', '__dir__', '__doc__', '__eq__', '__format__', '__ge__', '__getattribute__', '__gt__', '__hash__', '__init__', '__init_subclass__', '__le__', '__lt__', '__module__', '__ne__', '__new__', '__reduce__', '__reduce_ex__', '__repr__', '__setattr__', '__sizeof__', '__str__', '__subclasshook__', '__weakref__', 'asiste', 'asistencia', 'birthdate', 'curso', 'edad', 'evaluaciones', 'name', 'notafinal', 'notas', 'proyecto', 'surname', 'tareas']\n"
     ]
    }
   ],
   "source": [
    "# check available attributes and functions\n",
    "print(dir(JB))"
   ]
  },
  {
   "cell_type": "markdown",
   "metadata": {},
   "source": [
    "#### Documentación de la clase"
   ]
  },
  {
   "cell_type": "code",
   "execution_count": 341,
   "metadata": {},
   "outputs": [
    {
     "data": {
      "text/plain": [
       "'Esta clase representa una persona que ademas asiste a un curso'"
      ]
     },
     "execution_count": 341,
     "metadata": {},
     "output_type": "execute_result"
    }
   ],
   "source": [
    "JB.__doc__"
   ]
  },
  {
   "cell_type": "markdown",
   "metadata": {},
   "source": [
    "__repr__ y __str__ convierte objeto a string\n",
    "\n",
    "__hash__ convierte objeto en un número\n",
    "\n",
    "__bool__ a booleano\n",
    "\n",
    "__bytes__ a string de bytes\n",
    "\n",
    "__lt__, __le__, etc.. sirven para comparar objetos"
   ]
  },
  {
   "cell_type": "markdown",
   "metadata": {
    "nbpresent": {
     "id": "4c75af72-8637-42c5-9ef1-937b351c4b89"
    }
   },
   "source": [
    "### Map and reduce"
   ]
  },
  {
   "cell_type": "code",
   "execution_count": 188,
   "metadata": {
    "nbpresent": {
     "id": "c4a5bb86-1b2a-4989-b9db-da73d5d88889"
    }
   },
   "outputs": [
    {
     "name": "stdout",
     "output_type": "stream",
     "text": [
      "<map object at 0x7f98fcae9320>\n",
      "[False, False, True, False, False, False, False, True, False, False, False, True, False, False, False, False, False, False, True, False, False, False, False, False, True, False, False, False, True, False, False, True, False, False, False, True, False, False, False, True, False, False, False, False, True, False, False, False, True, False, False, False, True, False, False, False, False, False, True, False, False, False, False, True, False, False, False, False, False, True, False, False, False, True, False, True, False, False, False, False, True, False, False, True, False, False, False, False, False, True, False, False, False, False, False, False, True, False, False, False, False, True, False, False, False, False, False, True, False, False, False, False, False, False, False, False, False, True, False, False, False, False, False, False, False, False, True]\n"
     ]
    }
   ],
   "source": [
    "# Sample strings.\n",
    "words = document.split()\n",
    "\n",
    "# Loop with compiled pattern\n",
    "p = re.compile(\"imaginari\\S\")\n",
    "matches =  map(lambda x: bool(re.match(p, x)), words)\n",
    "print(matches)\n",
    "print(list(matches))"
   ]
  },
  {
   "cell_type": "code",
   "execution_count": 196,
   "metadata": {
    "nbpresent": {
     "id": "eebf79d5-2b1f-4493-b88a-7ebc6db3617e"
    }
   },
   "outputs": [
    {
     "data": {
      "text/plain": [
       "64"
      ]
     },
     "execution_count": 196,
     "metadata": {},
     "output_type": "execute_result"
    }
   ],
   "source": [
    "from functools import reduce\n",
    "reduce(lambda x,y: x**y, [2,1,3,2])"
   ]
  },
  {
   "cell_type": "markdown",
   "metadata": {
    "nbpresent": {
     "id": "81ff19ac-ec5d-48c4-b4e6-c7f260ec7383"
    }
   },
   "source": [
    "The following happened:\n",
    "\n",
    "    ((2**1)**3)**2"
   ]
  },
  {
   "cell_type": "code",
   "execution_count": 342,
   "metadata": {
    "nbpresent": {
     "id": "f667577a-285c-484d-b73b-0aaa934f1e30"
    }
   },
   "outputs": [
    {
     "data": {
      "text/plain": [
       "7"
      ]
     },
     "execution_count": 342,
     "metadata": {},
     "output_type": "execute_result"
    }
   ],
   "source": [
    "reduce(max, [1, 7, 3, 4, 5, 6])"
   ]
  },
  {
   "cell_type": "markdown",
   "metadata": {
    "nbpresent": {
     "id": "d7ffb8d8-7d27-4dbc-95f4-67b0b4c81dae"
    }
   },
   "source": [
    "### Enumerate"
   ]
  },
  {
   "cell_type": "code",
   "execution_count": 343,
   "metadata": {
    "nbpresent": {
     "id": "1eb433fc-4d1d-4b39-9214-a62a3ccbb752"
    }
   },
   "outputs": [
    {
     "name": "stdout",
     "output_type": "stream",
     "text": [
      "0: El\n",
      "1: hombre\n",
      "2: imaginario\n",
      "3: vive\n",
      "4: en\n",
      "5: una\n",
      "6: mansion\n",
      "7: imaginaria\n",
      "8: rodeada\n",
      "9: de\n",
      "10: arboles\n",
      "11: imaginarios\n",
      "12: a\n",
      "13: la\n",
      "14: orilla\n",
      "15: de\n",
      "16: un\n",
      "17: rio\n",
      "18: imaginario\n",
      "19: De\n",
      "20: los\n",
      "21: muros\n",
      "22: que\n",
      "23: son\n",
      "24: imaginarios\n",
      "25: penden\n",
      "26: antiguos\n",
      "27: cuadros\n",
      "28: imaginarios\n",
      "29: irreparables\n",
      "30: grietas\n",
      "31: imaginarias\n",
      "32: que\n",
      "33: representan\n",
      "34: hechos\n",
      "35: imaginarios\n",
      "36: ocurridos\n",
      "37: en\n",
      "38: mundos\n",
      "39: imaginarios\n",
      "40: en\n",
      "41: lugares\n",
      "42: y\n",
      "43: tiempos\n",
      "44: imaginarios\n",
      "45: Todas\n",
      "46: las\n",
      "47: tardes\n",
      "48: imaginarias\n",
      "49: sube\n",
      "50: las\n",
      "51: escaleras\n",
      "52: imaginarias\n",
      "53: y\n",
      "54: se\n",
      "55: asoma\n",
      "56: al\n",
      "57: balcon\n",
      "58: imaginario\n",
      "59: a\n",
      "60: mirar\n",
      "61: el\n",
      "62: paisaje\n",
      "63: imaginario\n",
      "64: que\n",
      "65: consiste\n",
      "66: en\n",
      "67: un\n",
      "68: valle\n",
      "69: imaginario\n",
      "70: circundado\n",
      "71: de\n",
      "72: cerros\n",
      "73: imaginarios\n",
      "74: Sombras\n",
      "75: imaginarias\n",
      "76: vienen\n",
      "77: por\n",
      "78: el\n",
      "79: camino\n",
      "80: imaginario\n",
      "81: entonando\n",
      "82: canciones\n",
      "83: imaginarias\n",
      "84: a\n",
      "85: la\n",
      "86: muerte\n",
      "87: del\n",
      "88: sol\n",
      "89: imaginario\n",
      "90: Y\n",
      "91: en\n",
      "92: las\n",
      "93: noches\n",
      "94: de\n",
      "95: luna\n",
      "96: imaginaria\n",
      "97: suena\n",
      "98: con\n",
      "99: la\n",
      "100: mujer\n",
      "101: imaginaria\n",
      "102: que\n",
      "103: le\n",
      "104: brindo\n",
      "105: su\n",
      "106: amor\n",
      "107: imaginario\n",
      "108: vuelve\n",
      "109: a\n",
      "110: sentir\n",
      "111: ese\n",
      "112: mismo\n",
      "113: dolor\n",
      "114: ese\n",
      "115: mismo\n",
      "116: placer\n",
      "117: imaginario\n",
      "118: y\n",
      "119: vuelve\n",
      "120: a\n",
      "121: palpitar\n",
      "122: el\n",
      "123: corazon\n",
      "124: del\n",
      "125: hombre\n",
      "126: imaginario\n"
     ]
    }
   ],
   "source": [
    "for i, w in enumerate(words):\n",
    "    print(\"%i: %s\" % (i, w))"
   ]
  },
  {
   "cell_type": "markdown",
   "metadata": {},
   "source": [
    "### Zip"
   ]
  },
  {
   "cell_type": "code",
   "execution_count": 201,
   "metadata": {},
   "outputs": [
    {
     "name": "stdout",
     "output_type": "stream",
     "text": [
      "range(0, 3) [0, -1, -4]\n",
      "<zip object at 0x7f98fcc60348>\n",
      "[(0, 0), (1, -1), (2, -4)]\n"
     ]
    }
   ],
   "source": [
    "x = range(3)\n",
    "y = [-i**2 for i in x]\n",
    "print(x, y)\n",
    "print(zip(x, y))\n",
    "print(list(zip(x, y)))"
   ]
  },
  {
   "cell_type": "code",
   "execution_count": 344,
   "metadata": {},
   "outputs": [
    {
     "name": "stdout",
     "output_type": "stream",
     "text": [
      "1^2 = 1\n",
      "2^2 = 2\n",
      "3^2 = 3\n",
      "4^2 = 4\n"
     ]
    }
   ],
   "source": [
    "for i, j in zip(x, y):\n",
    "    print(\"%i^2 = %i\" % (i, j))"
   ]
  },
  {
   "cell_type": "markdown",
   "metadata": {
    "nbpresent": {
     "id": "a789b281-fdd7-4905-a91e-66c1501803f7"
    }
   },
   "source": [
    "### Numpy"
   ]
  },
  {
   "cell_type": "code",
   "execution_count": 345,
   "metadata": {
    "nbpresent": {
     "id": "82e84d0a-5525-4c4c-ac2f-d85d2cdda8bc"
    }
   },
   "outputs": [
    {
     "name": "stdout",
     "output_type": "stream",
     "text": [
      "[0 1 2 3 4 5 6 7 8 9] [ 0  1  4  9 16 25 36 49 64 81]\n",
      "(10,)\n"
     ]
    }
   ],
   "source": [
    "x = np.array(range(10))\n",
    "y = np.array(range(10))**2\n",
    "print(x, y)\n",
    "print(np.shape(x))"
   ]
  },
  {
   "cell_type": "code",
   "execution_count": 205,
   "metadata": {
    "nbpresent": {
     "id": "106af718-73d8-45d8-a4dd-bc4b5cdfa9c8"
    }
   },
   "outputs": [
    {
     "name": "stdout",
     "output_type": "stream",
     "text": [
      "(20,)\n",
      "[ 0  1  2  3  4  5  6  7  8  9  0  1  4  9 16 25 36 49 64 81]\n"
     ]
    }
   ],
   "source": [
    "z1 = np.hstack([x, y])\n",
    "print(np.shape(z1))\n",
    "print(z1)"
   ]
  },
  {
   "cell_type": "code",
   "execution_count": 206,
   "metadata": {
    "nbpresent": {
     "id": "161c58e8-f570-4cfc-87ae-15f03ec4c710"
    }
   },
   "outputs": [
    {
     "name": "stdout",
     "output_type": "stream",
     "text": [
      "(3, 10)\n",
      "[[ 0  1  2  3  4  5  6  7  8  9]\n",
      " [ 0  1  4  9 16 25 36 49 64 81]\n",
      " [ 0  1  2  3  4  5  6  7  8  9]]\n"
     ]
    }
   ],
   "source": [
    "z2 = np.vstack([x, y, x])\n",
    "print(np.shape(z2))\n",
    "print(z2)"
   ]
  },
  {
   "cell_type": "code",
   "execution_count": 346,
   "metadata": {
    "nbpresent": {
     "id": "0ceb41a6-466e-44af-ba7d-544f6968d88f"
    }
   },
   "outputs": [
    {
     "name": "stdout",
     "output_type": "stream",
     "text": [
      "(3, 10, 2)\n"
     ]
    }
   ],
   "source": [
    "z3 = np.dstack([z2, z2])\n",
    "print(np.shape(z3))"
   ]
  },
  {
   "cell_type": "code",
   "execution_count": 347,
   "metadata": {
    "nbpresent": {
     "id": "bc028c8d-f0d3-42ef-9a46-4fe0a85fac46"
    }
   },
   "outputs": [
    {
     "name": "stdout",
     "output_type": "stream",
     "text": [
      "[ 0.  1.  2.  3.  4.  5.  6.  7.  8.  9.]\n"
     ]
    }
   ],
   "source": [
    "print(np.array(x, dtype = float))"
   ]
  },
  {
   "cell_type": "code",
   "execution_count": 348,
   "metadata": {},
   "outputs": [
    {
     "name": "stdout",
     "output_type": "stream",
     "text": [
      "['0' '1' '2' '3' '4' '5' '6' '7' '8' '9']\n"
     ]
    }
   ],
   "source": [
    "print(np.array(x, dtype = str))"
   ]
  },
  {
   "cell_type": "code",
   "execution_count": 349,
   "metadata": {
    "nbpresent": {
     "id": "01ff440f-7203-4af4-973f-afb00683828e"
    }
   },
   "outputs": [
    {
     "name": "stdout",
     "output_type": "stream",
     "text": [
      "[False  True  True  True  True  True  True  True  True  True]\n"
     ]
    }
   ],
   "source": [
    "print(np.array(x, dtype = bool))"
   ]
  },
  {
   "cell_type": "code",
   "execution_count": 350,
   "metadata": {
    "nbpresent": {
     "id": "5271f40f-1894-4346-a5c9-44d086ef4369"
    }
   },
   "outputs": [
    {
     "name": "stdout",
     "output_type": "stream",
     "text": [
      "[0 1 2 3 4 5 6 7 8 9] [ 0.55303983  0.78753391  0.48790149  0.72370144  0.81277975  0.50091127\n",
      "  0.63293879  0.3505272   0.77810465  0.48692847]\n"
     ]
    }
   ],
   "source": [
    "z = np.random.random(np.size(x))\n",
    "print(x, z)"
   ]
  },
  {
   "cell_type": "code",
   "execution_count": 351,
   "metadata": {
    "nbpresent": {
     "id": "dc2442f1-7daf-43a2-886f-02fb1f98723c"
    }
   },
   "outputs": [
    {
     "name": "stdout",
     "output_type": "stream",
     "text": [
      "[7 9 2 5 0 6 3 8 1 4]\n"
     ]
    }
   ],
   "source": [
    "print(np.argsort(z))"
   ]
  },
  {
   "cell_type": "code",
   "execution_count": 353,
   "metadata": {
    "nbpresent": {
     "id": "a4163fd2-1b2b-4fed-8f7b-c4e1536f35ed"
    }
   },
   "outputs": [
    {
     "name": "stdout",
     "output_type": "stream",
     "text": [
      "[7 9 2 5 0 6 3 8 1 4]\n"
     ]
    }
   ],
   "source": [
    "print(x[np.argsort(z)])"
   ]
  },
  {
   "cell_type": "code",
   "execution_count": 354,
   "metadata": {
    "nbpresent": {
     "id": "58c2dd84-4838-4077-99a4-ddfa7113b203"
    }
   },
   "outputs": [
    {
     "name": "stdout",
     "output_type": "stream",
     "text": [
      "[ 0.55303983  0.78753391  0.72370144  0.81277975]\n"
     ]
    }
   ],
   "source": [
    "print(z[(z > 0.5) & (x < 5)])"
   ]
  },
  {
   "cell_type": "code",
   "execution_count": 355,
   "metadata": {},
   "outputs": [
    {
     "name": "stdout",
     "output_type": "stream",
     "text": [
      "[[False False]\n",
      " [False False]]\n"
     ]
    }
   ],
   "source": [
    "print(np.zeros((2, 2), dtype = bool))"
   ]
  },
  {
   "cell_type": "code",
   "execution_count": 364,
   "metadata": {},
   "outputs": [
    {
     "name": "stdout",
     "output_type": "stream",
     "text": [
      "[500000 700000 400000 700000 800000 500000 600000 300000 700000 400000]\n",
      "[300000 400000 500000 600000 700000 800000]\n"
     ]
    }
   ],
   "source": [
    "z = np.array(z * 10, dtype = int)\n",
    "print(z)\n",
    "print(np.unique(z))"
   ]
  },
  {
   "cell_type": "code",
   "execution_count": 359,
   "metadata": {},
   "outputs": [
    {
     "name": "stdout",
     "output_type": "stream",
     "text": [
      "[False False False False False False False False False False]\n",
      "[ True  True  True  True  True  True  True  True  True  True]\n",
      "[ 0.  0.  0.  0.  0.  0.  0.  0.  0.  0.]\n",
      "['1' '1' '1' '1' '1' '1' '1' '1' '1' '1']\n"
     ]
    }
   ],
   "source": [
    "print(np.zeros_like(z, dtype = bool))\n",
    "print(np.ones_like(z, dtype = bool))\n",
    "print(np.zeros_like(z, dtype = float))\n",
    "print(np.ones_like(z, dtype = str))"
   ]
  },
  {
   "cell_type": "code",
   "execution_count": 218,
   "metadata": {},
   "outputs": [
    {
     "name": "stdout",
     "output_type": "stream",
     "text": [
      "[ 0.          0.11111111  0.22222222  0.33333333  0.44444444  0.55555556\n",
      "  0.66666667  0.77777778  0.88888889  1.        ]\n",
      "[  1.           1.29154967   1.66810054   2.15443469   2.7825594\n",
      "   3.59381366   4.64158883   5.9948425    7.74263683  10.        ]\n"
     ]
    }
   ],
   "source": [
    "x = np.linspace(0, 1, 10)\n",
    "y = np.logspace(0, 1, 10)\n",
    "print(x)\n",
    "print(y)"
   ]
  },
  {
   "cell_type": "markdown",
   "metadata": {},
   "source": [
    "### Numpy easy input/output:\n",
    "\n",
    "Load/Save as ASCII:\n",
    "\n",
    "    numpy genfromtxt, loadtxt, savetxt\n",
    "\n",
    "Load/Save as binary:\n",
    "\n",
    "    numpy load, save\n"
   ]
  },
  {
   "cell_type": "markdown",
   "metadata": {},
   "source": [
    "## Matplotlib"
   ]
  },
  {
   "cell_type": "code",
   "execution_count": 219,
   "metadata": {
    "collapsed": true
   },
   "outputs": [],
   "source": [
    "import matplotlib.pyplot as plt\n",
    "%matplotlib inline"
   ]
  },
  {
   "cell_type": "code",
   "execution_count": 220,
   "metadata": {},
   "outputs": [
    {
     "data": {
      "text/plain": [
       "<matplotlib.text.Text at 0x7f98fcc4cd30>"
      ]
     },
     "execution_count": 220,
     "metadata": {},
     "output_type": "execute_result"
    },
    {
     "data": {
      "image/png": "[encoded data removed]",
      "text/plain": [
       "<matplotlib.figure.Figure at 0x7f98fcb2f7b8>"
      ]
     },
     "metadata": {},
     "output_type": "display_data"
    }
   ],
   "source": [
    "fig, ax = plt.subplots()\n",
    "x = np.linspace(0, 1, 10)\n",
    "y = x**2\n",
    "e_y = 0.1 * np.ones_like(x)\n",
    "ax.plot(x, y);\n",
    "ax.scatter(x, y + 1, c = 'r')\n",
    "ax.errorbar(x, y + 2, yerr = e_y)\n",
    "ax.set_xlabel(\"x\")\n",
    "ax.set_ylabel(\"y\")"
   ]
  },
  {
   "cell_type": "code",
   "execution_count": 222,
   "metadata": {},
   "outputs": [
    {
     "name": "stdout",
     "output_type": "stream",
     "text": [
      "0 0\n",
      "0 1\n",
      "1 0\n",
      "1 1\n"
     ]
    },
    {
     "data": {
      "image/png": "[encoded data removed]",
      "text/plain": [
       "<matplotlib.figure.Figure at 0x7f990047ca58>"
      ]
     },
     "metadata": {},
     "output_type": "display_data"
    }
   ],
   "source": [
    "fig, ax = plt.subplots(ncols = 2, nrows = 2, figsize = (14, 8), sharex = True, sharey = True)\n",
    "x = np.linspace(0, 1, 10)\n",
    "y = x**2\n",
    "e_y = 0.1 * np.ones_like(x)\n",
    "for i, axi in enumerate(ax):\n",
    "    for j, axij in enumerate(axi):\n",
    "        print(i, j)\n",
    "        axij.plot(x + i, y + j);\n",
    "        axij.scatter(x + i, y + 1 + j, c = 'r')\n",
    "        axij.errorbar(x + i, y + 2 + j, yerr = e_y)\n",
    "        axij.set_xlabel(\"x\")\n",
    "        axij.set_ylabel(\"y\")"
   ]
  },
  {
   "cell_type": "code",
   "execution_count": 223,
   "metadata": {},
   "outputs": [
    {
     "data": {
      "image/png": "[encoded data removed]",
      "text/plain": [
       "<matplotlib.figure.Figure at 0x7f98fcc1efd0>"
      ]
     },
     "metadata": {},
     "output_type": "display_data"
    }
   ],
   "source": [
    "fig, ax = plt.subplots(ncols = 3, nrows = 3, figsize = (14, 8), sharex = True, sharey = True)\n",
    "x = np.linspace(0, 1, 10)\n",
    "y = x**2\n",
    "e_y = 0.1 * np.ones_like(x)\n",
    "for i, axi in enumerate(ax):\n",
    "    for j, axij in enumerate(axi):\n",
    "        axij.plot(x + i, y + j, label = \"plot (%i %i)\" % (i, j));\n",
    "        axij.scatter(x + i, y + 1 + j, c = 'r', label = \"scatter (%i %i)\" % (i, j), alpha = 0.5, marker = '*')\n",
    "        axij.errorbar(x + i, y + 2 + j, yerr = e_y, label = \"errorbar $y = x^2$ (%i %i)\" % (i, j))\n",
    "        axij.hist(y, alpha = 0.2, color = 'gray', label = \"histogram\")\n",
    "        axij.text(x[-1] + i, y[-1] + j, \"fin\", rotation = 45, fontsize = 30)\n",
    "        axij.fill_between(x + i, y + j + 3, y + j + 4, label = \"fill_between\", alpha = 0.2)\n",
    "        axij.legend(fontsize = 8, framealpha = 0.5)\n",
    "        axij.set_xlabel(\"x\")\n",
    "        axij.set_ylabel(\"y\")"
   ]
  },
  {
   "cell_type": "markdown",
   "metadata": {},
   "source": [
    "* See many more examples in here:\n",
    "    http://matplotlib.org/gallery.html\n",
    "    \n",
    "* Google and stackoverflow are your friends!"
   ]
  },
  {
   "cell_type": "markdown",
   "metadata": {
    "nbpresent": {
     "id": "c29e0939-ca4c-4f61-be9b-1c3eb0be8a2e"
    },
    "slideshow": {
     "slide_type": "slide"
    }
   },
   "source": [
    "### Problema: \n",
    "\n",
    "Imagine que en la estrella Alpha Centauri ocurriera un tránsito planetario con un período de 201.16 días. Si el último tránsito hubiese ocurrido el día juliano modificado 57501.31 y dispone de observatorios robóticos en el norte de Chile, Nueva Zelanda, Australia y Sudáfrica, determine con qué probabilidad será visible desde cada sitio. Indique en forma gráfica qué zonas del cielo serán visibles en cada sitio durante los próximos diez tránsitos.\n",
    "\n",
    "Las coordenadas de Alpha Centauri son:\n",
    "* 14:29:42.9487 -60:40:46.141\n",
    "\n",
    "Las coordenadas de cada observatorio son:\n",
    "* CL -30:10:10.78 -70:48:23.49\n",
    "* NZ -41:06:06 -174:50:29\n",
    "* SA -32:22:34 20:48:38\n",
    "* AU -31:16:24 149:03:52\n",
    "\n",
    "Notar que la probabilidad de que un objeto sea visible desde un sitio es la probabilidad de que sea noche astronómica (1/3 si la noche dura 8 horas) por la probabilidad de que el objeto sea visible a una masa de aire menor a 2, o más de 30 grados sobre el horizonte. Desde CTIO el polo está a ~30 grados sobre el horizonte, por lo que la probabilidad de que un objeto cercano al polo sea visible en un momento dado es ~1/2."
   ]
  },
  {
   "cell_type": "markdown",
   "metadata": {
    "nbpresent": {
     "id": "66ab1faa-8b1c-428c-b3d2-46e0902cac9a"
    }
   },
   "source": [
    "Utilizaremos numpy para arreglos, matplotlib para graficar, re para extraer patrones de strings, ephem (https://anaconda.org/astropy/pyephem) para calcular alturas de objetos astronómicos en distintos tiempos y desde diferentes lugares, Time para convertir tiempo MJD en fechas normales, ipywidgets para graficar interactivamente. Última línea permite graficar en jupyter."
   ]
  },
  {
   "cell_type": "code",
   "execution_count": 224,
   "metadata": {
    "collapsed": true,
    "nbpresent": {
     "id": "bc2d8783-5048-40e0-ad8d-3106a955dba2"
    },
    "slideshow": {
     "slide_type": "slide"
    }
   },
   "outputs": [],
   "source": [
    "import numpy as np\n",
    "import matplotlib.pyplot as plt\n",
    "import re\n",
    "import ephem\n",
    "from astropy.time import Time\n",
    "from ipywidgets import widgets, interact\n",
    "%matplotlib inline"
   ]
  },
  {
   "cell_type": "markdown",
   "metadata": {
    "nbpresent": {
     "id": "1aced55c-e709-404f-8f26-929117c0a205"
    }
   },
   "source": [
    "### Clase con grilla de objetos de ephem con coordinadas arbitrarias.\n",
    "La idea es primero utilizarlo solo con las coordenadas de Alpha Cen y luego para una grilla de valores que cubra todo el cielo."
   ]
  },
  {
   "cell_type": "code",
   "execution_count": 225,
   "metadata": {
    "collapsed": true,
    "nbpresent": {
     "id": "99e9ba4a-4a9b-49ee-b620-05baf03f9d00"
    },
    "slideshow": {
     "slide_type": "slide"
    }
   },
   "outputs": [],
   "source": [
    "# ra dec pyephem grid\n",
    "class radecgrid(object):\n",
    "\n",
    "    # initialize with RA and DEC\n",
    "    def __init__(self, ra, dec):\n",
    "    \n",
    "        # grid dimensions\n",
    "        self.nra = np.size(ra)\n",
    "        self.ndec = np.size(dec)\n",
    "        # create list of pyephem objects\n",
    "        self.radec = []\n",
    "        \n",
    "        # fill grid\n",
    "        for rai in ra:\n",
    "            for deci in dec:\n",
    "                aux = ephem.FixedBody() # Pyephem object\n",
    "                aux._ra = rai\n",
    "                aux._dec = deci\n",
    "                self.radec.append(aux)"
   ]
  },
  {
   "cell_type": "markdown",
   "metadata": {
    "nbpresent": {
     "id": "ffca5edc-d993-4089-86ca-cacae1743e4b"
    }
   },
   "source": [
    "### Clase que define sitios para observar y rutina para calcular masas de aire\n",
    "Esta clase tiene una etiqueta, valores de latitud y longitud, una función para calcular masa de aire dado un ángulo sobre el horizonte y una rutina para calcular las alturas sobre el horizonte y masas de aire para el Sol y para la grilla de RADEC usando la clase anteriormente creada."
   ]
  },
  {
   "cell_type": "code",
   "execution_count": 226,
   "metadata": {
    "collapsed": true,
    "nbpresent": {
     "id": "11901bb3-fffc-432e-bb97-94adc5e1aace"
    },
    "slideshow": {
     "slide_type": "slide"
    }
   },
   "outputs": [],
   "source": [
    "# site\n",
    "class site(object):\n",
    "\n",
    "    # initialize\n",
    "    def __init__(self, label, latitude, longitude, elevation = 0):\n",
    "\n",
    "        # etiqueta\n",
    "        self.label = label\n",
    "        # crea objeto observer de pyephem\n",
    "        self.observer = ephem.Observer() \n",
    "        self.observer.lat = latitude\n",
    "        self.observer.lon = longitude\n",
    "        self.observer.elevation = elevation\n",
    "        \n",
    "    # function to compute airmass given the angle from the horizon (from Pickering 2002)\n",
    "    def airmass(self, hh):\n",
    "        \n",
    "        return 1. / np.sin(np.deg2rad(hh + 244. / (165. + 47. * hh**1.1)))\n",
    "        \n",
    "    # fill airmasses for all times given a RADEC grid\n",
    "    def doairmasses(self, mjds, grid):\n",
    "\n",
    "        # number of times\n",
    "        self.ntimes = len(mjds)\n",
    "        # list with observation dates from pyephem\n",
    "        self.obsdates = []\n",
    "        # Sun properties\n",
    "        self.sunalts = np.zeros(self.ntimes) # altitude\n",
    "        self.sunras = np.zeros(self.ntimes) # RA\n",
    "        self.sundecs = np.zeros(self.ntimes) # DEC\n",
    "        # Altitudes and airmasses for the grid to compute\n",
    "        self.alts = np.zeros((self.ntimes, grid.nra, grid.ndec)) # array of altitudes for RA DEC grid\n",
    "        self.airmasses = 100. + np.zeros((self.ntimes, grid.nra, grid.ndec)) # array of airmasses for RA DEC grid\n",
    "        \n",
    "        # time loop\n",
    "        for imjd in range(self.ntimes):\n",
    "\n",
    "            # fill observation dates\n",
    "            obstime = ephem.Date((Time(mjds[imjd], format = 'mjd', scale = 'utc').isot).replace(\"T\", \" \"))\n",
    "            self.observer.date = obstime\n",
    "            self.obsdates.append(self.observer.date)\n",
    "\n",
    "            # sun properties\n",
    "            sun = ephem.Sun() # create pyephem object with Sun coordinates\n",
    "            sun.compute(self.observer) # compute Sun position given observer object\n",
    "            self.sunalts[imjd] = float(sun.alt) * 180. / np.pi\n",
    "            self.sunras[imjd] = float(sun.ra) * 12. / np.pi\n",
    "            self.sundecs[imjd] = float(sun.dec) * 180 / np.pi\n",
    "\n",
    "            # fill airmass\n",
    "            for ira in range(grid.nra):\n",
    "                for idec in range(grid.ndec):\n",
    "                    igrid = ira * grid.ndec + idec # This index reproduces the grid creation order\n",
    "                    grid.radec[igrid].compute(self.observer) # compute position properties\n",
    "                    (dd, mm, ss) = re.findall(\"(\\S*):(\\S*):(\\S*)\", str(grid.radec[igrid].alt))[0] # extract altitude\n",
    "                    alt = float(dd) + 1. / 60. * (float(mm) + 1. / 60. * float(ss)) # degrees\n",
    "                    self.alts[imjd, ira, idec] = alt\n",
    "                    if alt > 0: # if altitude is greater than zero, compute airmass\n",
    "                        self.airmasses[imjd, ira, idec] = self.airmass(alt)"
   ]
  },
  {
   "cell_type": "markdown",
   "metadata": {
    "nbpresent": {
     "id": "d2cc8c68-792a-4ae2-a9ea-2b4ed0cf0b05"
    }
   },
   "source": [
    "### Grilla de RA DEC para Alpha Cen y para distintas posiciones en todo el cielo"
   ]
  },
  {
   "cell_type": "code",
   "execution_count": 227,
   "metadata": {
    "collapsed": true,
    "nbpresent": {
     "id": "f13ebf42-b016-4189-be23-cbaa9cefd430"
    }
   },
   "outputs": [],
   "source": [
    "# Alpha Cen coordinates\n",
    "alphacenra = (14. + (29. + 42.9487 / 60.) / 60.)\n",
    "alphacendec = -(60. + (40. + 46.141 / 60.) / 60.)\n",
    "gridalphacen = radecgrid([alphacenra * np.pi / 12.], [alphacendec * np.pi / 180.])\n",
    "\n",
    "# define dense ra dec grid\n",
    "ra = np.linspace(0, 2. * np.pi, 40)\n",
    "dec = np.linspace(-np.pi / 2., np.pi / 2., 40)\n",
    "grid = radecgrid(ra, dec)"
   ]
  },
  {
   "cell_type": "markdown",
   "metadata": {
    "nbpresent": {
     "id": "e36c9523-1ab2-4c8d-866d-56e2f337bc40"
    }
   },
   "source": [
    "### Lista de objectos site con los diferentes lugares que consideraremos"
   ]
  },
  {
   "cell_type": "code",
   "execution_count": 228,
   "metadata": {
    "collapsed": true,
    "nbpresent": {
     "id": "77bbcba9-127d-4f1e-a134-10f62c7521c2"
    },
    "slideshow": {
     "slide_type": "slide"
    }
   },
   "outputs": [],
   "source": [
    "# initilize list of site objects\n",
    "sites = []\n",
    "    \n",
    "# Chile\n",
    "label = \"CL\"\n",
    "latitude = \"-30:10:10.78\"\n",
    "longitude = \"-70:48:23.49\"\n",
    "sites.append(site(label, latitude, longitude))\n",
    "\n",
    "# NZ\n",
    "label = \"NZ\"\n",
    "latitude = \"-41:06:06\"\n",
    "longitude = \"-174:50:29\"\n",
    "sites.append(site(label, latitude, longitude))\n",
    "\n",
    "# SA\n",
    "label = \"SA\"\n",
    "latitude = \"-32:22:34\"\n",
    "longitude = \"20:48:38\"\n",
    "sites.append(site(label, latitude, longitude))\n",
    "    \n",
    "# Australia\n",
    "label = \"AU\"\n",
    "latitude = \"-31:16:24\"\n",
    "longitude = \"149:03:52\"\n",
    "sites.append(site(label, latitude, longitude))"
   ]
  },
  {
   "cell_type": "markdown",
   "metadata": {
    "nbpresent": {
     "id": "01db7d5c-5f05-4c9c-a7b8-b506f60f17a3"
    }
   },
   "source": [
    "### Tiempos de los próximos tránsitos"
   ]
  },
  {
   "cell_type": "code",
   "execution_count": 229,
   "metadata": {
    "collapsed": true,
    "nbpresent": {
     "id": "fa8a81da-3246-4951-91ab-2a07de27f0d9"
    }
   },
   "outputs": [],
   "source": [
    "# time of last transit and period\n",
    "mjdlast = 57710.31\n",
    "Ttransit = 201.16\n",
    "\n",
    "# times for all the transits including the last one\n",
    "ntransit = 100\n",
    "mjds = mjdlast + Ttransit * np.array(range(ntransit + 1))"
   ]
  },
  {
   "cell_type": "markdown",
   "metadata": {
    "nbpresent": {
     "id": "5969a61a-32de-4d32-a361-05a44918aa55"
    }
   },
   "source": [
    "### Calcular masas de aire para Alpha Cen en los próximos tránsitos y probabilidades de observabilidad\n",
    "Variar ntransit para mejorar cálculo de probabilidad"
   ]
  },
  {
   "cell_type": "code",
   "execution_count": 232,
   "metadata": {
    "nbpresent": {
     "id": "6e3bc4a8-126f-4663-86c9-6db2c7c51713"
    },
    "slideshow": {
     "slide_type": "slide"
    }
   },
   "outputs": [
    {
     "name": "stdout",
     "output_type": "stream",
     "text": [
      "Site: CL, (lon: -70:48:23.5, lat: -30:10:10.8)\n",
      "17 0.168316831683 0.16666666666666666\n",
      "Site: NZ, (lon: -174:50:29.0, lat: -41:06:06.0)\n",
      "19 0.188118811881 0.16666666666666666\n",
      "Site: SA, (lon: 20:48:38.0, lat: -32:22:34.0)\n",
      "18 0.178217821782 0.16666666666666666\n",
      "Site: AU, (lon: 149:03:52.0, lat: -31:16:24.0)\n",
      "17 0.168316831683 0.16666666666666666\n"
     ]
    },
    {
     "name": "stderr",
     "output_type": "stream",
     "text": [
      "WARNING: ErfaWarning: ERFA function \"d2dtf\" yielded 1 of \"dubious year (Note 5)\" [astropy._erfa.core]\n"
     ]
    }
   ],
   "source": [
    "# compute airmasses for all sites at all times at the position of Alpha Centauri\n",
    "for isite in range(len(sites)):\n",
    "    print(\"Site: %s, (lon: %s, lat: %s)\" % (sites[isite].label, sites[isite].observer.lon, sites[isite].observer.lat))\n",
    "    sites[isite].doairmasses(mjds, gridalphacen)\n",
    "    mask = (sites[isite].airmasses.flatten() <= 2) & (sites[isite].sunalts < -18)\n",
    "    print(np.sum(mask), 1. * np.sum(mask) / len(mjds), 1. / 6.)"
   ]
  },
  {
   "cell_type": "markdown",
   "metadata": {
    "nbpresent": {
     "id": "05aa2e00-28aa-4f0c-95d8-fdc7ace509bc"
    }
   },
   "source": [
    "Se puede ver que aquellos sitios con menor latitud tienen una mayor probabilidad de observabilidad"
   ]
  },
  {
   "cell_type": "code",
   "execution_count": 234,
   "metadata": {
    "nbpresent": {
     "id": "31afc988-7dc1-45f9-8d2f-7310a3903010"
    },
    "slideshow": {
     "slide_type": "slide"
    }
   },
   "outputs": [
    {
     "name": "stdout",
     "output_type": "stream",
     "text": [
      "CL\n"
     ]
    },
    {
     "name": "stderr",
     "output_type": "stream",
     "text": [
      "WARNING: ErfaWarning: ERFA function \"d2dtf\" yielded 1 of \"dubious year (Note 5)\" [astropy._erfa.core]\n"
     ]
    },
    {
     "name": "stdout",
     "output_type": "stream",
     "text": [
      "(101, 40, 40)\n",
      "NZ\n",
      "(101, 40, 40)\n",
      "SA\n",
      "(101, 40, 40)\n",
      "AU\n",
      "(101, 40, 40)\n"
     ]
    }
   ],
   "source": [
    "# compute airmasses for all sites at all times at the RADEC grid\n",
    "for isite in range(len(sites)):\n",
    "    print(sites[isite].label)\n",
    "    sites[isite].doairmasses(mjds, grid)\n",
    "    print(np.shape(sites[isite].airmasses))"
   ]
  },
  {
   "cell_type": "code",
   "execution_count": 237,
   "metadata": {
    "collapsed": true,
    "nbpresent": {
     "id": "b72e71f8-c516-410f-b9bb-c02d0a81da64"
    },
    "slideshow": {
     "slide_type": "slide"
    }
   },
   "outputs": [],
   "source": [
    "# plot information for all sites\n",
    "colors = ['gray', 'r', 'k', 'b', 'g']\n",
    "\n",
    "# create meshgrid RA and DEC\n",
    "(RAm, DECm) = np.meshgrid(ra, dec)\n",
    "\n",
    "def plottransit(imjd):\n",
    "    fig, ax = plt.subplots(figsize = (10, 8))\n",
    "\n",
    "    #print \"MJD: %f\" % mjds[imjd]\n",
    "    # clean axis\n",
    "    ax.cla()\n",
    "    # Alpha Cen\n",
    "    ax.scatter(float(alphacenra), float(alphacendec), c = 'r')\n",
    "    # The sun\n",
    "    ax.scatter(sites[0].sunras[imjd], sites[0].sundecs[imjd], marker = '*', c = 'y', s = 500)\n",
    "    \n",
    "    for isite in range(len(sites)):\n",
    "        if sites[isite].sunalts[imjd] < -18:\n",
    "            #print \"%s Sun altitude: %f degrees\" % (sites[isite].label, sites[isite].sunalts[imjd])\n",
    "            CS = ax.contour(RAm * 12. / np.pi, DECm * 180. / np.pi, sites[isite].airmasses[imjd].transpose(),\\\n",
    "                            levels = [2], colors = colors[isite])\n",
    "            fmt = {}\n",
    "            fmt[CS.levels[0]] = \"%s, x = 2\" % sites[isite].label\n",
    "            ax.clabel(CS, CS.levels, inline = True, fmt = fmt, fontsize = 10)\n",
    "\n",
    "    ax.set_title(\"%s\" % sites[0].obsdates[imjd])\n",
    "    ax.set_ylim(-90, 90)\n",
    "    ax.set_xlim(-1, 25)\n",
    "    ax.set_xlabel(\"RA [hr]\")\n",
    "    ax.set_ylabel(\"DEC [deg]\")\n",
    "    ax.grid()\n",
    "    plt.show()"
   ]
  },
  {
   "cell_type": "code",
   "execution_count": 238,
   "metadata": {
    "nbpresent": {
     "id": "ef6f8dbe-668d-49b8-9698-315301e69c02"
    },
    "slideshow": {
     "slide_type": "slide"
    }
   },
   "outputs": [
    {
     "data": {
      "application/vnd.jupyter.widget-view+json": {
       "model_id": "494f448806544b09928fbafabe950cce"
      }
     },
     "metadata": {},
     "output_type": "display_data"
    }
   ],
   "source": [
    "# Interactive plot\n",
    "interact(plottransit, imjd = widgets.IntSlider(min = 0,max = len(mjds) - 1, step = 1, value = 0));"
   ]
  },
  {
   "cell_type": "code",
   "execution_count": null,
   "metadata": {
    "collapsed": true
   },
   "outputs": [],
   "source": []
  }
 ],
 "metadata": {
  "anaconda-cloud": {},
  "kernelspec": {
   "display_name": "Python 3",
   "language": "python",
   "name": "python3"
  },
  "language_info": {
   "codemirror_mode": {
    "name": "ipython",
    "version": 3
   },
   "file_extension": ".py",
   "mimetype": "text/x-python",
   "name": "python",
   "nbconvert_exporter": "python",
   "pygments_lexer": "ipython3",
   "version": "3.6.1"
  },
  "nbpresent": {
   "slides": {
    "0031a6d3-469d-458f-bbb4-bfc4e6388a69": {
     "id": "0031a6d3-469d-458f-bbb4-bfc4e6388a69",
     "prev": "3bc1a921-0ff8-45f7-840a-38641cd4860e",
     "regions": {
      "769093d2-65e2-4a9a-afac-710d027fcc0a": {
       "attrs": {
        "height": 0.8,
        "width": 0.8,
        "x": 0.1,
        "y": 0.1
       },
       "content": {
        "cell": "a81aa026-bf96-433b-9ff2-9f1ef5adf6e7",
        "part": "whole"
       },
       "id": "769093d2-65e2-4a9a-afac-710d027fcc0a"
      }
     }
    },
    "01eeea67-34e4-4247-9427-02b2313672c2": {
     "id": "01eeea67-34e4-4247-9427-02b2313672c2",
     "prev": "9b78ee38-f6f9-48f1-b9c4-669c62dfd01b",
     "regions": {
      "5daa5b7e-c6c3-447d-a4ff-c373e48497a4": {
       "attrs": {
        "height": 0.8,
        "width": 0.8,
        "x": 0.1,
        "y": 0.1
       },
       "content": {
        "cell": "fa8a81da-3246-4951-91ab-2a07de27f0d9",
        "part": "whole"
       },
       "id": "5daa5b7e-c6c3-447d-a4ff-c373e48497a4"
      }
     }
    },
    "0291c1b0-9b7f-4f7d-a47d-69ff25a08dd1": {
     "id": "0291c1b0-9b7f-4f7d-a47d-69ff25a08dd1",
     "prev": "59532d9e-fc05-4f9f-a9f3-6bc232bd53e8",
     "regions": {
      "e953460a-d58c-4243-8158-259ebd9ac2fc": {
       "attrs": {
        "height": 0.8,
        "width": 0.8,
        "x": 0.1,
        "y": 0.1
       },
       "content": {
        "cell": "31afc988-7dc1-45f9-8d2f-7310a3903010",
        "part": "whole"
       },
       "id": "e953460a-d58c-4243-8158-259ebd9ac2fc"
      }
     }
    },
    "08a39bb9-f0fe-4405-97d9-e379dd394265": {
     "id": "08a39bb9-f0fe-4405-97d9-e379dd394265",
     "prev": "33be9d4f-17f9-4961-8f52-39a5302fb7d4",
     "regions": {
      "41311540-8cad-47ad-a50a-d9288cb015ff": {
       "attrs": {
        "height": 0.8,
        "width": 0.8,
        "x": 0.1,
        "y": 0.1
       },
       "content": {
        "cell": "82e84d0a-5525-4c4c-ac2f-d85d2cdda8bc",
        "part": "whole"
       },
       "id": "41311540-8cad-47ad-a50a-d9288cb015ff"
      }
     }
    },
    "0a01a37b-e27f-47dd-9afb-24e78eb009f1": {
     "id": "0a01a37b-e27f-47dd-9afb-24e78eb009f1",
     "prev": "6c53a35f-e61a-40aa-ae2d-2d933bee444c",
     "regions": {
      "b0f5d6af-c38d-419c-9392-aba1a5f79883": {
       "attrs": {
        "height": 0.8,
        "width": 0.8,
        "x": 0.1,
        "y": 0.1
       },
       "content": {
        "cell": "572211ec-1519-40eb-863d-2d0312262d3f",
        "part": "whole"
       },
       "id": "b0f5d6af-c38d-419c-9392-aba1a5f79883"
      }
     }
    },
    "0ac0cb2a-c451-40b7-b65b-875b3f0cd238": {
     "id": "0ac0cb2a-c451-40b7-b65b-875b3f0cd238",
     "prev": "f86124d9-e4e3-48ba-bdd3-557f09f5ad14",
     "regions": {
      "657c6a82-41a7-4f0c-be1e-d4c8af27e736": {
       "attrs": {
        "height": 0.8,
        "width": 0.8,
        "x": 0.1,
        "y": 0.1
       },
       "content": {
        "cell": "570640a5-db39-4336-b0ed-83033853dd73",
        "part": "whole"
       },
       "id": "657c6a82-41a7-4f0c-be1e-d4c8af27e736"
      }
     }
    },
    "0cc8abf8-5b62-4372-a62a-42a3deebf41b": {
     "id": "0cc8abf8-5b62-4372-a62a-42a3deebf41b",
     "prev": "f1bd0956-a91a-444c-8595-3d9b7629b478",
     "regions": {
      "2c10dcd6-9711-4f17-83a0-5777c3b09854": {
       "attrs": {
        "height": 0.8,
        "width": 0.8,
        "x": 0.1,
        "y": 0.1
       },
       "content": {
        "cell": "c21fe10c-03f6-437e-ab57-a43372c82c78",
        "part": "whole"
       },
       "id": "2c10dcd6-9711-4f17-83a0-5777c3b09854"
      }
     }
    },
    "0d2a6e3a-c84b-4116-b418-ecf8b62ab4c7": {
     "id": "0d2a6e3a-c84b-4116-b418-ecf8b62ab4c7",
     "prev": "5bd56094-c088-44d6-b8dc-dfa9aaf5928a",
     "regions": {
      "59faab16-b6be-4e1b-8906-994266fcdff1": {
       "attrs": {
        "height": 0.8,
        "width": 0.8,
        "x": 0.1,
        "y": 0.1
       },
       "content": {
        "cell": "b50b7b01-8ace-4380-8138-5f37df96f025",
        "part": "whole"
       },
       "id": "59faab16-b6be-4e1b-8906-994266fcdff1"
      }
     }
    },
    "0e04d1c5-50cf-4d53-a0d1-53e2a9fba2d0": {
     "id": "0e04d1c5-50cf-4d53-a0d1-53e2a9fba2d0",
     "prev": "2f8d78ad-d0a0-466c-80c1-acb6296a5655",
     "regions": {
      "a679581b-8b21-4885-b490-50d10e553aa5": {
       "attrs": {
        "height": 0.8,
        "width": 0.8,
        "x": 0.1,
        "y": 0.1
       },
       "content": {
        "cell": "3b7580e2-24d3-434e-a69a-7db1b1d3397d",
        "part": "whole"
       },
       "id": "a679581b-8b21-4885-b490-50d10e553aa5"
      }
     }
    },
    "0efad0bb-b4e8-4e17-96fd-8d7686f4fa6c": {
     "id": "0efad0bb-b4e8-4e17-96fd-8d7686f4fa6c",
     "prev": "e47266b2-27fa-46e5-8fe8-b714784398ee",
     "regions": {
      "1ad3cadb-9c98-4a8e-b1f9-92523323dd9a": {
       "attrs": {
        "height": 0.8,
        "width": 0.8,
        "x": 0.1,
        "y": 0.1
       },
       "content": {
        "cell": "fe3b0c9a-8397-4db4-9b83-4d442ffdfe27",
        "part": "whole"
       },
       "id": "1ad3cadb-9c98-4a8e-b1f9-92523323dd9a"
      }
     }
    },
    "10dc63d1-294b-4d9f-b348-350902c5b671": {
     "id": "10dc63d1-294b-4d9f-b348-350902c5b671",
     "prev": "8384fc4c-5f16-4019-8c4f-2734c16961b2",
     "regions": {
      "c807fe2d-2564-443a-9b47-63b177b6d7e1": {
       "attrs": {
        "height": 0.8,
        "width": 0.8,
        "x": 0.1,
        "y": 0.1
       },
       "content": {
        "cell": "e1e7ccb9-a1ff-4825-be97-a408f89a65a6",
        "part": "whole"
       },
       "id": "c807fe2d-2564-443a-9b47-63b177b6d7e1"
      }
     }
    },
    "1395ae14-6707-4993-b6c9-d67c1f1d421b": {
     "id": "1395ae14-6707-4993-b6c9-d67c1f1d421b",
     "prev": "9d7981ed-12d2-46cf-827c-96c13ae008c8",
     "regions": {
      "17c2115e-7222-4582-b314-4fc64b277506": {
       "attrs": {
        "height": 0.8,
        "width": 0.8,
        "x": 0.1,
        "y": 0.1
       },
       "content": {
        "cell": "dc2442f1-7daf-43a2-886f-02fb1f98723c",
        "part": "whole"
       },
       "id": "17c2115e-7222-4582-b314-4fc64b277506"
      }
     }
    },
    "1679731d-3470-44a7-bda9-8202f14b51ff": {
     "id": "1679731d-3470-44a7-bda9-8202f14b51ff",
     "prev": "1b94f7eb-69e3-41ae-bf9d-f260b4877d56",
     "regions": {
      "dc5a6769-5114-4d31-8a08-7a1c2b19ba81": {
       "attrs": {
        "height": 0.8,
        "width": 0.8,
        "x": 0.1,
        "y": 0.1
       },
       "content": {
        "cell": "0bc26f2d-77d9-4a9c-ba11-b25c453eb417",
        "part": "whole"
       },
       "id": "dc5a6769-5114-4d31-8a08-7a1c2b19ba81"
      }
     }
    },
    "190ac85b-bbb8-4782-ada2-d8cce179c65a": {
     "id": "190ac85b-bbb8-4782-ada2-d8cce179c65a",
     "prev": "7e97fc6a-3c68-459d-b970-63dc0e31ab03",
     "regions": {
      "3bdff338-f9c9-4e98-ab6e-5f06135baa10": {
       "attrs": {
        "height": 0.8,
        "width": 0.8,
        "x": 0.1,
        "y": 0.1
       },
       "content": {
        "cell": "683573f1-c314-428d-837e-0b7132ede7dd",
        "part": "whole"
       },
       "id": "3bdff338-f9c9-4e98-ab6e-5f06135baa10"
      }
     }
    },
    "1b94f7eb-69e3-41ae-bf9d-f260b4877d56": {
     "id": "1b94f7eb-69e3-41ae-bf9d-f260b4877d56",
     "prev": "9babad04-83e5-44b0-b58c-94627818eab5",
     "regions": {
      "8e389262-5cd6-41f1-b7cc-4179a5131fcd": {
       "attrs": {
        "height": 0.8,
        "width": 0.8,
        "x": 0.1,
        "y": 0.1
       },
       "content": {
        "cell": "d7443ccb-91a6-4ea8-ab58-800f8db301ca",
        "part": "whole"
       },
       "id": "8e389262-5cd6-41f1-b7cc-4179a5131fcd"
      }
     }
    },
    "1d6ba80d-d8a5-46ca-b721-5477771f0d19": {
     "id": "1d6ba80d-d8a5-46ca-b721-5477771f0d19",
     "prev": "b92daa4c-9b8b-47b5-b4dd-60d8effd9f9f",
     "regions": {
      "1a443e43-9b08-4452-93ce-3fc102e35de9": {
       "attrs": {
        "height": 0.8,
        "width": 0.8,
        "x": 0.1,
        "y": 0.1
       },
       "content": {
        "cell": "66ab1faa-8b1c-428c-b3d2-46e0902cac9a",
        "part": "whole"
       },
       "id": "1a443e43-9b08-4452-93ce-3fc102e35de9"
      }
     }
    },
    "1e67d336-c2a3-4fd5-8519-f5ccafb20038": {
     "id": "1e67d336-c2a3-4fd5-8519-f5ccafb20038",
     "prev": "b9069f66-8f1e-4125-ad4b-55f4839228c2",
     "regions": {
      "c168a0ac-799f-4279-b098-870c0ad8ec0f": {
       "attrs": {
        "height": 0.8,
        "width": 0.8,
        "x": 0.1,
        "y": 0.1
       },
       "content": {
        "cell": "043caa2d-e005-4328-839f-85ac5e3de158",
        "part": "whole"
       },
       "id": "c168a0ac-799f-4279-b098-870c0ad8ec0f"
      }
     }
    },
    "1f8fb0e1-c162-4e43-a586-0b9c4d8edaa3": {
     "id": "1f8fb0e1-c162-4e43-a586-0b9c4d8edaa3",
     "prev": "8e6037c3-5627-499f-aaba-ef6f2293da95",
     "regions": {
      "5e6a351f-bc70-4dce-9e0d-17c38f1bdcdd": {
       "attrs": {
        "height": 0.8,
        "width": 0.8,
        "x": 0.1,
        "y": 0.1
       },
       "content": {
        "cell": "11901bb3-fffc-432e-bb97-94adc5e1aace",
        "part": "whole"
       },
       "id": "5e6a351f-bc70-4dce-9e0d-17c38f1bdcdd"
      }
     }
    },
    "24afd433-8948-41d6-961b-36b257b5e01d": {
     "id": "24afd433-8948-41d6-961b-36b257b5e01d",
     "prev": "6fb0c059-4829-464f-81f3-d16c81e35f06",
     "regions": {
      "c22eb68a-146e-4b34-816a-a0cdeb59c3b1": {
       "attrs": {
        "height": 0.8,
        "width": 0.8,
        "x": 0.1,
        "y": 0.1
       },
       "content": {
        "cell": "f667577a-285c-484d-b73b-0aaa934f1e30",
        "part": "whole"
       },
       "id": "c22eb68a-146e-4b34-816a-a0cdeb59c3b1"
      }
     }
    },
    "27b48e4b-6d75-4c33-b282-f946ea16d6a7": {
     "id": "27b48e4b-6d75-4c33-b282-f946ea16d6a7",
     "prev": "d24a427a-356d-4455-8658-84e07d9a5ab0",
     "regions": {
      "c32e4a06-faa4-494d-a35b-bcca883113c8": {
       "attrs": {
        "height": 0.8,
        "width": 0.8,
        "x": 0.1,
        "y": 0.1
       },
       "content": {
        "cell": "1eb433fc-4d1d-4b39-9214-a62a3ccbb752",
        "part": "whole"
       },
       "id": "c32e4a06-faa4-494d-a35b-bcca883113c8"
      }
     }
    },
    "2a551d41-b7eb-4586-b081-434e29b06b3d": {
     "id": "2a551d41-b7eb-4586-b081-434e29b06b3d",
     "prev": "352e8d94-75ef-4c32-beb5-0d92593f458c",
     "regions": {
      "471c9043-30a9-4cb6-91d3-d35102f54a41": {
       "attrs": {
        "height": 0.8,
        "width": 0.8,
        "x": 0.1,
        "y": 0.1
       },
       "content": {
        "cell": "148b61f9-2e9d-4b4f-a0c8-a616649f9a98",
        "part": "whole"
       },
       "id": "471c9043-30a9-4cb6-91d3-d35102f54a41"
      }
     }
    },
    "2c354519-17b1-4ff0-afd3-194703590a87": {
     "id": "2c354519-17b1-4ff0-afd3-194703590a87",
     "prev": "2d72257c-27bd-498c-828c-7b93f05d5f64",
     "regions": {
      "3c4cd9b5-37b3-44c9-9756-c4a03d1af4db": {
       "attrs": {
        "height": 0.8,
        "width": 0.8,
        "x": 0.1,
        "y": 0.1
       },
       "content": {
        "cell": "67626f02-74fa-4af1-aa3d-7d787126da30",
        "part": "whole"
       },
       "id": "3c4cd9b5-37b3-44c9-9756-c4a03d1af4db"
      }
     }
    },
    "2d2393e8-56aa-43e9-a021-d2d1cb7ff3a2": {
     "id": "2d2393e8-56aa-43e9-a021-d2d1cb7ff3a2",
     "prev": "a9ed4a5b-df94-4a59-a425-b990fcf6da01",
     "regions": {
      "6a150e68-b416-4fd8-8f77-b08b535db6e7": {
       "attrs": {
        "height": 0.8,
        "width": 0.8,
        "x": 0.1,
        "y": 0.1
       },
       "content": {
        "cell": "99e9ba4a-4a9b-49ee-b620-05baf03f9d00",
        "part": "whole"
       },
       "id": "6a150e68-b416-4fd8-8f77-b08b535db6e7"
      }
     }
    },
    "2d72257c-27bd-498c-828c-7b93f05d5f64": {
     "id": "2d72257c-27bd-498c-828c-7b93f05d5f64",
     "prev": "cfb6ef27-5ab4-402e-b0fb-f12af88485b6",
     "regions": {
      "de4d2754-11bf-4c88-9e38-a8472c790b1f": {
       "attrs": {
        "height": 0.8,
        "width": 0.8,
        "x": 0.1,
        "y": 0.1
       },
       "content": {
        "cell": "1ad5c184-b779-462c-a8d4-b9001d2e5d86",
        "part": "whole"
       },
       "id": "de4d2754-11bf-4c88-9e38-a8472c790b1f"
      }
     }
    },
    "2ea39b6b-a876-44fb-ac66-1a1d59411f00": {
     "id": "2ea39b6b-a876-44fb-ac66-1a1d59411f00",
     "prev": "d9073617-eb95-4ade-ae55-a696edf04f67",
     "regions": {
      "3ad9fe99-8761-4646-b06c-da61181558d8": {
       "attrs": {
        "height": 0.8,
        "width": 0.8,
        "x": 0.1,
        "y": 0.1
       },
       "content": {
        "cell": "e36c9523-1ab2-4c8d-866d-56e2f337bc40",
        "part": "whole"
       },
       "id": "3ad9fe99-8761-4646-b06c-da61181558d8"
      }
     }
    },
    "2f8d78ad-d0a0-466c-80c1-acb6296a5655": {
     "id": "2f8d78ad-d0a0-466c-80c1-acb6296a5655",
     "prev": "a801e3f5-159d-4cc5-933e-5779f78c4820",
     "regions": {
      "81d95183-baab-4e67-98ee-015a950e3301": {
       "attrs": {
        "height": 0.8,
        "width": 0.8,
        "x": 0.1,
        "y": 0.1
       },
       "content": {
        "cell": "9f361086-902d-44ca-9295-5194e44b9ca9",
        "part": "whole"
       },
       "id": "81d95183-baab-4e67-98ee-015a950e3301"
      }
     }
    },
    "33be9d4f-17f9-4961-8f52-39a5302fb7d4": {
     "id": "33be9d4f-17f9-4961-8f52-39a5302fb7d4",
     "prev": "27b48e4b-6d75-4c33-b282-f946ea16d6a7",
     "regions": {
      "1fbe8e54-a1cc-4687-ac77-0eb8a44f9408": {
       "attrs": {
        "height": 0.8,
        "width": 0.8,
        "x": 0.1,
        "y": 0.1
       },
       "content": {
        "cell": "a789b281-fdd7-4905-a91e-66c1501803f7",
        "part": "whole"
       },
       "id": "1fbe8e54-a1cc-4687-ac77-0eb8a44f9408"
      }
     }
    },
    "352e8d94-75ef-4c32-beb5-0d92593f458c": {
     "id": "352e8d94-75ef-4c32-beb5-0d92593f458c",
     "prev": "ee5d1786-0a98-42e1-ac57-0ddf4b67fedd",
     "regions": {
      "b20d5cd6-9873-47c5-b3f4-dc1e53f4c9a0": {
       "attrs": {
        "height": 0.8,
        "width": 0.8,
        "x": 0.1,
        "y": 0.1
       },
       "content": {
        "cell": "8dd7aad2-a4b2-4ade-8823-0d93c5ef7850",
        "part": "whole"
       },
       "id": "b20d5cd6-9873-47c5-b3f4-dc1e53f4c9a0"
      }
     }
    },
    "3bc1a921-0ff8-45f7-840a-38641cd4860e": {
     "id": "3bc1a921-0ff8-45f7-840a-38641cd4860e",
     "prev": "0cc8abf8-5b62-4372-a62a-42a3deebf41b",
     "regions": {
      "723b8612-aec0-459d-aad8-e71c8e09a1aa": {
       "attrs": {
        "height": 0.8,
        "width": 0.8,
        "x": 0.1,
        "y": 0.1
       },
       "content": {
        "cell": "ddfdd4b2-9ada-4940-861c-7fdc98b3f49e",
        "part": "whole"
       },
       "id": "723b8612-aec0-459d-aad8-e71c8e09a1aa"
      }
     }
    },
    "3d1d67d9-8dc5-405b-86f3-a1d5e757ca8e": {
     "id": "3d1d67d9-8dc5-405b-86f3-a1d5e757ca8e",
     "prev": "96c40d9b-bb42-4ca1-9e61-9cb536c26a59",
     "regions": {
      "97e0213a-6078-407a-ae95-054c62a6931f": {
       "attrs": {
        "height": 0.8,
        "width": 0.8,
        "x": 0.1,
        "y": 0.1
       },
       "content": {
        "cell": "8fe2529e-4dd9-4704-9e37-146b14938237",
        "part": "whole"
       },
       "id": "97e0213a-6078-407a-ae95-054c62a6931f"
      }
     }
    },
    "3de8bc2a-a01a-4140-9489-3a5d2d96f69a": {
     "id": "3de8bc2a-a01a-4140-9489-3a5d2d96f69a",
     "prev": "8c1ae6b2-8026-4e50-be23-1dfe2a2c79b5",
     "regions": {
      "8d0e8d30-cec8-46b1-9ea5-9ac77e0ef045": {
       "attrs": {
        "height": 0.8,
        "width": 0.8,
        "x": 0.1,
        "y": 0.1
       },
       "content": {
        "cell": "742c1852-c100-4856-b115-e57b03aa94b6",
        "part": "whole"
       },
       "id": "8d0e8d30-cec8-46b1-9ea5-9ac77e0ef045"
      }
     }
    },
    "3ec4ea3d-203e-493d-8303-f205f97888e3": {
     "id": "3ec4ea3d-203e-493d-8303-f205f97888e3",
     "prev": "754e40e7-e0a2-4f41-8945-a5ced611f403",
     "regions": {
      "f4a97aa6-7592-44db-930c-17d7b28a9b33": {
       "attrs": {
        "height": 0.8,
        "width": 0.8,
        "x": 0.1,
        "y": 0.1
       },
       "content": {
        "cell": "a33b6250-d0ca-4761-96f9-23c6ef047b6e",
        "part": "whole"
       },
       "id": "f4a97aa6-7592-44db-930c-17d7b28a9b33"
      }
     }
    },
    "3feeaf4b-2154-48a5-b65b-657204f50fb5": {
     "id": "3feeaf4b-2154-48a5-b65b-657204f50fb5",
     "prev": "d67b0258-dcde-4089-9a6f-4d2d925c03de",
     "regions": {
      "84e8f210-2d14-4937-bad0-02b9d4164a8e": {
       "attrs": {
        "height": 0.8,
        "width": 0.8,
        "x": 0.1,
        "y": 0.1
       },
       "content": {
        "cell": "ef6f8dbe-668d-49b8-9698-315301e69c02",
        "part": "whole"
       },
       "id": "84e8f210-2d14-4937-bad0-02b9d4164a8e"
      }
     }
    },
    "421eefbf-fcc1-4b90-9d3b-0652e93af232": {
     "id": "421eefbf-fcc1-4b90-9d3b-0652e93af232",
     "prev": "0d2a6e3a-c84b-4116-b418-ecf8b62ab4c7",
     "regions": {
      "1574ee15-6c63-449f-836d-c95303570fd2": {
       "attrs": {
        "height": 0.8,
        "width": 0.8,
        "x": 0.1,
        "y": 0.1
       },
       "content": {
        "cell": "805d3cb0-f612-4803-9d3e-ce8a28f80d48",
        "part": "whole"
       },
       "id": "1574ee15-6c63-449f-836d-c95303570fd2"
      }
     }
    },
    "42e2b72f-1871-497c-a820-be941c3c824d": {
     "id": "42e2b72f-1871-497c-a820-be941c3c824d",
     "prev": "4c30df4d-9385-4289-b2f3-336633386d5b",
     "regions": {
      "1cba2450-0ed7-425e-b734-dc6ef74bb9ea": {
       "attrs": {
        "height": 0.8,
        "width": 0.8,
        "x": 0.1,
        "y": 0.1
       },
       "content": {
        "cell": "9b20fbb0-7686-4130-bb20-02f2c6e2e67e",
        "part": "whole"
       },
       "id": "1cba2450-0ed7-425e-b734-dc6ef74bb9ea"
      }
     }
    },
    "451c6283-9bb0-4b8d-bbf5-267c68472ea5": {
     "id": "451c6283-9bb0-4b8d-bbf5-267c68472ea5",
     "prev": "4ca363fe-5985-4d85-b779-188becaf5f87",
     "regions": {
      "2d4f97a1-f2e3-4441-b50f-60bacbe34969": {
       "attrs": {
        "height": 0.8,
        "width": 0.8,
        "x": 0.1,
        "y": 0.1
       },
       "content": {
        "cell": "161c58e8-f570-4cfc-87ae-15f03ec4c710",
        "part": "whole"
       },
       "id": "2d4f97a1-f2e3-4441-b50f-60bacbe34969"
      }
     }
    },
    "45c556a3-accc-4d1a-a39a-7845a7a05baa": {
     "id": "45c556a3-accc-4d1a-a39a-7845a7a05baa",
     "prev": "857edb1b-c9ef-483b-8609-0ac248d7b90d",
     "regions": {
      "21c46ba9-42a0-46ea-90fe-53495a44f9a8": {
       "attrs": {
        "height": 0.8,
        "width": 0.8,
        "x": 0.1,
        "y": 0.1
       },
       "content": {
        "cell": "9fc20998-a4c2-4dc9-a0c8-083e4a77a76d",
        "part": "whole"
       },
       "id": "21c46ba9-42a0-46ea-90fe-53495a44f9a8"
      }
     }
    },
    "4c30df4d-9385-4289-b2f3-336633386d5b": {
     "id": "4c30df4d-9385-4289-b2f3-336633386d5b",
     "prev": "e4c2826c-5536-4e3e-8e28-d190f6c132a2",
     "regions": {
      "34c951f8-ed9f-4a9d-9802-5793148ff1a1": {
       "attrs": {
        "height": 0.8,
        "width": 0.8,
        "x": 0.1,
        "y": 0.1
       },
       "content": {
        "cell": "453762e1-b511-4e92-aa36-9ceb2b2d3800",
        "part": "whole"
       },
       "id": "34c951f8-ed9f-4a9d-9802-5793148ff1a1"
      }
     }
    },
    "4ca363fe-5985-4d85-b779-188becaf5f87": {
     "id": "4ca363fe-5985-4d85-b779-188becaf5f87",
     "prev": "08a39bb9-f0fe-4405-97d9-e379dd394265",
     "regions": {
      "45dbaa1d-3800-421c-9bc7-d54d02d52597": {
       "attrs": {
        "height": 0.8,
        "width": 0.8,
        "x": 0.1,
        "y": 0.1
       },
       "content": {
        "cell": "106af718-73d8-45d8-a4dd-bc4b5cdfa9c8",
        "part": "whole"
       },
       "id": "45dbaa1d-3800-421c-9bc7-d54d02d52597"
      }
     }
    },
    "5179d5f3-f7ba-4600-b166-111f9edaac0b": {
     "id": "5179d5f3-f7ba-4600-b166-111f9edaac0b",
     "prev": "b1bf7f0f-2b5d-43e6-80c3-c71ab3b588a1",
     "regions": {
      "3d964e43-f111-42a1-be0a-39e4a106edd1": {
       "attrs": {
        "height": 0.8,
        "width": 0.8,
        "x": 0.1,
        "y": 0.1
       },
       "content": {
        "cell": "4191188b-0744-4a4c-b7ba-941f5c4bde92",
        "part": "whole"
       },
       "id": "3d964e43-f111-42a1-be0a-39e4a106edd1"
      }
     }
    },
    "59532d9e-fc05-4f9f-a9f3-6bc232bd53e8": {
     "id": "59532d9e-fc05-4f9f-a9f3-6bc232bd53e8",
     "prev": "cd3a86c2-ce19-4287-a156-307ef25fd6b7",
     "regions": {
      "dd4e8c6f-7abb-4cc3-a698-e0c6750f38a0": {
       "attrs": {
        "height": 0.8,
        "width": 0.8,
        "x": 0.1,
        "y": 0.1
       },
       "content": {
        "cell": "05aa2e00-28aa-4f0c-95d8-fdc7ace509bc",
        "part": "whole"
       },
       "id": "dd4e8c6f-7abb-4cc3-a698-e0c6750f38a0"
      }
     }
    },
    "5a3f4841-5e96-4c38-9d1e-c1039da11362": {
     "id": "5a3f4841-5e96-4c38-9d1e-c1039da11362",
     "prev": "190ac85b-bbb8-4782-ada2-d8cce179c65a",
     "regions": {
      "e1430837-5dfc-4cfc-978b-3242d51b8e31": {
       "attrs": {
        "height": 0.8,
        "width": 0.8,
        "x": 0.1,
        "y": 0.1
       },
       "content": {
        "cell": "87047fdb-7ebc-4b69-82d0-17f046610559",
        "part": "whole"
       },
       "id": "e1430837-5dfc-4cfc-978b-3242d51b8e31"
      }
     }
    },
    "5bd56094-c088-44d6-b8dc-dfa9aaf5928a": {
     "id": "5bd56094-c088-44d6-b8dc-dfa9aaf5928a",
     "prev": "5a3f4841-5e96-4c38-9d1e-c1039da11362",
     "regions": {
      "ece58640-4248-4877-b299-307b6e653523": {
       "attrs": {
        "height": 0.8,
        "width": 0.8,
        "x": 0.1,
        "y": 0.1
       },
       "content": {
        "cell": "0b995861-16fe-4e05-82af-942722b2b8a5",
        "part": "whole"
       },
       "id": "ece58640-4248-4877-b299-307b6e653523"
      }
     }
    },
    "5c6f1878-0940-4096-af36-fdb4a7d9ede0": {
     "id": "5c6f1878-0940-4096-af36-fdb4a7d9ede0",
     "prev": "1f8fb0e1-c162-4e43-a586-0b9c4d8edaa3",
     "regions": {
      "370189f5-f83d-40cd-a639-7ca1d76ede4a": {
       "attrs": {
        "height": 0.8,
        "width": 0.8,
        "x": 0.1,
        "y": 0.1
       },
       "content": {
        "cell": "d2cc8c68-792a-4ae2-a9ea-2b4ed0cf0b05",
        "part": "whole"
       },
       "id": "370189f5-f83d-40cd-a639-7ca1d76ede4a"
      }
     }
    },
    "61140f54-c8b6-41d9-8a6f-a4d48b48d6e2": {
     "id": "61140f54-c8b6-41d9-8a6f-a4d48b48d6e2",
     "prev": "dcce3e44-62e0-4f3f-9c1d-c2fbad624794",
     "regions": {
      "5a3a7a5b-32df-4140-9d11-49f309e3c0a6": {
       "attrs": {
        "height": 0.8,
        "width": 0.8,
        "x": 0.1,
        "y": 0.1
       },
       "content": {
        "cell": "41972d40-7d7f-4ca7-aa00-ca671d6cdbdf",
        "part": "whole"
       },
       "id": "5a3a7a5b-32df-4140-9d11-49f309e3c0a6"
      }
     }
    },
    "6232859f-668d-4b93-9493-60d664e463b6": {
     "id": "6232859f-668d-4b93-9493-60d664e463b6",
     "prev": "3d1d67d9-8dc5-405b-86f3-a1d5e757ca8e",
     "regions": {
      "72ef9e49-0168-48d0-bd97-e68365f169f2": {
       "attrs": {
        "height": 0.8,
        "width": 0.8,
        "x": 0.1,
        "y": 0.1
       },
       "content": {
        "cell": "eec77827-7625-478d-9b14-1301440a49d3",
        "part": "whole"
       },
       "id": "72ef9e49-0168-48d0-bd97-e68365f169f2"
      }
     }
    },
    "6486c74b-ec6d-4c5a-b03a-3a5f2e45833f": {
     "id": "6486c74b-ec6d-4c5a-b03a-3a5f2e45833f",
     "prev": "f8bff0a7-768a-4b4b-94dd-af7ae71bbec0",
     "regions": {
      "9b4b9c4e-a671-4202-aa82-058afa6daa04": {
       "attrs": {
        "height": 0.8,
        "width": 0.8,
        "x": 0.1,
        "y": 0.1
       },
       "content": {
        "cell": "84346729-52eb-4a3e-b8e5-c84f2aa7aff0",
        "part": "whole"
       },
       "id": "9b4b9c4e-a671-4202-aa82-058afa6daa04"
      }
     }
    },
    "686e1a5e-5e20-4aef-a42f-4bb0aeb93734": {
     "id": "686e1a5e-5e20-4aef-a42f-4bb0aeb93734",
     "prev": "0031a6d3-469d-458f-bbb4-bfc4e6388a69",
     "regions": {
      "9b611cc5-bb31-43dc-acb7-d28ec688b440": {
       "attrs": {
        "height": 0.8,
        "width": 0.8,
        "x": 0.1,
        "y": 0.1
       },
       "content": {
        "cell": "82b03893-15fd-4c47-94b5-cede2dbc08a1",
        "part": "whole"
       },
       "id": "9b611cc5-bb31-43dc-acb7-d28ec688b440"
      }
     }
    },
    "6951ba9e-9c81-48e2-9522-ebee26279403": {
     "id": "6951ba9e-9c81-48e2-9522-ebee26279403",
     "prev": "1e67d336-c2a3-4fd5-8519-f5ccafb20038",
     "regions": {
      "79275a59-1dc5-4d8c-a993-329b9f93491e": {
       "attrs": {
        "height": 0.8,
        "width": 0.8,
        "x": 0.1,
        "y": 0.1
       },
       "content": {
        "cell": "5e97239b-7dcb-473b-b202-e67e97ae6a11",
        "part": "whole"
       },
       "id": "79275a59-1dc5-4d8c-a993-329b9f93491e"
      }
     }
    },
    "69c533e6-bb54-4195-9b09-d3f61b994817": {
     "id": "69c533e6-bb54-4195-9b09-d3f61b994817",
     "prev": "a41c6a22-3577-4ffe-8113-b7707df5c4df",
     "regions": {
      "eb24f653-340e-4997-ad3b-0c32ad24a4de": {
       "attrs": {
        "height": 0.8,
        "width": 0.8,
        "x": 0.1,
        "y": 0.1
       },
       "content": {
        "cell": "08506037-289e-492d-823e-326e5db0805a",
        "part": "whole"
       },
       "id": "eb24f653-340e-4997-ad3b-0c32ad24a4de"
      }
     }
    },
    "6c53a35f-e61a-40aa-ae2d-2d933bee444c": {
     "id": "6c53a35f-e61a-40aa-ae2d-2d933bee444c",
     "prev": "dee8cab6-073e-430d-81f4-f095f0951905",
     "regions": {
      "ecb4cacf-c472-4d86-aaa7-5fa0fac5fd2a": {
       "attrs": {
        "height": 0.8,
        "width": 0.8,
        "x": 0.1,
        "y": 0.1
       },
       "content": {
        "cell": "5942b5c4-4586-4ec3-b258-57f8e15030c0",
        "part": "whole"
       },
       "id": "ecb4cacf-c472-4d86-aaa7-5fa0fac5fd2a"
      }
     }
    },
    "6d2288d5-26c2-42e6-a08b-e90893e96a8e": {
     "id": "6d2288d5-26c2-42e6-a08b-e90893e96a8e",
     "prev": "e564ab1c-78fa-4d74-b6f7-84432db5994a",
     "regions": {
      "aa44e2e5-ad9e-493b-b91d-b6af411cccc8": {
       "attrs": {
        "height": 0.8,
        "width": 0.8,
        "x": 0.1,
        "y": 0.1
       },
       "content": {
        "cell": "19935e16-e563-471b-999a-51266d60f5cc",
        "part": "whole"
       },
       "id": "aa44e2e5-ad9e-493b-b91d-b6af411cccc8"
      }
     }
    },
    "6fb0c059-4829-464f-81f3-d16c81e35f06": {
     "id": "6fb0c059-4829-464f-81f3-d16c81e35f06",
     "prev": "92b254a5-eb26-4c67-81dd-26b89ada9f73",
     "regions": {
      "cfbe5afe-02ba-499e-bbb9-b1638803e28e": {
       "attrs": {
        "height": 0.8,
        "width": 0.8,
        "x": 0.1,
        "y": 0.1
       },
       "content": {
        "cell": "81ff19ac-ec5d-48c4-b4e6-c7f260ec7383",
        "part": "whole"
       },
       "id": "cfbe5afe-02ba-499e-bbb9-b1638803e28e"
      }
     }
    },
    "717e7c21-855e-47e7-bd0b-b33b07676bd1": {
     "id": "717e7c21-855e-47e7-bd0b-b33b07676bd1",
     "prev": "61140f54-c8b6-41d9-8a6f-a4d48b48d6e2",
     "regions": {
      "56275142-45d1-4c86-8d0c-ed4991a614e8": {
       "attrs": {
        "height": 0.8,
        "width": 0.8,
        "x": 0.1,
        "y": 0.1
       },
       "content": {
        "cell": "eacce387-5940-4e84-87a0-830781aea3aa",
        "part": "whole"
       },
       "id": "56275142-45d1-4c86-8d0c-ed4991a614e8"
      }
     }
    },
    "7520f137-b6b0-4a0a-bf27-4a49c36970a1": {
     "id": "7520f137-b6b0-4a0a-bf27-4a49c36970a1",
     "prev": "1d6ba80d-d8a5-46ca-b721-5477771f0d19",
     "regions": {
      "5c3b5507-a687-4b69-bab0-13f1384196c5": {
       "attrs": {
        "height": 0.8,
        "width": 0.8,
        "x": 0.1,
        "y": 0.1
       },
       "content": {
        "cell": "bc2d8783-5048-40e0-ad8d-3106a955dba2",
        "part": "whole"
       },
       "id": "5c3b5507-a687-4b69-bab0-13f1384196c5"
      }
     }
    },
    "754e40e7-e0a2-4f41-8945-a5ced611f403": {
     "id": "754e40e7-e0a2-4f41-8945-a5ced611f403",
     "prev": "82db21f9-dd46-4144-99fd-7d87ebaa3e02",
     "regions": {
      "606d2548-1c51-4bdb-9452-dc2f3124944a": {
       "attrs": {
        "height": 0.8,
        "width": 0.8,
        "x": 0.1,
        "y": 0.1
       },
       "content": {
        "cell": "9a6745c1-a1f7-4dab-89af-a9b1543a82b9",
        "part": "whole"
       },
       "id": "606d2548-1c51-4bdb-9452-dc2f3124944a"
      }
     }
    },
    "77877504-91cc-47cf-8c92-552fdc7ed302": {
     "id": "77877504-91cc-47cf-8c92-552fdc7ed302",
     "prev": "01eeea67-34e4-4247-9427-02b2313672c2",
     "regions": {
      "f6d8255b-cda5-4ff2-b40d-fce4168d25d7": {
       "attrs": {
        "height": 0.8,
        "width": 0.8,
        "x": 0.1,
        "y": 0.1
       },
       "content": {
        "cell": "5969a61a-32de-4d32-a361-05a44918aa55",
        "part": "whole"
       },
       "id": "f6d8255b-cda5-4ff2-b40d-fce4168d25d7"
      }
     }
    },
    "783e06cb-c979-4ebb-b7a3-ef2a930ba0cf": {
     "id": "783e06cb-c979-4ebb-b7a3-ef2a930ba0cf",
     "prev": "c7be8cc5-25d4-4412-b01f-dcf4f65f9f9a",
     "regions": {
      "37b47a2b-6e3b-4f19-a84e-d9d1ee110bd9": {
       "attrs": {
        "height": 0.8,
        "width": 0.8,
        "x": 0.1,
        "y": 0.1
       },
       "content": {
        "cell": "2feb1d31-1f6f-4acb-af9a-bc7728b28f3b",
        "part": "whole"
       },
       "id": "37b47a2b-6e3b-4f19-a84e-d9d1ee110bd9"
      }
     }
    },
    "7a4eb192-c792-4536-b830-c6aab4a44b04": {
     "id": "7a4eb192-c792-4536-b830-c6aab4a44b04",
     "prev": "1395ae14-6707-4993-b6c9-d67c1f1d421b",
     "regions": {
      "0893fb7e-5717-4d04-9b51-37ba2367824e": {
       "attrs": {
        "height": 0.8,
        "width": 0.8,
        "x": 0.1,
        "y": 0.1
       },
       "content": {
        "cell": "a4163fd2-1b2b-4fed-8f7b-c4e1536f35ed",
        "part": "whole"
       },
       "id": "0893fb7e-5717-4d04-9b51-37ba2367824e"
      }
     }
    },
    "7cedbb3e-0318-489a-968b-cb7d64353010": {
     "id": "7cedbb3e-0318-489a-968b-cb7d64353010",
     "prev": "3feeaf4b-2154-48a5-b65b-657204f50fb5",
     "regions": {
      "b23764e5-0574-4c2e-ac42-f027c4792f89": {
       "attrs": {
        "height": 0.8,
        "width": 0.8,
        "x": 0.1,
        "y": 0.1
       },
       "content": {
        "cell": "6d8f4bc6-ef4a-4784-9366-e82f80d490f4",
        "part": "whole"
       },
       "id": "b23764e5-0574-4c2e-ac42-f027c4792f89"
      }
     }
    },
    "7e96f4f6-f8f0-4841-9b67-4ce33bdc8a15": {
     "id": "7e96f4f6-f8f0-4841-9b67-4ce33bdc8a15",
     "prev": "a40bb26b-a429-4b1e-b37b-1ae13641f3cd",
     "regions": {
      "fc23799a-2faf-42fd-957a-ddfc3d0f4c26": {
       "attrs": {
        "height": 0.8,
        "width": 0.8,
        "x": 0.1,
        "y": 0.1
       },
       "content": {
        "cell": "01ff440f-7203-4af4-973f-afb00683828e",
        "part": "whole"
       },
       "id": "fc23799a-2faf-42fd-957a-ddfc3d0f4c26"
      }
     }
    },
    "7e97fc6a-3c68-459d-b970-63dc0e31ab03": {
     "id": "7e97fc6a-3c68-459d-b970-63dc0e31ab03",
     "prev": "686e1a5e-5e20-4aef-a42f-4bb0aeb93734",
     "regions": {
      "e58a005b-4832-479c-b2cf-4d636ab1ba31": {
       "attrs": {
        "height": 0.8,
        "width": 0.8,
        "x": 0.1,
        "y": 0.1
       },
       "content": {
        "cell": "c617b6e7-c345-4f56-aae5-e113bd333f8a",
        "part": "whole"
       },
       "id": "e58a005b-4832-479c-b2cf-4d636ab1ba31"
      }
     }
    },
    "82856ed2-0388-4d10-b93d-40d30b5d2ba7": {
     "id": "82856ed2-0388-4d10-b93d-40d30b5d2ba7",
     "prev": "94ec77d5-840c-4f9e-b4cf-3e1f187c6d85",
     "regions": {
      "bfebd51c-12ac-450c-b0d7-f363ff0ba15c": {
       "attrs": {
        "height": 0.8,
        "width": 0.8,
        "x": 0.1,
        "y": 0.1
       },
       "content": {
        "cell": "76a42794-d703-40d6-ade1-4f1e99964f8a",
        "part": "whole"
       },
       "id": "bfebd51c-12ac-450c-b0d7-f363ff0ba15c"
      }
     }
    },
    "82db21f9-dd46-4144-99fd-7d87ebaa3e02": {
     "id": "82db21f9-dd46-4144-99fd-7d87ebaa3e02",
     "prev": "717e7c21-855e-47e7-bd0b-b33b07676bd1",
     "regions": {
      "c82b0a4e-82d4-4c9e-8f43-b365755fba35": {
       "attrs": {
        "height": 0.8,
        "width": 0.8,
        "x": 0.1,
        "y": 0.1
       },
       "content": {
        "cell": "829aa1b3-269f-4466-b456-d7581a78b73f",
        "part": "whole"
       },
       "id": "c82b0a4e-82d4-4c9e-8f43-b365755fba35"
      }
     }
    },
    "8384fc4c-5f16-4019-8c4f-2734c16961b2": {
     "id": "8384fc4c-5f16-4019-8c4f-2734c16961b2",
     "prev": "d98765b4-f4ae-4c04-bc56-6db784d99d00",
     "regions": {
      "6e44ab69-01ea-4b22-9449-8457040340e8": {
       "attrs": {
        "height": 0.8,
        "width": 0.8,
        "x": 0.1,
        "y": 0.1
       },
       "content": {
        "cell": "84a7f967-6040-4e28-8339-78a78882c42d",
        "part": "whole"
       },
       "id": "6e44ab69-01ea-4b22-9449-8457040340e8"
      }
     }
    },
    "857edb1b-c9ef-483b-8609-0ac248d7b90d": {
     "id": "857edb1b-c9ef-483b-8609-0ac248d7b90d",
     "prev": "2a551d41-b7eb-4586-b081-434e29b06b3d",
     "regions": {
      "884a94ed-78c1-40d9-8154-3b546171ff32": {
       "attrs": {
        "height": 0.8,
        "width": 0.8,
        "x": 0.1,
        "y": 0.1
       },
       "content": {
        "cell": "5e59004b-de34-4e84-957b-91021b8a2167",
        "part": "whole"
       },
       "id": "884a94ed-78c1-40d9-8154-3b546171ff32"
      }
     }
    },
    "8b7c20d8-b32b-44e9-9ca5-445dcdeeee9d": {
     "id": "8b7c20d8-b32b-44e9-9ca5-445dcdeeee9d",
     "prev": "3ec4ea3d-203e-493d-8303-f205f97888e3",
     "regions": {
      "2892726f-2ff0-4243-b621-a82d06d34b37": {
       "attrs": {
        "height": 0.8,
        "width": 0.8,
        "x": 0.1,
        "y": 0.1
       },
       "content": {
        "cell": "170039e4-f99e-4760-8af0-b8fef602a0d4",
        "part": "whole"
       },
       "id": "2892726f-2ff0-4243-b621-a82d06d34b37"
      }
     }
    },
    "8c1ae6b2-8026-4e50-be23-1dfe2a2c79b5": {
     "id": "8c1ae6b2-8026-4e50-be23-1dfe2a2c79b5",
     "prev": "2c354519-17b1-4ff0-afd3-194703590a87",
     "regions": {
      "2b421d10-daf0-4b86-9700-82ffb75e5d56": {
       "attrs": {
        "height": 0.8,
        "width": 0.8,
        "x": 0.1,
        "y": 0.1
       },
       "content": {
        "cell": "930f86f4-0d73-4c37-9f66-47d7c662f4af",
        "part": "whole"
       },
       "id": "2b421d10-daf0-4b86-9700-82ffb75e5d56"
      }
     }
    },
    "8d738ec3-bed5-4dc2-9440-efc094da3108": {
     "id": "8d738ec3-bed5-4dc2-9440-efc094da3108",
     "prev": "c43bcf30-6f40-4dde-9965-614a195bdff4",
     "regions": {
      "96762fec-baab-452f-8bd8-38e426cf5286": {
       "attrs": {
        "height": 0.8,
        "width": 0.8,
        "x": 0.1,
        "y": 0.1
       },
       "content": {
        "cell": "e7375134-1bb8-4ddb-bad7-402104f1f074",
        "part": "whole"
       },
       "id": "96762fec-baab-452f-8bd8-38e426cf5286"
      }
     }
    },
    "8e6037c3-5627-499f-aaba-ef6f2293da95": {
     "id": "8e6037c3-5627-499f-aaba-ef6f2293da95",
     "prev": "2d2393e8-56aa-43e9-a021-d2d1cb7ff3a2",
     "regions": {
      "7ab1ffa1-a705-4436-b6f9-630e210cc42f": {
       "attrs": {
        "height": 0.8,
        "width": 0.8,
        "x": 0.1,
        "y": 0.1
       },
       "content": {
        "cell": "ffca5edc-d993-4089-86ca-cacae1743e4b",
        "part": "whole"
       },
       "id": "7ab1ffa1-a705-4436-b6f9-630e210cc42f"
      }
     }
    },
    "92b254a5-eb26-4c67-81dd-26b89ada9f73": {
     "id": "92b254a5-eb26-4c67-81dd-26b89ada9f73",
     "prev": "b440630a-60a6-4234-9e2a-6be0ded0afd3",
     "regions": {
      "c8d9ef80-12d9-4216-ae13-e5a28d1bdf0a": {
       "attrs": {
        "height": 0.8,
        "width": 0.8,
        "x": 0.1,
        "y": 0.1
       },
       "content": {
        "cell": "eebf79d5-2b1f-4493-b88a-7ebc6db3617e",
        "part": "whole"
       },
       "id": "c8d9ef80-12d9-4216-ae13-e5a28d1bdf0a"
      }
     }
    },
    "93751b83-b08b-4b03-af0e-d2422a826a25": {
     "id": "93751b83-b08b-4b03-af0e-d2422a826a25",
     "prev": "2ea39b6b-a876-44fb-ac66-1a1d59411f00",
     "regions": {
      "446f0b9e-4eb1-4c78-804e-70973f7c414f": {
       "attrs": {
        "height": 0.8,
        "width": 0.8,
        "x": 0.1,
        "y": 0.1
       },
       "content": {
        "cell": "77bbcba9-127d-4f1e-a134-10f62c7521c2",
        "part": "whole"
       },
       "id": "446f0b9e-4eb1-4c78-804e-70973f7c414f"
      }
     }
    },
    "938d5313-828f-48b8-b230-62a9b0b0fccd": {
     "id": "938d5313-828f-48b8-b230-62a9b0b0fccd",
     "prev": null,
     "regions": {
      "7fed9cec-5a2d-40c6-b0ef-d4af14dd68c4": {
       "attrs": {
        "height": 0.8,
        "width": 0.8,
        "x": 0.1,
        "y": 0.1
       },
       "content": {
        "cell": "3607169b-80e0-4533-8ae7-953bbb99b9ff",
        "part": "whole"
       },
       "id": "7fed9cec-5a2d-40c6-b0ef-d4af14dd68c4"
      }
     }
    },
    "94ec77d5-840c-4f9e-b4cf-3e1f187c6d85": {
     "id": "94ec77d5-840c-4f9e-b4cf-3e1f187c6d85",
     "prev": "10dc63d1-294b-4d9f-b348-350902c5b671",
     "regions": {
      "ea552378-2540-452d-be1d-5f6a57486cce": {
       "attrs": {
        "height": 0.8,
        "width": 0.8,
        "x": 0.1,
        "y": 0.1
       },
       "content": {
        "cell": "a9b2ca9e-c0d7-45f0-a4f9-b0d0fa75106b",
        "part": "whole"
       },
       "id": "ea552378-2540-452d-be1d-5f6a57486cce"
      }
     }
    },
    "966a0114-db8a-4938-a13c-c6def7d8f23e": {
     "id": "966a0114-db8a-4938-a13c-c6def7d8f23e",
     "prev": "3de8bc2a-a01a-4140-9489-3a5d2d96f69a",
     "regions": {
      "a241976b-47bb-40ab-856c-109e7a2d6098": {
       "attrs": {
        "height": 0.8,
        "width": 0.8,
        "x": 0.1,
        "y": 0.1
       },
       "content": {
        "cell": "c8f49ad9-df5e-4aa1-8f7d-da89148bb86b",
        "part": "whole"
       },
       "id": "a241976b-47bb-40ab-856c-109e7a2d6098"
      }
     }
    },
    "96c40d9b-bb42-4ca1-9e61-9cb536c26a59": {
     "id": "96c40d9b-bb42-4ca1-9e61-9cb536c26a59",
     "prev": "a7e55906-f34c-47f7-81ca-56db673b50d7",
     "regions": {
      "329a6683-fba5-43c6-9afa-e8d93556fb86": {
       "attrs": {
        "height": 0.8,
        "width": 0.8,
        "x": 0.1,
        "y": 0.1
       },
       "content": {
        "cell": "192adf29-32ba-46de-8f60-d8cd92f39653",
        "part": "whole"
       },
       "id": "329a6683-fba5-43c6-9afa-e8d93556fb86"
      }
     }
    },
    "9880f915-c799-49a3-afd1-2dd5b0f99878": {
     "id": "9880f915-c799-49a3-afd1-2dd5b0f99878",
     "prev": "0e04d1c5-50cf-4d53-a0d1-53e2a9fba2d0",
     "regions": {
      "bed121c8-9b4b-4db9-94a7-bdea1ac1c154": {
       "attrs": {
        "height": 0.8,
        "width": 0.8,
        "x": 0.1,
        "y": 0.1
       },
       "content": {
        "cell": "d76c5b2b-454a-40ae-8542-b1fb183569c4",
        "part": "whole"
       },
       "id": "bed121c8-9b4b-4db9-94a7-bdea1ac1c154"
      }
     }
    },
    "9b78ee38-f6f9-48f1-b9c4-669c62dfd01b": {
     "id": "9b78ee38-f6f9-48f1-b9c4-669c62dfd01b",
     "prev": "93751b83-b08b-4b03-af0e-d2422a826a25",
     "regions": {
      "59b10982-0e91-4fea-b486-11f05457865a": {
       "attrs": {
        "height": 0.8,
        "width": 0.8,
        "x": 0.1,
        "y": 0.1
       },
       "content": {
        "cell": "01db7d5c-5f05-4c9c-a7b8-b506f60f17a3",
        "part": "whole"
       },
       "id": "59b10982-0e91-4fea-b486-11f05457865a"
      }
     }
    },
    "9babad04-83e5-44b0-b58c-94627818eab5": {
     "id": "9babad04-83e5-44b0-b58c-94627818eab5",
     "prev": "6951ba9e-9c81-48e2-9522-ebee26279403",
     "regions": {
      "a17d8a7c-ee6b-4702-b686-93f0ae939bfa": {
       "attrs": {
        "height": 0.8,
        "width": 0.8,
        "x": 0.1,
        "y": 0.1
       },
       "content": {
        "cell": "3fcb3202-095a-450a-bbbd-958bba23e449",
        "part": "whole"
       },
       "id": "a17d8a7c-ee6b-4702-b686-93f0ae939bfa"
      }
     }
    },
    "9d7981ed-12d2-46cf-827c-96c13ae008c8": {
     "id": "9d7981ed-12d2-46cf-827c-96c13ae008c8",
     "prev": "7e96f4f6-f8f0-4841-9b67-4ce33bdc8a15",
     "regions": {
      "2c741aa8-326c-444d-b336-b19194adfe8f": {
       "attrs": {
        "height": 0.8,
        "width": 0.8,
        "x": 0.1,
        "y": 0.1
       },
       "content": {
        "cell": "5271f40f-1894-4346-a5c9-44d086ef4369",
        "part": "whole"
       },
       "id": "2c741aa8-326c-444d-b336-b19194adfe8f"
      }
     }
    },
    "a31e0460-b065-447b-8274-91ad8c25a3ca": {
     "id": "a31e0460-b065-447b-8274-91ad8c25a3ca",
     "prev": "fc4bc550-6561-4e4f-9f78-d244817a60ce",
     "regions": {
      "04d4fde0-ac68-48c3-b2ab-7632cbbd5cf2": {
       "attrs": {
        "height": 0.8,
        "width": 0.8,
        "x": 0.1,
        "y": 0.1
       },
       "content": {
        "cell": "3d028781-e5d5-407c-a016-500ec6dc97b4",
        "part": "whole"
       },
       "id": "04d4fde0-ac68-48c3-b2ab-7632cbbd5cf2"
      }
     }
    },
    "a40bb26b-a429-4b1e-b37b-1ae13641f3cd": {
     "id": "a40bb26b-a429-4b1e-b37b-1ae13641f3cd",
     "prev": "f6a80504-f530-482c-ad9a-c4b849798d5e",
     "regions": {
      "b6efe838-9f49-4fc0-bcdb-e00d93d48dca": {
       "attrs": {
        "height": 0.8,
        "width": 0.8,
        "x": 0.1,
        "y": 0.1
       },
       "content": {
        "cell": "bc028c8d-f0d3-42ef-9a46-4fe0a85fac46",
        "part": "whole"
       },
       "id": "b6efe838-9f49-4fc0-bcdb-e00d93d48dca"
      }
     }
    },
    "a41c6a22-3577-4ffe-8113-b7707df5c4df": {
     "id": "a41c6a22-3577-4ffe-8113-b7707df5c4df",
     "prev": "6d2288d5-26c2-42e6-a08b-e90893e96a8e",
     "regions": {
      "8901287e-6ad8-4a8b-9d0e-0f8539a593fd": {
       "attrs": {
        "height": 0.8,
        "width": 0.8,
        "x": 0.1,
        "y": 0.1
       },
       "content": {
        "cell": "d372cb7a-e43e-43a5-9948-ae11121d3b2d",
        "part": "whole"
       },
       "id": "8901287e-6ad8-4a8b-9d0e-0f8539a593fd"
      }
     }
    },
    "a7e55906-f34c-47f7-81ca-56db673b50d7": {
     "id": "a7e55906-f34c-47f7-81ca-56db673b50d7",
     "prev": "d08d47d4-5111-4f75-a680-9ca8599ad84d",
     "regions": {
      "278fbe36-3911-4118-afbf-7bee9ced0184": {
       "attrs": {
        "height": 0.8,
        "width": 0.8,
        "x": 0.1,
        "y": 0.1
       },
       "content": {
        "cell": "33f3e7f1-f935-459c-8ae8-8bfbb9a90ff8",
        "part": "whole"
       },
       "id": "278fbe36-3911-4118-afbf-7bee9ced0184"
      }
     }
    },
    "a801e3f5-159d-4cc5-933e-5779f78c4820": {
     "id": "a801e3f5-159d-4cc5-933e-5779f78c4820",
     "prev": "ae2043e1-1905-4fd8-a775-45a8a05b889f",
     "regions": {
      "453bdaee-7845-43c9-9ee0-1df82e4e2d5b": {
       "attrs": {
        "height": 0.8,
        "width": 0.8,
        "x": 0.1,
        "y": 0.1
       },
       "content": {
        "cell": "ff975b20-f0d9-4a68-a199-cda3d2a35863",
        "part": "whole"
       },
       "id": "453bdaee-7845-43c9-9ee0-1df82e4e2d5b"
      }
     }
    },
    "a9ed4a5b-df94-4a59-a425-b990fcf6da01": {
     "id": "a9ed4a5b-df94-4a59-a425-b990fcf6da01",
     "prev": "7520f137-b6b0-4a0a-bf27-4a49c36970a1",
     "regions": {
      "bad49cbe-0a8d-4031-af1b-adf93ec04d27": {
       "attrs": {
        "height": 0.8,
        "width": 0.8,
        "x": 0.1,
        "y": 0.1
       },
       "content": {
        "cell": "1aced55c-e709-404f-8f26-929117c0a205",
        "part": "whole"
       },
       "id": "bad49cbe-0a8d-4031-af1b-adf93ec04d27"
      }
     }
    },
    "ad582387-c21e-4828-9105-a12d05b887b3": {
     "id": "ad582387-c21e-4828-9105-a12d05b887b3",
     "prev": "8b7c20d8-b32b-44e9-9ca5-445dcdeeee9d",
     "regions": {
      "26c60f17-3851-4b1f-a286-ff4033ec8f79": {
       "attrs": {
        "height": 0.8,
        "width": 0.8,
        "x": 0.1,
        "y": 0.1
       },
       "content": {
        "cell": "b8d0007a-f6e6-48c0-b4de-878ce643a5b9",
        "part": "whole"
       },
       "id": "26c60f17-3851-4b1f-a286-ff4033ec8f79"
      }
     }
    },
    "ae2043e1-1905-4fd8-a775-45a8a05b889f": {
     "id": "ae2043e1-1905-4fd8-a775-45a8a05b889f",
     "prev": "ad582387-c21e-4828-9105-a12d05b887b3",
     "regions": {
      "19396b87-3e44-4c34-8635-227a7262f449": {
       "attrs": {
        "height": 0.8,
        "width": 0.8,
        "x": 0.1,
        "y": 0.1
       },
       "content": {
        "cell": "ca3847ce-b650-4004-9880-7a854d768d5b",
        "part": "whole"
       },
       "id": "19396b87-3e44-4c34-8635-227a7262f449"
      }
     }
    },
    "b1bf7f0f-2b5d-43e6-80c3-c71ab3b588a1": {
     "id": "b1bf7f0f-2b5d-43e6-80c3-c71ab3b588a1",
     "prev": "6232859f-668d-4b93-9493-60d664e463b6",
     "regions": {
      "e2a9bf63-368d-4bac-ae7c-293dcd83e49f": {
       "attrs": {
        "height": 0.8,
        "width": 0.8,
        "x": 0.1,
        "y": 0.1
       },
       "content": {
        "cell": "ab03f8f5-b407-4df2-82f1-9c3ca7437339",
        "part": "whole"
       },
       "id": "e2a9bf63-368d-4bac-ae7c-293dcd83e49f"
      }
     }
    },
    "b2ec5b4e-4d77-4971-a2ca-a1ebc6688095": {
     "id": "b2ec5b4e-4d77-4971-a2ca-a1ebc6688095",
     "prev": "82856ed2-0388-4d10-b93d-40d30b5d2ba7",
     "regions": {
      "ceb52eba-23ca-4189-b1f9-65984538384a": {
       "attrs": {
        "height": 0.8,
        "width": 0.8,
        "x": 0.1,
        "y": 0.1
       },
       "content": {
        "cell": "2d4974fc-9153-4e86-9593-05befc343d17",
        "part": "whole"
       },
       "id": "ceb52eba-23ca-4189-b1f9-65984538384a"
      }
     }
    },
    "b382aec6-55a8-4e82-9edd-14eb25ee7e49": {
     "id": "b382aec6-55a8-4e82-9edd-14eb25ee7e49",
     "prev": "966a0114-db8a-4938-a13c-c6def7d8f23e",
     "regions": {
      "9d9667c3-d147-4fba-a4a3-ad620b2434c0": {
       "attrs": {
        "height": 0.8,
        "width": 0.8,
        "x": 0.1,
        "y": 0.1
       },
       "content": {
        "cell": "b7cfe1ec-2f25-4d1f-a94a-9add1f601aa8",
        "part": "whole"
       },
       "id": "9d9667c3-d147-4fba-a4a3-ad620b2434c0"
      }
     }
    },
    "b440630a-60a6-4234-9e2a-6be0ded0afd3": {
     "id": "b440630a-60a6-4234-9e2a-6be0ded0afd3",
     "prev": "cca8585c-f4f6-40fc-8e51-6beba8b1e16c",
     "regions": {
      "84828bc6-c4a7-49a3-ab50-677cec330796": {
       "attrs": {
        "height": 0.8,
        "width": 0.8,
        "x": 0.1,
        "y": 0.1
       },
       "content": {
        "cell": "c4a5bb86-1b2a-4989-b9db-da73d5d88889",
        "part": "whole"
       },
       "id": "84828bc6-c4a7-49a3-ab50-677cec330796"
      }
     }
    },
    "b9069f66-8f1e-4125-ad4b-55f4839228c2": {
     "id": "b9069f66-8f1e-4125-ad4b-55f4839228c2",
     "prev": "d0005bae-377a-48de-9de7-e1f07a8d9b41",
     "regions": {
      "6088398c-6f68-44e8-aebf-b2f7f3b55c65": {
       "attrs": {
        "height": 0.8,
        "width": 0.8,
        "x": 0.1,
        "y": 0.1
       },
       "content": {
        "cell": "81db8548-70fc-40fe-a6c8-42180542b9dc",
        "part": "whole"
       },
       "id": "6088398c-6f68-44e8-aebf-b2f7f3b55c65"
      }
     }
    },
    "b92daa4c-9b8b-47b5-b4dd-60d8effd9f9f": {
     "id": "b92daa4c-9b8b-47b5-b4dd-60d8effd9f9f",
     "prev": "ca04aeb4-eb1b-4c95-9995-6a9a35622836",
     "regions": {
      "5479bdfb-53be-4c00-ad35-31ddb2b94efa": {
       "attrs": {
        "height": 0.8,
        "width": 0.8,
        "x": 0.1,
        "y": 0.1
       },
       "content": {
        "cell": "c29e0939-ca4c-4f61-be9b-1c3eb0be8a2e",
        "part": "whole"
       },
       "id": "5479bdfb-53be-4c00-ad35-31ddb2b94efa"
      }
     }
    },
    "ba256700-2349-4def-b7a8-af19dcff4e25": {
     "id": "ba256700-2349-4def-b7a8-af19dcff4e25",
     "prev": "9880f915-c799-49a3-afd1-2dd5b0f99878",
     "regions": {
      "e8861cc9-f1d1-4883-936e-4e4aa50c9a36": {
       "attrs": {
        "height": 0.8,
        "width": 0.8,
        "x": 0.1,
        "y": 0.1
       },
       "content": {
        "cell": "e34f5c83-4277-40b0-9206-55b0c167b94a",
        "part": "whole"
       },
       "id": "e8861cc9-f1d1-4883-936e-4e4aa50c9a36"
      }
     }
    },
    "bab53e85-7e19-488d-a024-b68e329e22e5": {
     "id": "bab53e85-7e19-488d-a024-b68e329e22e5",
     "prev": "1679731d-3470-44a7-bda9-8202f14b51ff",
     "regions": {
      "1498d474-939b-457b-b4ef-6e9d2ccefe15": {
       "attrs": {
        "height": 0.8,
        "width": 0.8,
        "x": 0.1,
        "y": 0.1
       },
       "content": {
        "cell": "6a17dc8d-05c5-4b1d-8df8-abe8bf397834",
        "part": "whole"
       },
       "id": "1498d474-939b-457b-b4ef-6e9d2ccefe15"
      }
     }
    },
    "c43bcf30-6f40-4dde-9965-614a195bdff4": {
     "id": "c43bcf30-6f40-4dde-9965-614a195bdff4",
     "prev": "cad6a695-87ea-41ec-bc09-d63286422e73",
     "regions": {
      "bdbe44c1-7ca4-4286-a879-70543a6ecd68": {
       "attrs": {
        "height": 0.8,
        "width": 0.8,
        "x": 0.1,
        "y": 0.1
       },
       "content": {
        "cell": "a6211d55-81f1-4e26-81e1-dd9c3d6ee01f",
        "part": "whole"
       },
       "id": "bdbe44c1-7ca4-4286-a879-70543a6ecd68"
      }
     }
    },
    "c7be8cc5-25d4-4412-b01f-dcf4f65f9f9a": {
     "id": "c7be8cc5-25d4-4412-b01f-dcf4f65f9f9a",
     "prev": "b2ec5b4e-4d77-4971-a2ca-a1ebc6688095",
     "regions": {
      "ff66fb9b-fb6d-46ce-af87-a6d450dea6f8": {
       "attrs": {
        "height": 0.8,
        "width": 0.8,
        "x": 0.1,
        "y": 0.1
       },
       "content": {
        "cell": "807dfbc7-d3f5-4f08-8ffc-5d01ae6c5654",
        "part": "whole"
       },
       "id": "ff66fb9b-fb6d-46ce-af87-a6d450dea6f8"
      }
     }
    },
    "c9ef4e2c-8428-4b56-a13c-cc27b860c52a": {
     "id": "c9ef4e2c-8428-4b56-a13c-cc27b860c52a",
     "prev": "938d5313-828f-48b8-b230-62a9b0b0fccd",
     "regions": {
      "ca54ca5b-6647-4856-887d-ed386bb34969": {
       "attrs": {
        "height": 0.8,
        "width": 0.8,
        "x": 0.1,
        "y": 0.1
       },
       "content": {
        "cell": "50b1c5fb-a612-4883-be1b-81fd5e26e659",
        "part": "whole"
       },
       "id": "ca54ca5b-6647-4856-887d-ed386bb34969"
      }
     }
    },
    "ca04aeb4-eb1b-4c95-9995-6a9a35622836": {
     "id": "ca04aeb4-eb1b-4c95-9995-6a9a35622836",
     "prev": "7a4eb192-c792-4536-b830-c6aab4a44b04",
     "regions": {
      "33d568df-75b4-481d-9412-bd7dbe1a41ec": {
       "attrs": {
        "height": 0.8,
        "width": 0.8,
        "x": 0.1,
        "y": 0.1
       },
       "content": {
        "cell": "58c2dd84-4838-4077-99a4-ddfa7113b203",
        "part": "whole"
       },
       "id": "33d568df-75b4-481d-9412-bd7dbe1a41ec"
      }
     }
    },
    "cad6a695-87ea-41ec-bc09-d63286422e73": {
     "id": "cad6a695-87ea-41ec-bc09-d63286422e73",
     "prev": "da9f59aa-ef55-4b89-930f-f4d3763eb8a4",
     "regions": {
      "00207a9e-c7ba-4c8e-b4ea-11cac421df8f": {
       "attrs": {
        "height": 0.8,
        "width": 0.8,
        "x": 0.1,
        "y": 0.1
       },
       "content": {
        "cell": "6e488017-739e-49b0-8653-81e6be859ac3",
        "part": "whole"
       },
       "id": "00207a9e-c7ba-4c8e-b4ea-11cac421df8f"
      }
     }
    },
    "cca8585c-f4f6-40fc-8e51-6beba8b1e16c": {
     "id": "cca8585c-f4f6-40fc-8e51-6beba8b1e16c",
     "prev": "783e06cb-c979-4ebb-b7a3-ef2a930ba0cf",
     "regions": {
      "2c2d17c6-afee-486f-876a-e3b8e6415a61": {
       "attrs": {
        "height": 0.8,
        "width": 0.8,
        "x": 0.1,
        "y": 0.1
       },
       "content": {
        "cell": "4c75af72-8637-42c5-9ef1-937b351c4b89",
        "part": "whole"
       },
       "id": "2c2d17c6-afee-486f-876a-e3b8e6415a61"
      }
     }
    },
    "cd3a86c2-ce19-4287-a156-307ef25fd6b7": {
     "id": "cd3a86c2-ce19-4287-a156-307ef25fd6b7",
     "prev": "77877504-91cc-47cf-8c92-552fdc7ed302",
     "regions": {
      "8f04e5db-dc07-4b3f-9b26-2785d6440a37": {
       "attrs": {
        "height": 0.8,
        "width": 0.8,
        "x": 0.1,
        "y": 0.1
       },
       "content": {
        "cell": "6e3bc4a8-126f-4663-86c9-6db2c7c51713",
        "part": "whole"
       },
       "id": "8f04e5db-dc07-4b3f-9b26-2785d6440a37"
      }
     }
    },
    "ce3d565e-ab31-4137-bdc3-c046d52cbc58": {
     "id": "ce3d565e-ab31-4137-bdc3-c046d52cbc58",
     "prev": "0a01a37b-e27f-47dd-9afb-24e78eb009f1",
     "regions": {
      "50cb7e59-0c05-404a-832b-700046b5ebfc": {
       "attrs": {
        "height": 0.8,
        "width": 0.8,
        "x": 0.1,
        "y": 0.1
       },
       "content": {
        "cell": "96fb6c19-e94a-415c-b6db-2e9ad0330631",
        "part": "whole"
       },
       "id": "50cb7e59-0c05-404a-832b-700046b5ebfc"
      }
     }
    },
    "cfb6ef27-5ab4-402e-b0fb-f12af88485b6": {
     "id": "cfb6ef27-5ab4-402e-b0fb-f12af88485b6",
     "prev": "42e2b72f-1871-497c-a820-be941c3c824d",
     "regions": {
      "992bf062-356d-4ce8-b53f-bfd9f48ee6be": {
       "attrs": {
        "height": 0.8,
        "width": 0.8,
        "x": 0.1,
        "y": 0.1
       },
       "content": {
        "cell": "5b1df5f2-575b-4947-bfc1-5ad84ff8db3b",
        "part": "whole"
       },
       "id": "992bf062-356d-4ce8-b53f-bfd9f48ee6be"
      }
     }
    },
    "d0005bae-377a-48de-9de7-e1f07a8d9b41": {
     "id": "d0005bae-377a-48de-9de7-e1f07a8d9b41",
     "prev": "c9ef4e2c-8428-4b56-a13c-cc27b860c52a",
     "regions": {
      "00c78e21-be09-4ba0-b908-6dfa870809b6": {
       "attrs": {
        "height": 0.8,
        "width": 0.8,
        "x": 0.1,
        "y": 0.1
       },
       "content": {
        "cell": "eb308646-9fa7-4a18-9933-ca64bb28b655",
        "part": "whole"
       },
       "id": "00c78e21-be09-4ba0-b908-6dfa870809b6"
      }
     }
    },
    "d08d47d4-5111-4f75-a680-9ca8599ad84d": {
     "id": "d08d47d4-5111-4f75-a680-9ca8599ad84d",
     "prev": "45c556a3-accc-4d1a-a39a-7845a7a05baa",
     "regions": {
      "69a15c45-df07-47ca-a571-bd9ef7001d70": {
       "attrs": {
        "height": 0.8,
        "width": 0.8,
        "x": 0.1,
        "y": 0.1
       },
       "content": {
        "cell": "48f2f459-5464-4fd2-b02b-4bd9d55a49c9",
        "part": "whole"
       },
       "id": "69a15c45-df07-47ca-a571-bd9ef7001d70"
      }
     }
    },
    "d24a427a-356d-4455-8658-84e07d9a5ab0": {
     "id": "d24a427a-356d-4455-8658-84e07d9a5ab0",
     "prev": "d7355d27-d11c-4db4-9f10-3f61fa04ff68",
     "regions": {
      "658f7739-92cc-4da0-9167-bc8e4518de16": {
       "attrs": {
        "height": 0.8,
        "width": 0.8,
        "x": 0.1,
        "y": 0.1
       },
       "content": {
        "cell": "ae042b0b-6d71-4ae7-8823-d5ba90ea7861",
        "part": "whole"
       },
       "id": "658f7739-92cc-4da0-9167-bc8e4518de16"
      }
     }
    },
    "d3ff8b82-a2f5-46eb-b71c-f15558e81479": {
     "id": "d3ff8b82-a2f5-46eb-b71c-f15558e81479",
     "prev": "0ac0cb2a-c451-40b7-b65b-875b3f0cd238",
     "regions": {
      "969f7dc1-527e-49bd-af76-8c69fe7171b0": {
       "attrs": {
        "height": 0.8,
        "width": 0.8,
        "x": 0.1,
        "y": 0.1
       },
       "content": {
        "cell": "84ec1d97-a054-4fa0-a28d-6aee3e2e7abd",
        "part": "whole"
       },
       "id": "969f7dc1-527e-49bd-af76-8c69fe7171b0"
      }
     }
    },
    "d67b0258-dcde-4089-9a6f-4d2d925c03de": {
     "id": "d67b0258-dcde-4089-9a6f-4d2d925c03de",
     "prev": "0291c1b0-9b7f-4f7d-a47d-69ff25a08dd1",
     "regions": {
      "a4de910a-c71d-4f68-abb5-89bd30e6156d": {
       "attrs": {
        "height": 0.8,
        "width": 0.8,
        "x": 0.1,
        "y": 0.1
       },
       "content": {
        "cell": "b72e71f8-c516-410f-b9bb-c02d0a81da64",
        "part": "whole"
       },
       "id": "a4de910a-c71d-4f68-abb5-89bd30e6156d"
      }
     }
    },
    "d7355d27-d11c-4db4-9f10-3f61fa04ff68": {
     "id": "d7355d27-d11c-4db4-9f10-3f61fa04ff68",
     "prev": "24afd433-8948-41d6-961b-36b257b5e01d",
     "regions": {
      "7443eaf2-d61d-41b5-b65e-9b219abd5e90": {
       "attrs": {
        "height": 0.8,
        "width": 0.8,
        "x": 0.1,
        "y": 0.1
       },
       "content": {
        "cell": "d7ffb8d8-7d27-4dbc-95f4-67b0b4c81dae",
        "part": "whole"
       },
       "id": "7443eaf2-d61d-41b5-b65e-9b219abd5e90"
      }
     }
    },
    "d9073617-eb95-4ade-ae55-a696edf04f67": {
     "id": "d9073617-eb95-4ade-ae55-a696edf04f67",
     "prev": "5c6f1878-0940-4096-af36-fdb4a7d9ede0",
     "regions": {
      "dab8e720-4eee-401f-b3f1-d3253d7c59d6": {
       "attrs": {
        "height": 0.8,
        "width": 0.8,
        "x": 0.1,
        "y": 0.1
       },
       "content": {
        "cell": "f13ebf42-b016-4189-be23-cbaa9cefd430",
        "part": "whole"
       },
       "id": "dab8e720-4eee-401f-b3f1-d3253d7c59d6"
      }
     }
    },
    "d98765b4-f4ae-4c04-bc56-6db784d99d00": {
     "id": "d98765b4-f4ae-4c04-bc56-6db784d99d00",
     "prev": "f29a8762-8365-4886-8e8c-c76771567c85",
     "regions": {
      "aba114d9-2ca0-47aa-928e-a12cf2b1d487": {
       "attrs": {
        "height": 0.8,
        "width": 0.8,
        "x": 0.1,
        "y": 0.1
       },
       "content": {
        "cell": "7da60585-ff72-4a0a-b6e6-27826a77d2da",
        "part": "whole"
       },
       "id": "aba114d9-2ca0-47aa-928e-a12cf2b1d487"
      }
     }
    },
    "da9f59aa-ef55-4b89-930f-f4d3763eb8a4": {
     "id": "da9f59aa-ef55-4b89-930f-f4d3763eb8a4",
     "prev": "421eefbf-fcc1-4b90-9d3b-0652e93af232",
     "regions": {
      "782a6613-a994-45f0-8505-8e88cb89bf26": {
       "attrs": {
        "height": 0.8,
        "width": 0.8,
        "x": 0.1,
        "y": 0.1
       },
       "content": {
        "cell": "041e9a84-fd85-4313-9bae-3365d2dd5348",
        "part": "whole"
       },
       "id": "782a6613-a994-45f0-8505-8e88cb89bf26"
      }
     }
    },
    "dcce3e44-62e0-4f3f-9c1d-c2fbad624794": {
     "id": "dcce3e44-62e0-4f3f-9c1d-c2fbad624794",
     "prev": "b382aec6-55a8-4e82-9edd-14eb25ee7e49",
     "regions": {
      "8b9fd27c-dbc5-4193-8f31-4c20c463db0a": {
       "attrs": {
        "height": 0.8,
        "width": 0.8,
        "x": 0.1,
        "y": 0.1
       },
       "content": {
        "cell": "351e11ac-891f-489b-8a9d-924c00a0877c",
        "part": "whole"
       },
       "id": "8b9fd27c-dbc5-4193-8f31-4c20c463db0a"
      }
     }
    },
    "dee8cab6-073e-430d-81f4-f095f0951905": {
     "id": "dee8cab6-073e-430d-81f4-f095f0951905",
     "prev": "0efad0bb-b4e8-4e17-96fd-8d7686f4fa6c",
     "regions": {
      "56aa567a-5f08-4a0a-8ac1-15852e4c646a": {
       "attrs": {
        "height": 0.8,
        "width": 0.8,
        "x": 0.1,
        "y": 0.1
       },
       "content": {
        "cell": "3a88836a-b9e0-44cd-a449-aaf49f5a44bc",
        "part": "whole"
       },
       "id": "56aa567a-5f08-4a0a-8ac1-15852e4c646a"
      }
     }
    },
    "e47266b2-27fa-46e5-8fe8-b714784398ee": {
     "id": "e47266b2-27fa-46e5-8fe8-b714784398ee",
     "prev": "d3ff8b82-a2f5-46eb-b71c-f15558e81479",
     "regions": {
      "d0c4eb1a-5a25-4c73-b91d-700f45c725e2": {
       "attrs": {
        "height": 0.8,
        "width": 0.8,
        "x": 0.1,
        "y": 0.1
       },
       "content": {
        "cell": "43bf3115-9e13-4f3d-bdc6-f3c11a0a09ac",
        "part": "whole"
       },
       "id": "d0c4eb1a-5a25-4c73-b91d-700f45c725e2"
      }
     }
    },
    "e4c2826c-5536-4e3e-8e28-d190f6c132a2": {
     "id": "e4c2826c-5536-4e3e-8e28-d190f6c132a2",
     "prev": "6486c74b-ec6d-4c5a-b03a-3a5f2e45833f",
     "regions": {
      "e21c3712-621a-43e5-80ec-40ef147de460": {
       "attrs": {
        "height": 0.8,
        "width": 0.8,
        "x": 0.1,
        "y": 0.1
       },
       "content": {
        "cell": "928cb3c5-cb6f-446c-b7e0-099cfe214a09",
        "part": "whole"
       },
       "id": "e21c3712-621a-43e5-80ec-40ef147de460"
      }
     }
    },
    "e564ab1c-78fa-4d74-b6f7-84432db5994a": {
     "id": "e564ab1c-78fa-4d74-b6f7-84432db5994a",
     "prev": "ba256700-2349-4def-b7a8-af19dcff4e25",
     "regions": {
      "8f80c229-c002-423e-a872-d14020aeddf7": {
       "attrs": {
        "height": 0.8,
        "width": 0.8,
        "x": 0.1,
        "y": 0.1
       },
       "content": {
        "cell": "586a1166-95c7-419e-ac96-97ae44d6d079",
        "part": "whole"
       },
       "id": "8f80c229-c002-423e-a872-d14020aeddf7"
      }
     }
    },
    "e573bfe5-08e1-405d-b2c7-201ae6cced3c": {
     "id": "e573bfe5-08e1-405d-b2c7-201ae6cced3c",
     "prev": "5179d5f3-f7ba-4600-b166-111f9edaac0b",
     "regions": {
      "e0ae8507-66f9-4ca1-aea5-61c25e45a4ac": {
       "attrs": {
        "height": 0.8,
        "width": 0.8,
        "x": 0.1,
        "y": 0.1
       },
       "content": {
        "cell": "28aa6b97-9a57-4f65-b0cf-2b0463eee0bd",
        "part": "whole"
       },
       "id": "e0ae8507-66f9-4ca1-aea5-61c25e45a4ac"
      }
     }
    },
    "ee5d1786-0a98-42e1-ac57-0ddf4b67fedd": {
     "id": "ee5d1786-0a98-42e1-ac57-0ddf4b67fedd",
     "prev": "bab53e85-7e19-488d-a024-b68e329e22e5",
     "regions": {
      "204c0ed5-e44e-4b3a-92be-5a02accd98cb": {
       "attrs": {
        "height": 0.8,
        "width": 0.8,
        "x": 0.1,
        "y": 0.1
       },
       "content": {
        "cell": "c8f28c88-baec-4387-b399-faa1fd6784a9",
        "part": "whole"
       },
       "id": "204c0ed5-e44e-4b3a-92be-5a02accd98cb"
      }
     }
    },
    "f1bd0956-a91a-444c-8595-3d9b7629b478": {
     "id": "f1bd0956-a91a-444c-8595-3d9b7629b478",
     "prev": "a31e0460-b065-447b-8274-91ad8c25a3ca",
     "regions": {
      "3ecfc421-51e1-43f7-9b07-3906581ac58f": {
       "attrs": {
        "height": 0.8,
        "width": 0.8,
        "x": 0.1,
        "y": 0.1
       },
       "content": {
        "cell": "750d00f7-e656-43ec-b185-60baeee6a55f",
        "part": "whole"
       },
       "id": "3ecfc421-51e1-43f7-9b07-3906581ac58f"
      }
     }
    },
    "f29a8762-8365-4886-8e8c-c76771567c85": {
     "id": "f29a8762-8365-4886-8e8c-c76771567c85",
     "prev": "8d738ec3-bed5-4dc2-9440-efc094da3108",
     "regions": {
      "ed4846d3-e55d-417a-9643-9ecf4ce9c485": {
       "attrs": {
        "height": 0.8,
        "width": 0.8,
        "x": 0.1,
        "y": 0.1
       },
       "content": {
        "cell": "feab4373-01f5-40e6-9eb2-a81b1c8a9aa8",
        "part": "whole"
       },
       "id": "ed4846d3-e55d-417a-9643-9ecf4ce9c485"
      }
     }
    },
    "f6a80504-f530-482c-ad9a-c4b849798d5e": {
     "id": "f6a80504-f530-482c-ad9a-c4b849798d5e",
     "prev": "451c6283-9bb0-4b8d-bbf5-267c68472ea5",
     "regions": {
      "9cc636e5-ffe0-479d-b25c-c9e447960f2f": {
       "attrs": {
        "height": 0.8,
        "width": 0.8,
        "x": 0.1,
        "y": 0.1
       },
       "content": {
        "cell": "0ceb41a6-466e-44af-ba7d-544f6968d88f",
        "part": "whole"
       },
       "id": "9cc636e5-ffe0-479d-b25c-c9e447960f2f"
      }
     }
    },
    "f86124d9-e4e3-48ba-bdd3-557f09f5ad14": {
     "id": "f86124d9-e4e3-48ba-bdd3-557f09f5ad14",
     "prev": "e573bfe5-08e1-405d-b2c7-201ae6cced3c",
     "regions": {
      "f98934c8-ae69-4075-b6aa-23ee79e97eda": {
       "attrs": {
        "height": 0.8,
        "width": 0.8,
        "x": 0.1,
        "y": 0.1
       },
       "content": {
        "cell": "9abe4637-7178-4eda-ac88-589ce72ac2c9",
        "part": "whole"
       },
       "id": "f98934c8-ae69-4075-b6aa-23ee79e97eda"
      }
     }
    },
    "f8bff0a7-768a-4b4b-94dd-af7ae71bbec0": {
     "id": "f8bff0a7-768a-4b4b-94dd-af7ae71bbec0",
     "prev": "ce3d565e-ab31-4137-bdc3-c046d52cbc58",
     "regions": {
      "1ff90833-ef3e-4ad0-9bad-a942a977add4": {
       "attrs": {
        "height": 0.8,
        "width": 0.8,
        "x": 0.1,
        "y": 0.1
       },
       "content": {
        "cell": "cdbf80d0-dd51-4969-95b8-f46e90bf71e6",
        "part": "whole"
       },
       "id": "1ff90833-ef3e-4ad0-9bad-a942a977add4"
      }
     }
    },
    "fc4bc550-6561-4e4f-9f78-d244817a60ce": {
     "id": "fc4bc550-6561-4e4f-9f78-d244817a60ce",
     "prev": "69c533e6-bb54-4195-9b09-d3f61b994817",
     "regions": {
      "ab24d528-12eb-4a6a-ac87-221c9f6b9e1c": {
       "attrs": {
        "height": 0.8,
        "width": 0.8,
        "x": 0.1,
        "y": 0.1
       },
       "content": {
        "cell": "fada30aa-b1b9-4725-9d1a-ae907fbb1d54",
        "part": "whole"
       },
       "id": "ab24d528-12eb-4a6a-ac87-221c9f6b9e1c"
      }
     }
    }
   },
   "themes": {
    "default": "b46a01ab-db65-48b4-a8cc-b062b4478a68",
    "theme": {}
   }
  },
  "widgets": {
   "state": {
    "427d3b65a8294eeeb077d0227b9cec4e": {
     "views": [
      {
       "cell_index": 168
      }
     ]
    }
   },
   "version": "1.2.0"
  }
 },
 "nbformat": 4,
 "nbformat_minor": 1
}
