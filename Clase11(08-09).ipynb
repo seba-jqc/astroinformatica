{
 "cells": [
  {
   "cell_type": "markdown",
   "metadata": {},
   "source": [
    "# Overfitting, underfitting an bias-variance trade-off (Machine learning)\n",
    "\n",
    "### Overfitting\n",
    "* Uso de demasiados ptos de enrenamiento muy precisos, puede que no prediga correctamente datos no observados\n",
    "* Se puede reparar mediante regularización\n",
    "* Opción: usar parte de los datos para entrenamiento, y después comprobar efectividad del modelo con el resto de los datos no utilizados\n",
    "\n",
    "### Simplicidad y pureza\n",
    "* Modelos simples son menos precisos pero más robustos\n",
    "* Modelos complejos son más precisos pero menos robustos\n",
    "* privilegiar modelos simples por sobre complejos $\\Rightarrow$ Se quiere que puedan predecir mejor datos no observados"
   ]
  },
  {
   "cell_type": "markdown",
   "metadata": {},
   "source": [
    "# Tipos de aprendizaje\n",
    "* Supervisado $\\Rightarrow$ Datos etiquetados, mayor facilidad para separar clases. Iputs x e outputs y (se sabe como se correlacionan experimentalente ambos parámetros)\n",
    "* No supervisado $\\Rightarrow$ Datos sin etiquetar, se estudian clases por diferencias en los inputs x\n"
   ]
  },
  {
   "cell_type": "markdown",
   "metadata": {},
   "source": [
    "# Función de Costo y Errores\n",
    "* Lo más común es asignar clasificación binaria $\\Rightarrow$ 1 para \"si\", 0 para \"no\"\n",
    " \n",
    "### Errores \n",
    "1) Falso negativo: asignar valor 0 a un elemento que debería tener valor 1<br>\n",
    "2) Falso positivo: asignar valor 1 a un elemento que debería tener valor 0\n",
    "\n"
   ]
  },
  {
   "cell_type": "markdown",
   "metadata": {},
   "source": [
    "# Matriz de error (Confusión)\n",
    "* Sus elementos corresponden al número de veces en que una clase fue clasificada en otra clase $\\Rightarrow$ Si la clasificación fuera perfecta se obtiene una matriz diagonal\n"
   ]
  }
 ],
 "metadata": {
  "kernelspec": {
   "display_name": "Python [Root]",
   "language": "python",
   "name": "Python [Root]"
  },
  "language_info": {
   "codemirror_mode": {
    "name": "ipython",
    "version": 2
   },
   "file_extension": ".py",
   "mimetype": "text/x-python",
   "name": "python",
   "nbconvert_exporter": "python",
   "pygments_lexer": "ipython2",
   "version": "2.7.12"
  }
 },
 "nbformat": 4,
 "nbformat_minor": 0
}
